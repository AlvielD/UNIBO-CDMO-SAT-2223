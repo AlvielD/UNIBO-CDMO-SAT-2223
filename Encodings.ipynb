{
 "cells": [
  {
   "cell_type": "markdown",
   "id": "ab127bb5",
   "metadata": {},
   "source": [
    "# Z3 SAT Constraints Encodings"
   ]
  },
  {
   "cell_type": "markdown",
   "id": "6c77e099",
   "metadata": {},
   "source": [
    "In this notebook we are going to show several implementation in z3 of the cardinality constraints and show how they affect the efficiency of the solver. "
   ]
  },
  {
   "cell_type": "code",
   "execution_count": 34,
   "id": "c2a8c745",
   "metadata": {},
   "outputs": [],
   "source": [
    "from itertools import combinations\n",
    "from z3 import *\n",
    "from utils import *\n",
    "import math"
   ]
  },
  {
   "cell_type": "markdown",
   "id": "2e71b422",
   "metadata": {},
   "source": [
    "## At most one encodings"
   ]
  },
  {
   "cell_type": "markdown",
   "id": "21af5031",
   "metadata": {},
   "source": [
    "### Naive pairwise"
   ]
  },
  {
   "cell_type": "code",
   "execution_count": 57,
   "id": "c353b946",
   "metadata": {},
   "outputs": [],
   "source": [
    "def at_least_one_np(bool_vars):\n",
    "    return Or(bool_vars)\n",
    "\n",
    "def at_most_one_np(bool_vars):\n",
    "    return [Not(And(pair[0], pair[1])) for pair in combinations(bool_vars, 2)]\n",
    "\n",
    "def exactly_one_np(bool_vars):\n",
    "    return And(at_least_one_np(bool_vars), And(at_most_one_np(bool_vars)))"
   ]
  },
  {
   "cell_type": "markdown",
   "id": "73c8e955",
   "metadata": {},
   "source": [
    "### Sequential "
   ]
  },
  {
   "cell_type": "code",
   "execution_count": 132,
   "id": "ceb7a890",
   "metadata": {},
   "outputs": [],
   "source": [
    "def at_least_one_seq(bool_vars):\n",
    "    return at_least_one_np(bool_vars)\n",
    "\n",
    "def at_most_one_seq(bool_vars):\n",
    "    constraints = []\n",
    "    n = len(bool_vars)\n",
    "    s = [Bool(f\"s_{i}\") for i in range(n)]\n",
    "    starting_constraint = Or(Not(bool_vars[0]), s[0])\n",
    "    ending_constraint = Or(Not(bool_vars[-1]), Not(s[n-2]))\n",
    "    for i in range(1, n-1):\n",
    "        constraints.append(Or(Not(bool_vars[i]), s[i]))\n",
    "        constraints.append(Or(Not(bool_vars[i]), s[i-1]))\n",
    "        constraints.append(Or(Not(s[i-1]), s[i]))\n",
    "    return And(And(constraints), starting_constraint, ending_constraint)\n",
    "\n",
    "def exactly_one_seq(bool_vars):\n",
    "    return And(at_least_one_seq(bool_vars), at_most_one_seq(bool_vars))"
   ]
  },
  {
   "cell_type": "markdown",
   "id": "5bc7691d",
   "metadata": {},
   "source": [
    "### Bitwise"
   ]
  },
  {
   "cell_type": "code",
   "execution_count": 124,
   "id": "2a6225bb",
   "metadata": {},
   "outputs": [],
   "source": [
    "def at_least_one_bw(bool_vars):\n",
    "    return at_least_one_np(bool_vars)\n",
    "\n",
    "def at_most_one_bw(bool_vars):\n",
    "    constraints = []\n",
    "    n = len(bool_vars)\n",
    "    m = int(math.log2(n - 1))\n",
    "    r = [Bool(f\"r_{i}\") for i in range(m)]\n",
    "    for i in range(n):\n",
    "        local_constraints = []\n",
    "        for j in range(m):\n",
    "            i_binary = bin(i).split(\"b\")[-1]\n",
    "            if len(i_binary) < 2 * m:\n",
    "                i_binary = \"0\"*((2*m) - len(i_binary)) + i_binary\n",
    "            for k in i_binary:\n",
    "                if k == \"1\": \n",
    "                    local_constraints.append(Or(Not(bool_vars[i]), r[j]))\n",
    "                else:\n",
    "                    local_constraints.append(Or(Not(bool_vars[i]), Not(r[j])))\n",
    "        constraints.append(And(local_constraints))\n",
    "    return And(constraints)\n",
    "\n",
    "def exactly_one_bw(bool_vars):\n",
    "    return And(at_least_one_bw(bool_vars), at_most_one_bw(bool_vars)) "
   ]
  },
  {
   "cell_type": "markdown",
   "id": "bd789b97",
   "metadata": {},
   "source": [
    "### Heule "
   ]
  },
  {
   "cell_type": "code",
   "execution_count": 87,
   "id": "b34a1c7f",
   "metadata": {},
   "outputs": [],
   "source": [
    "def at_least_one_he(bool_vars):\n",
    "    return at_least_one_np(bool_vars)\n",
    "\n",
    "def at_most_one_he(bool_vars):\n",
    "    if len(bool_vars) <= 4:\n",
    "        return And(at_most_one_np(bool_vars))\n",
    "    y = Bool(\"y\")\n",
    "    print(bool_vars[:3] + [y])\n",
    "    print(bool_vars[3:] + [Not(y)])\n",
    "    return And(at_most_one_np(bool_vars[:3] + [y]), at_most_one_np(bool_vars[3:] + [Not(y)]))\n",
    "\n",
    "def exactly_one_he(bool_vars):\n",
    "    return And(at_most_one_he(bool_vars), at_least_one_he(bool_vars))"
   ]
  },
  {
   "cell_type": "markdown",
   "id": "01ca25c2",
   "metadata": {},
   "source": [
    "## Examples"
   ]
  },
  {
   "cell_type": "markdown",
   "id": "c308145d",
   "metadata": {},
   "source": [
    "### N-queens"
   ]
  },
  {
   "cell_type": "code",
   "execution_count": 119,
   "id": "f83af141",
   "metadata": {},
   "outputs": [],
   "source": [
    "def nqueens_sat(n):\n",
    "    # Create all the variables\n",
    "    p = [[Bool(f\"x_{i}_{j}\") for j in range(n)] for i in range(n)]\n",
    "\n",
    "    # Create the solver instance\n",
    "    s = Solver()\n",
    "\n",
    "    # At least one on each row and column\n",
    "    for i in range(n):\n",
    "        s.add(at_least_one(p[i]))\n",
    "        s.add(at_least_one([p[j][i] for j in range(n)]))\n",
    "\n",
    "    # At most one on each row and column\n",
    "    for i in range(n):\n",
    "        col_i = []\n",
    "        for j in range(n):\n",
    "            col_i += [p[j][i]]\n",
    "        s.add(at_most_one(p[i]))\n",
    "        s.add(at_most_one(col_i))\n",
    "\n",
    "    # Add the diagonal constraints\n",
    "    for i in range(n - 1):\n",
    "        diag_ru = []\n",
    "        diag_lu = []\n",
    "        diag_rl = []\n",
    "        diag_ll = []\n",
    "        for j in range(n - i):\n",
    "            diag_ru += [p[i + j][j]]\n",
    "            diag_lu += [p[n - 1 - (i + j)][j]]\n",
    "            diag_rl += [p[i + j][n - 1 - j]]\n",
    "            diag_ll += [p[n - 1 - (i + j)][n - 1 - j]]\n",
    "        s.add(at_most_one(diag_ru))\n",
    "        s.add(at_most_one(diag_lu))\n",
    "        s.add(at_most_one(diag_rl))\n",
    "        s.add(at_most_one(diag_ll))\n",
    "\n",
    "    s.check()\n",
    "\n",
    "    m = s.model()\n",
    "    return [(i, j) for i in range(n) for j in range(n) if m.evaluate(p[i][j])]"
   ]
  },
  {
   "cell_type": "code",
   "execution_count": 121,
   "id": "d96af091",
   "metadata": {},
   "outputs": [
    {
     "name": "stdout",
     "output_type": "stream",
     "text": [
      ". . . . . . . . . . . . . . . . . . . . . . . . . . . . . . . . . . . . ♛ . . . \n",
      ". . . . . . . . . . . . . . . . . ♛ . . . . . . . . . . . . . . . . . . . . . . \n",
      ". . . . . . . . . . . . . . . . . . . . . . ♛ . . . . . . . . . . . . . . . . . \n",
      ". . . . . . . . . . . . . . . . . . . . . . . . ♛ . . . . . . . . . . . . . . . \n",
      ". . . . . . . . . . . . . . . . ♛ . . . . . . . . . . . . . . . . . . . . . . . \n",
      ". . . . . . . . . . . . . . ♛ . . . . . . . . . . . . . . . . . . . . . . . . . \n",
      ". . . . . . . . . . . . . . . . . . . . . . . . . . . . . . . . . ♛ . . . . . . \n",
      ". . . . . . . . . . . . . . . . . . . . . . . . . . . . . . . ♛ . . . . . . . . \n",
      ". . . . . . . . . . . . . . . . . . . . . . . . . . . . . . . . . . ♛ . . . . . \n",
      ". . . . . . . . ♛ . . . . . . . . . . . . . . . . . . . . . . . . . . . . . . . \n",
      ". . ♛ . . . . . . . . . . . . . . . . . . . . . . . . . . . . . . . . . . . . . \n",
      ". . . . ♛ . . . . . . . . . . . . . . . . . . . . . . . . . . . . . . . . . . . \n",
      ". ♛ . . . . . . . . . . . . . . . . . . . . . . . . . . . . . . . . . . . . . . \n",
      ". . . ♛ . . . . . . . . . . . . . . . . . . . . . . . . . . . . . . . . . . . . \n",
      "♛ . . . . . . . . . . . . . . . . . . . . . . . . . . . . . . . . . . . . . . . \n",
      ". . . . . . . . . . . . . . . ♛ . . . . . . . . . . . . . . . . . . . . . . . . \n",
      ". . . . . . . ♛ . . . . . . . . . . . . . . . . . . . . . . . . . . . . . . . . \n",
      ". . . . . ♛ . . . . . . . . . . . . . . . . . . . . . . . . . . . . . . . . . . \n",
      ". . . . . . . . . . . . . . . . . . . ♛ . . . . . . . . . . . . . . . . . . . . \n",
      ". . . . . . ♛ . . . . . . . . . . . . . . . . . . . . . . . . . . . . . . . . . \n",
      ". . . . . . . . . . . . . . . . . . . . . . . . . . ♛ . . . . . . . . . . . . . \n",
      ". . . . . . . . . . . . . . . . . . . . . . . ♛ . . . . . . . . . . . . . . . . \n",
      ". . . . . . . . . . . . . . . . . . . . . . . . . . . . . . ♛ . . . . . . . . . \n",
      ". . . . . . . . . . . . . . . . . . ♛ . . . . . . . . . . . . . . . . . . . . . \n",
      ". . . . . . . . . . . . . . . . . . . . . . . . . . . . . . . . . . . . . . ♛ . \n",
      ". . . . . . . . . . . . . . . . . . . . . . . . . . . . ♛ . . . . . . . . . . . \n",
      ". . . . . . . . . ♛ . . . . . . . . . . . . . . . . . . . . . . . . . . . . . . \n",
      ". . . . . . . . . . . . . . . . . . . . . . . . . . . . . . . . ♛ . . . . . . . \n",
      ". . . . . . . . . . . . . . . . . . . . . . . . . . . . . . . . . . . . . . . ♛ \n",
      ". . . . . . . . . . . . . . . . . . . . . . . . . ♛ . . . . . . . . . . . . . . \n",
      ". . . . . . . . . . ♛ . . . . . . . . . . . . . . . . . . . . . . . . . . . . . \n",
      ". . . . . . . . . . . . . . . . . . . . . . . . . . . . . . . . . . . ♛ . . . . \n",
      ". . . . . . . . . . . . . . . . . . . . . . . . . . . . . ♛ . . . . . . . . . . \n",
      ". . . . . . . . . . . . . . . . . . . . . . . . . . . ♛ . . . . . . . . . . . . \n",
      ". . . . . . . . . . . ♛ . . . . . . . . . . . . . . . . . . . . . . . . . . . . \n",
      ". . . . . . . . . . . . . . . . . . . . ♛ . . . . . . . . . . . . . . . . . . . \n",
      ". . . . . . . . . . . . ♛ . . . . . . . . . . . . . . . . . . . . . . . . . . . \n",
      ". . . . . . . . . . . . . . . . . . . . . ♛ . . . . . . . . . . . . . . . . . . \n",
      ". . . . . . . . . . . . . ♛ . . . . . . . . . . . . . . . . . . . . . . . . . . \n",
      ". . . . . . . . . . . . . . . . . . . . . . . . . . . . . . . . . . . . . ♛ . . \n",
      "CPU times: user 18.3 s, sys: 210 ms, total: 18.6 s\n",
      "Wall time: 19.3 s\n"
     ]
    }
   ],
   "source": [
    "%%time\n",
    "at_most_one = at_most_one_np\n",
    "at_least_one = at_least_one_np \n",
    "exactly_one = exactly_one_np\n",
    "display_nqueens(nqueens_sat(40))"
   ]
  },
  {
   "cell_type": "code",
   "execution_count": 133,
   "id": "e4836e4d",
   "metadata": {},
   "outputs": [
    {
     "ename": "Z3Exception",
     "evalue": "model is not available",
     "output_type": "error",
     "traceback": [
      "\u001b[0;31m---------------------------------------------------------------------------\u001b[0m",
      "\u001b[0;31mZ3Exception\u001b[0m                               Traceback (most recent call last)",
      "\u001b[0;32m/Library/Frameworks/Python.framework/Versions/3.8/lib/python3.8/site-packages/z3/z3.py\u001b[0m in \u001b[0;36mmodel\u001b[0;34m(self)\u001b[0m\n\u001b[1;32m   7039\u001b[0m         \u001b[0;32mtry\u001b[0m\u001b[0;34m:\u001b[0m\u001b[0;34m\u001b[0m\u001b[0;34m\u001b[0m\u001b[0m\n\u001b[0;32m-> 7040\u001b[0;31m             \u001b[0;32mreturn\u001b[0m \u001b[0mModelRef\u001b[0m\u001b[0;34m(\u001b[0m\u001b[0mZ3_solver_get_model\u001b[0m\u001b[0;34m(\u001b[0m\u001b[0mself\u001b[0m\u001b[0;34m.\u001b[0m\u001b[0mctx\u001b[0m\u001b[0;34m.\u001b[0m\u001b[0mref\u001b[0m\u001b[0;34m(\u001b[0m\u001b[0;34m)\u001b[0m\u001b[0;34m,\u001b[0m \u001b[0mself\u001b[0m\u001b[0;34m.\u001b[0m\u001b[0msolver\u001b[0m\u001b[0;34m)\u001b[0m\u001b[0;34m,\u001b[0m \u001b[0mself\u001b[0m\u001b[0;34m.\u001b[0m\u001b[0mctx\u001b[0m\u001b[0;34m)\u001b[0m\u001b[0;34m\u001b[0m\u001b[0;34m\u001b[0m\u001b[0m\n\u001b[0m\u001b[1;32m   7041\u001b[0m         \u001b[0;32mexcept\u001b[0m \u001b[0mZ3Exception\u001b[0m\u001b[0;34m:\u001b[0m\u001b[0;34m\u001b[0m\u001b[0;34m\u001b[0m\u001b[0m\n",
      "\u001b[0;32m/Library/Frameworks/Python.framework/Versions/3.8/lib/python3.8/site-packages/z3/z3core.py\u001b[0m in \u001b[0;36mZ3_solver_get_model\u001b[0;34m(a0, a1, _elems)\u001b[0m\n\u001b[1;32m   3942\u001b[0m   \u001b[0mr\u001b[0m \u001b[0;34m=\u001b[0m \u001b[0m_elems\u001b[0m\u001b[0;34m.\u001b[0m\u001b[0mf\u001b[0m\u001b[0;34m(\u001b[0m\u001b[0ma0\u001b[0m\u001b[0;34m,\u001b[0m \u001b[0ma1\u001b[0m\u001b[0;34m)\u001b[0m\u001b[0;34m\u001b[0m\u001b[0;34m\u001b[0m\u001b[0m\n\u001b[0;32m-> 3943\u001b[0;31m   \u001b[0m_elems\u001b[0m\u001b[0;34m.\u001b[0m\u001b[0mCheck\u001b[0m\u001b[0;34m(\u001b[0m\u001b[0ma0\u001b[0m\u001b[0;34m)\u001b[0m\u001b[0;34m\u001b[0m\u001b[0;34m\u001b[0m\u001b[0m\n\u001b[0m\u001b[1;32m   3944\u001b[0m   \u001b[0;32mreturn\u001b[0m \u001b[0mr\u001b[0m\u001b[0;34m\u001b[0m\u001b[0;34m\u001b[0m\u001b[0m\n",
      "\u001b[0;32m/Library/Frameworks/Python.framework/Versions/3.8/lib/python3.8/site-packages/z3/z3core.py\u001b[0m in \u001b[0;36mCheck\u001b[0;34m(self, ctx)\u001b[0m\n\u001b[1;32m   1446\u001b[0m     \u001b[0;32mif\u001b[0m \u001b[0merr\u001b[0m \u001b[0;34m!=\u001b[0m \u001b[0mself\u001b[0m\u001b[0;34m.\u001b[0m\u001b[0mOK\u001b[0m\u001b[0;34m:\u001b[0m\u001b[0;34m\u001b[0m\u001b[0;34m\u001b[0m\u001b[0m\n\u001b[0;32m-> 1447\u001b[0;31m         \u001b[0;32mraise\u001b[0m \u001b[0mself\u001b[0m\u001b[0;34m.\u001b[0m\u001b[0mException\u001b[0m\u001b[0;34m(\u001b[0m\u001b[0mself\u001b[0m\u001b[0;34m.\u001b[0m\u001b[0mget_error_message\u001b[0m\u001b[0;34m(\u001b[0m\u001b[0mctx\u001b[0m\u001b[0;34m,\u001b[0m \u001b[0merr\u001b[0m\u001b[0;34m)\u001b[0m\u001b[0;34m)\u001b[0m\u001b[0;34m\u001b[0m\u001b[0;34m\u001b[0m\u001b[0m\n\u001b[0m\u001b[1;32m   1448\u001b[0m \u001b[0;34m\u001b[0m\u001b[0m\n",
      "\u001b[0;31mZ3Exception\u001b[0m: b'there is no current model'",
      "\nDuring handling of the above exception, another exception occurred:\n",
      "\u001b[0;31mZ3Exception\u001b[0m                               Traceback (most recent call last)",
      "\u001b[0;32m<timed exec>\u001b[0m in \u001b[0;36m<module>\u001b[0;34m\u001b[0m\n",
      "\u001b[0;32m<ipython-input-119-e6799a0adda2>\u001b[0m in \u001b[0;36mnqueens_sat\u001b[0;34m(n)\u001b[0m\n\u001b[1;32m     37\u001b[0m     \u001b[0ms\u001b[0m\u001b[0;34m.\u001b[0m\u001b[0mcheck\u001b[0m\u001b[0;34m(\u001b[0m\u001b[0;34m)\u001b[0m\u001b[0;34m\u001b[0m\u001b[0;34m\u001b[0m\u001b[0m\n\u001b[1;32m     38\u001b[0m \u001b[0;34m\u001b[0m\u001b[0m\n\u001b[0;32m---> 39\u001b[0;31m     \u001b[0mm\u001b[0m \u001b[0;34m=\u001b[0m \u001b[0ms\u001b[0m\u001b[0;34m.\u001b[0m\u001b[0mmodel\u001b[0m\u001b[0;34m(\u001b[0m\u001b[0;34m)\u001b[0m\u001b[0;34m\u001b[0m\u001b[0;34m\u001b[0m\u001b[0m\n\u001b[0m\u001b[1;32m     40\u001b[0m     \u001b[0;32mreturn\u001b[0m \u001b[0;34m[\u001b[0m\u001b[0;34m(\u001b[0m\u001b[0mi\u001b[0m\u001b[0;34m,\u001b[0m \u001b[0mj\u001b[0m\u001b[0;34m)\u001b[0m \u001b[0;32mfor\u001b[0m \u001b[0mi\u001b[0m \u001b[0;32min\u001b[0m \u001b[0mrange\u001b[0m\u001b[0;34m(\u001b[0m\u001b[0mn\u001b[0m\u001b[0;34m)\u001b[0m \u001b[0;32mfor\u001b[0m \u001b[0mj\u001b[0m \u001b[0;32min\u001b[0m \u001b[0mrange\u001b[0m\u001b[0;34m(\u001b[0m\u001b[0mn\u001b[0m\u001b[0;34m)\u001b[0m \u001b[0;32mif\u001b[0m \u001b[0mm\u001b[0m\u001b[0;34m.\u001b[0m\u001b[0mevaluate\u001b[0m\u001b[0;34m(\u001b[0m\u001b[0mp\u001b[0m\u001b[0;34m[\u001b[0m\u001b[0mi\u001b[0m\u001b[0;34m]\u001b[0m\u001b[0;34m[\u001b[0m\u001b[0mj\u001b[0m\u001b[0;34m]\u001b[0m\u001b[0;34m)\u001b[0m\u001b[0;34m]\u001b[0m\u001b[0;34m\u001b[0m\u001b[0;34m\u001b[0m\u001b[0m\n",
      "\u001b[0;32m/Library/Frameworks/Python.framework/Versions/3.8/lib/python3.8/site-packages/z3/z3.py\u001b[0m in \u001b[0;36mmodel\u001b[0;34m(self)\u001b[0m\n\u001b[1;32m   7040\u001b[0m             \u001b[0;32mreturn\u001b[0m \u001b[0mModelRef\u001b[0m\u001b[0;34m(\u001b[0m\u001b[0mZ3_solver_get_model\u001b[0m\u001b[0;34m(\u001b[0m\u001b[0mself\u001b[0m\u001b[0;34m.\u001b[0m\u001b[0mctx\u001b[0m\u001b[0;34m.\u001b[0m\u001b[0mref\u001b[0m\u001b[0;34m(\u001b[0m\u001b[0;34m)\u001b[0m\u001b[0;34m,\u001b[0m \u001b[0mself\u001b[0m\u001b[0;34m.\u001b[0m\u001b[0msolver\u001b[0m\u001b[0;34m)\u001b[0m\u001b[0;34m,\u001b[0m \u001b[0mself\u001b[0m\u001b[0;34m.\u001b[0m\u001b[0mctx\u001b[0m\u001b[0;34m)\u001b[0m\u001b[0;34m\u001b[0m\u001b[0;34m\u001b[0m\u001b[0m\n\u001b[1;32m   7041\u001b[0m         \u001b[0;32mexcept\u001b[0m \u001b[0mZ3Exception\u001b[0m\u001b[0;34m:\u001b[0m\u001b[0;34m\u001b[0m\u001b[0;34m\u001b[0m\u001b[0m\n\u001b[0;32m-> 7042\u001b[0;31m             \u001b[0;32mraise\u001b[0m \u001b[0mZ3Exception\u001b[0m\u001b[0;34m(\u001b[0m\u001b[0;34m\"model is not available\"\u001b[0m\u001b[0;34m)\u001b[0m\u001b[0;34m\u001b[0m\u001b[0;34m\u001b[0m\u001b[0m\n\u001b[0m\u001b[1;32m   7043\u001b[0m \u001b[0;34m\u001b[0m\u001b[0m\n\u001b[1;32m   7044\u001b[0m     \u001b[0;32mdef\u001b[0m \u001b[0mimport_model_converter\u001b[0m\u001b[0;34m(\u001b[0m\u001b[0mself\u001b[0m\u001b[0;34m,\u001b[0m \u001b[0mother\u001b[0m\u001b[0;34m)\u001b[0m\u001b[0;34m:\u001b[0m\u001b[0;34m\u001b[0m\u001b[0;34m\u001b[0m\u001b[0m\n",
      "\u001b[0;31mZ3Exception\u001b[0m: model is not available"
     ]
    }
   ],
   "source": [
    "%%time\n",
    "at_most_one = at_most_one_seq\n",
    "at_least_one = at_least_one_seq\n",
    "exactly_one = exactly_one_seq\n",
    "display_nqueens(nqueens_sat(8))"
   ]
  },
  {
   "cell_type": "code",
   "execution_count": 127,
   "id": "7b6efe70",
   "metadata": {},
   "outputs": [
    {
     "ename": "Z3Exception",
     "evalue": "model is not available",
     "output_type": "error",
     "traceback": [
      "\u001b[0;31m---------------------------------------------------------------------------\u001b[0m",
      "\u001b[0;31mZ3Exception\u001b[0m                               Traceback (most recent call last)",
      "\u001b[0;32m/Library/Frameworks/Python.framework/Versions/3.8/lib/python3.8/site-packages/z3/z3.py\u001b[0m in \u001b[0;36mmodel\u001b[0;34m(self)\u001b[0m\n\u001b[1;32m   7039\u001b[0m         \u001b[0;32mtry\u001b[0m\u001b[0;34m:\u001b[0m\u001b[0;34m\u001b[0m\u001b[0;34m\u001b[0m\u001b[0m\n\u001b[0;32m-> 7040\u001b[0;31m             \u001b[0;32mreturn\u001b[0m \u001b[0mModelRef\u001b[0m\u001b[0;34m(\u001b[0m\u001b[0mZ3_solver_get_model\u001b[0m\u001b[0;34m(\u001b[0m\u001b[0mself\u001b[0m\u001b[0;34m.\u001b[0m\u001b[0mctx\u001b[0m\u001b[0;34m.\u001b[0m\u001b[0mref\u001b[0m\u001b[0;34m(\u001b[0m\u001b[0;34m)\u001b[0m\u001b[0;34m,\u001b[0m \u001b[0mself\u001b[0m\u001b[0;34m.\u001b[0m\u001b[0msolver\u001b[0m\u001b[0;34m)\u001b[0m\u001b[0;34m,\u001b[0m \u001b[0mself\u001b[0m\u001b[0;34m.\u001b[0m\u001b[0mctx\u001b[0m\u001b[0;34m)\u001b[0m\u001b[0;34m\u001b[0m\u001b[0;34m\u001b[0m\u001b[0m\n\u001b[0m\u001b[1;32m   7041\u001b[0m         \u001b[0;32mexcept\u001b[0m \u001b[0mZ3Exception\u001b[0m\u001b[0;34m:\u001b[0m\u001b[0;34m\u001b[0m\u001b[0;34m\u001b[0m\u001b[0m\n",
      "\u001b[0;32m/Library/Frameworks/Python.framework/Versions/3.8/lib/python3.8/site-packages/z3/z3core.py\u001b[0m in \u001b[0;36mZ3_solver_get_model\u001b[0;34m(a0, a1, _elems)\u001b[0m\n\u001b[1;32m   3942\u001b[0m   \u001b[0mr\u001b[0m \u001b[0;34m=\u001b[0m \u001b[0m_elems\u001b[0m\u001b[0;34m.\u001b[0m\u001b[0mf\u001b[0m\u001b[0;34m(\u001b[0m\u001b[0ma0\u001b[0m\u001b[0;34m,\u001b[0m \u001b[0ma1\u001b[0m\u001b[0;34m)\u001b[0m\u001b[0;34m\u001b[0m\u001b[0;34m\u001b[0m\u001b[0m\n\u001b[0;32m-> 3943\u001b[0;31m   \u001b[0m_elems\u001b[0m\u001b[0;34m.\u001b[0m\u001b[0mCheck\u001b[0m\u001b[0;34m(\u001b[0m\u001b[0ma0\u001b[0m\u001b[0;34m)\u001b[0m\u001b[0;34m\u001b[0m\u001b[0;34m\u001b[0m\u001b[0m\n\u001b[0m\u001b[1;32m   3944\u001b[0m   \u001b[0;32mreturn\u001b[0m \u001b[0mr\u001b[0m\u001b[0;34m\u001b[0m\u001b[0;34m\u001b[0m\u001b[0m\n",
      "\u001b[0;32m/Library/Frameworks/Python.framework/Versions/3.8/lib/python3.8/site-packages/z3/z3core.py\u001b[0m in \u001b[0;36mCheck\u001b[0;34m(self, ctx)\u001b[0m\n\u001b[1;32m   1446\u001b[0m     \u001b[0;32mif\u001b[0m \u001b[0merr\u001b[0m \u001b[0;34m!=\u001b[0m \u001b[0mself\u001b[0m\u001b[0;34m.\u001b[0m\u001b[0mOK\u001b[0m\u001b[0;34m:\u001b[0m\u001b[0;34m\u001b[0m\u001b[0;34m\u001b[0m\u001b[0m\n\u001b[0;32m-> 1447\u001b[0;31m         \u001b[0;32mraise\u001b[0m \u001b[0mself\u001b[0m\u001b[0;34m.\u001b[0m\u001b[0mException\u001b[0m\u001b[0;34m(\u001b[0m\u001b[0mself\u001b[0m\u001b[0;34m.\u001b[0m\u001b[0mget_error_message\u001b[0m\u001b[0;34m(\u001b[0m\u001b[0mctx\u001b[0m\u001b[0;34m,\u001b[0m \u001b[0merr\u001b[0m\u001b[0;34m)\u001b[0m\u001b[0;34m)\u001b[0m\u001b[0;34m\u001b[0m\u001b[0;34m\u001b[0m\u001b[0m\n\u001b[0m\u001b[1;32m   1448\u001b[0m \u001b[0;34m\u001b[0m\u001b[0m\n",
      "\u001b[0;31mZ3Exception\u001b[0m: b'there is no current model'",
      "\nDuring handling of the above exception, another exception occurred:\n",
      "\u001b[0;31mZ3Exception\u001b[0m                               Traceback (most recent call last)",
      "\u001b[0;32m<timed exec>\u001b[0m in \u001b[0;36m<module>\u001b[0;34m\u001b[0m\n",
      "\u001b[0;32m<ipython-input-119-e6799a0adda2>\u001b[0m in \u001b[0;36mnqueens_sat\u001b[0;34m(n)\u001b[0m\n\u001b[1;32m     37\u001b[0m     \u001b[0ms\u001b[0m\u001b[0;34m.\u001b[0m\u001b[0mcheck\u001b[0m\u001b[0;34m(\u001b[0m\u001b[0;34m)\u001b[0m\u001b[0;34m\u001b[0m\u001b[0;34m\u001b[0m\u001b[0m\n\u001b[1;32m     38\u001b[0m \u001b[0;34m\u001b[0m\u001b[0m\n\u001b[0;32m---> 39\u001b[0;31m     \u001b[0mm\u001b[0m \u001b[0;34m=\u001b[0m \u001b[0ms\u001b[0m\u001b[0;34m.\u001b[0m\u001b[0mmodel\u001b[0m\u001b[0;34m(\u001b[0m\u001b[0;34m)\u001b[0m\u001b[0;34m\u001b[0m\u001b[0;34m\u001b[0m\u001b[0m\n\u001b[0m\u001b[1;32m     40\u001b[0m     \u001b[0;32mreturn\u001b[0m \u001b[0;34m[\u001b[0m\u001b[0;34m(\u001b[0m\u001b[0mi\u001b[0m\u001b[0;34m,\u001b[0m \u001b[0mj\u001b[0m\u001b[0;34m)\u001b[0m \u001b[0;32mfor\u001b[0m \u001b[0mi\u001b[0m \u001b[0;32min\u001b[0m \u001b[0mrange\u001b[0m\u001b[0;34m(\u001b[0m\u001b[0mn\u001b[0m\u001b[0;34m)\u001b[0m \u001b[0;32mfor\u001b[0m \u001b[0mj\u001b[0m \u001b[0;32min\u001b[0m \u001b[0mrange\u001b[0m\u001b[0;34m(\u001b[0m\u001b[0mn\u001b[0m\u001b[0;34m)\u001b[0m \u001b[0;32mif\u001b[0m \u001b[0mm\u001b[0m\u001b[0;34m.\u001b[0m\u001b[0mevaluate\u001b[0m\u001b[0;34m(\u001b[0m\u001b[0mp\u001b[0m\u001b[0;34m[\u001b[0m\u001b[0mi\u001b[0m\u001b[0;34m]\u001b[0m\u001b[0;34m[\u001b[0m\u001b[0mj\u001b[0m\u001b[0;34m]\u001b[0m\u001b[0;34m)\u001b[0m\u001b[0;34m]\u001b[0m\u001b[0;34m\u001b[0m\u001b[0;34m\u001b[0m\u001b[0m\n",
      "\u001b[0;32m/Library/Frameworks/Python.framework/Versions/3.8/lib/python3.8/site-packages/z3/z3.py\u001b[0m in \u001b[0;36mmodel\u001b[0;34m(self)\u001b[0m\n\u001b[1;32m   7040\u001b[0m             \u001b[0;32mreturn\u001b[0m \u001b[0mModelRef\u001b[0m\u001b[0;34m(\u001b[0m\u001b[0mZ3_solver_get_model\u001b[0m\u001b[0;34m(\u001b[0m\u001b[0mself\u001b[0m\u001b[0;34m.\u001b[0m\u001b[0mctx\u001b[0m\u001b[0;34m.\u001b[0m\u001b[0mref\u001b[0m\u001b[0;34m(\u001b[0m\u001b[0;34m)\u001b[0m\u001b[0;34m,\u001b[0m \u001b[0mself\u001b[0m\u001b[0;34m.\u001b[0m\u001b[0msolver\u001b[0m\u001b[0;34m)\u001b[0m\u001b[0;34m,\u001b[0m \u001b[0mself\u001b[0m\u001b[0;34m.\u001b[0m\u001b[0mctx\u001b[0m\u001b[0;34m)\u001b[0m\u001b[0;34m\u001b[0m\u001b[0;34m\u001b[0m\u001b[0m\n\u001b[1;32m   7041\u001b[0m         \u001b[0;32mexcept\u001b[0m \u001b[0mZ3Exception\u001b[0m\u001b[0;34m:\u001b[0m\u001b[0;34m\u001b[0m\u001b[0;34m\u001b[0m\u001b[0m\n\u001b[0;32m-> 7042\u001b[0;31m             \u001b[0;32mraise\u001b[0m \u001b[0mZ3Exception\u001b[0m\u001b[0;34m(\u001b[0m\u001b[0;34m\"model is not available\"\u001b[0m\u001b[0;34m)\u001b[0m\u001b[0;34m\u001b[0m\u001b[0;34m\u001b[0m\u001b[0m\n\u001b[0m\u001b[1;32m   7043\u001b[0m \u001b[0;34m\u001b[0m\u001b[0m\n\u001b[1;32m   7044\u001b[0m     \u001b[0;32mdef\u001b[0m \u001b[0mimport_model_converter\u001b[0m\u001b[0;34m(\u001b[0m\u001b[0mself\u001b[0m\u001b[0;34m,\u001b[0m \u001b[0mother\u001b[0m\u001b[0;34m)\u001b[0m\u001b[0;34m:\u001b[0m\u001b[0;34m\u001b[0m\u001b[0;34m\u001b[0m\u001b[0m\n",
      "\u001b[0;31mZ3Exception\u001b[0m: model is not available"
     ]
    }
   ],
   "source": [
    "%%time\n",
    "at_most_one = at_most_one_bw\n",
    "at_least_one = at_least_one_bw\n",
    "exactly_one = exactly_one_bw\n",
    "display_nqueens(nqueens_sat(8))"
   ]
  },
  {
   "cell_type": "code",
   "execution_count": 129,
   "id": "706877fb",
   "metadata": {},
   "outputs": [
    {
     "name": "stdout",
     "output_type": "stream",
     "text": [
      "[x_0_0, x_0_1, x_0_2, y]\n",
      "[x_0_3, x_0_4, x_0_5, x_0_6, x_0_7, Not(y)]\n"
     ]
    },
    {
     "ename": "Z3Exception",
     "evalue": "Python bool, int, long or float expected",
     "output_type": "error",
     "traceback": [
      "\u001b[0;31m---------------------------------------------------------------------------\u001b[0m",
      "\u001b[0;31mZ3Exception\u001b[0m                               Traceback (most recent call last)",
      "\u001b[0;32m<timed exec>\u001b[0m in \u001b[0;36m<module>\u001b[0;34m\u001b[0m\n",
      "\u001b[0;32m<ipython-input-119-e6799a0adda2>\u001b[0m in \u001b[0;36mnqueens_sat\u001b[0;34m(n)\u001b[0m\n\u001b[1;32m     16\u001b[0m         \u001b[0;32mfor\u001b[0m \u001b[0mj\u001b[0m \u001b[0;32min\u001b[0m \u001b[0mrange\u001b[0m\u001b[0;34m(\u001b[0m\u001b[0mn\u001b[0m\u001b[0;34m)\u001b[0m\u001b[0;34m:\u001b[0m\u001b[0;34m\u001b[0m\u001b[0;34m\u001b[0m\u001b[0m\n\u001b[1;32m     17\u001b[0m             \u001b[0mcol_i\u001b[0m \u001b[0;34m+=\u001b[0m \u001b[0;34m[\u001b[0m\u001b[0mp\u001b[0m\u001b[0;34m[\u001b[0m\u001b[0mj\u001b[0m\u001b[0;34m]\u001b[0m\u001b[0;34m[\u001b[0m\u001b[0mi\u001b[0m\u001b[0;34m]\u001b[0m\u001b[0;34m]\u001b[0m\u001b[0;34m\u001b[0m\u001b[0;34m\u001b[0m\u001b[0m\n\u001b[0;32m---> 18\u001b[0;31m         \u001b[0ms\u001b[0m\u001b[0;34m.\u001b[0m\u001b[0madd\u001b[0m\u001b[0;34m(\u001b[0m\u001b[0mat_most_one\u001b[0m\u001b[0;34m(\u001b[0m\u001b[0mp\u001b[0m\u001b[0;34m[\u001b[0m\u001b[0mi\u001b[0m\u001b[0;34m]\u001b[0m\u001b[0;34m)\u001b[0m\u001b[0;34m)\u001b[0m\u001b[0;34m\u001b[0m\u001b[0;34m\u001b[0m\u001b[0m\n\u001b[0m\u001b[1;32m     19\u001b[0m         \u001b[0ms\u001b[0m\u001b[0;34m.\u001b[0m\u001b[0madd\u001b[0m\u001b[0;34m(\u001b[0m\u001b[0mat_most_one\u001b[0m\u001b[0;34m(\u001b[0m\u001b[0mcol_i\u001b[0m\u001b[0;34m)\u001b[0m\u001b[0;34m)\u001b[0m\u001b[0;34m\u001b[0m\u001b[0;34m\u001b[0m\u001b[0m\n\u001b[1;32m     20\u001b[0m \u001b[0;34m\u001b[0m\u001b[0m\n",
      "\u001b[0;32m<ipython-input-87-faf6dec52bbf>\u001b[0m in \u001b[0;36mat_most_one_he\u001b[0;34m(bool_vars)\u001b[0m\n\u001b[1;32m      8\u001b[0m     \u001b[0mprint\u001b[0m\u001b[0;34m(\u001b[0m\u001b[0mbool_vars\u001b[0m\u001b[0;34m[\u001b[0m\u001b[0;34m:\u001b[0m\u001b[0;36m3\u001b[0m\u001b[0;34m]\u001b[0m \u001b[0;34m+\u001b[0m \u001b[0;34m[\u001b[0m\u001b[0my\u001b[0m\u001b[0;34m]\u001b[0m\u001b[0;34m)\u001b[0m\u001b[0;34m\u001b[0m\u001b[0;34m\u001b[0m\u001b[0m\n\u001b[1;32m      9\u001b[0m     \u001b[0mprint\u001b[0m\u001b[0;34m(\u001b[0m\u001b[0mbool_vars\u001b[0m\u001b[0;34m[\u001b[0m\u001b[0;36m3\u001b[0m\u001b[0;34m:\u001b[0m\u001b[0;34m]\u001b[0m \u001b[0;34m+\u001b[0m \u001b[0;34m[\u001b[0m\u001b[0mNot\u001b[0m\u001b[0;34m(\u001b[0m\u001b[0my\u001b[0m\u001b[0;34m)\u001b[0m\u001b[0;34m]\u001b[0m\u001b[0;34m)\u001b[0m\u001b[0;34m\u001b[0m\u001b[0;34m\u001b[0m\u001b[0m\n\u001b[0;32m---> 10\u001b[0;31m     \u001b[0;32mreturn\u001b[0m \u001b[0mAnd\u001b[0m\u001b[0;34m(\u001b[0m\u001b[0mat_most_one_np\u001b[0m\u001b[0;34m(\u001b[0m\u001b[0mbool_vars\u001b[0m\u001b[0;34m[\u001b[0m\u001b[0;34m:\u001b[0m\u001b[0;36m3\u001b[0m\u001b[0;34m]\u001b[0m \u001b[0;34m+\u001b[0m \u001b[0;34m[\u001b[0m\u001b[0my\u001b[0m\u001b[0;34m]\u001b[0m\u001b[0;34m)\u001b[0m\u001b[0;34m,\u001b[0m \u001b[0mat_most_one_np\u001b[0m\u001b[0;34m(\u001b[0m\u001b[0mbool_vars\u001b[0m\u001b[0;34m[\u001b[0m\u001b[0;36m3\u001b[0m\u001b[0;34m:\u001b[0m\u001b[0;34m]\u001b[0m \u001b[0;34m+\u001b[0m \u001b[0;34m[\u001b[0m\u001b[0mNot\u001b[0m\u001b[0;34m(\u001b[0m\u001b[0my\u001b[0m\u001b[0;34m)\u001b[0m\u001b[0;34m]\u001b[0m\u001b[0;34m)\u001b[0m\u001b[0;34m)\u001b[0m\u001b[0;34m\u001b[0m\u001b[0;34m\u001b[0m\u001b[0m\n\u001b[0m\u001b[1;32m     11\u001b[0m \u001b[0;34m\u001b[0m\u001b[0m\n\u001b[1;32m     12\u001b[0m \u001b[0;32mdef\u001b[0m \u001b[0mexactly_one_he\u001b[0m\u001b[0;34m(\u001b[0m\u001b[0mbool_vars\u001b[0m\u001b[0;34m)\u001b[0m\u001b[0;34m:\u001b[0m\u001b[0;34m\u001b[0m\u001b[0;34m\u001b[0m\u001b[0m\n",
      "\u001b[0;32m/Library/Frameworks/Python.framework/Versions/3.8/lib/python3.8/site-packages/z3/z3.py\u001b[0m in \u001b[0;36mAnd\u001b[0;34m(*args)\u001b[0m\n\u001b[1;32m   1841\u001b[0m         \u001b[0;32mreturn\u001b[0m \u001b[0m_probe_and\u001b[0m\u001b[0;34m(\u001b[0m\u001b[0margs\u001b[0m\u001b[0;34m,\u001b[0m \u001b[0mctx\u001b[0m\u001b[0;34m)\u001b[0m\u001b[0;34m\u001b[0m\u001b[0;34m\u001b[0m\u001b[0m\n\u001b[1;32m   1842\u001b[0m     \u001b[0;32melse\u001b[0m\u001b[0;34m:\u001b[0m\u001b[0;34m\u001b[0m\u001b[0;34m\u001b[0m\u001b[0m\n\u001b[0;32m-> 1843\u001b[0;31m         \u001b[0margs\u001b[0m \u001b[0;34m=\u001b[0m \u001b[0m_coerce_expr_list\u001b[0m\u001b[0;34m(\u001b[0m\u001b[0margs\u001b[0m\u001b[0;34m,\u001b[0m \u001b[0mctx\u001b[0m\u001b[0;34m)\u001b[0m\u001b[0;34m\u001b[0m\u001b[0;34m\u001b[0m\u001b[0m\n\u001b[0m\u001b[1;32m   1844\u001b[0m         \u001b[0m_args\u001b[0m\u001b[0;34m,\u001b[0m \u001b[0msz\u001b[0m \u001b[0;34m=\u001b[0m \u001b[0m_to_ast_array\u001b[0m\u001b[0;34m(\u001b[0m\u001b[0margs\u001b[0m\u001b[0;34m)\u001b[0m\u001b[0;34m\u001b[0m\u001b[0;34m\u001b[0m\u001b[0m\n\u001b[1;32m   1845\u001b[0m         \u001b[0;32mreturn\u001b[0m \u001b[0mBoolRef\u001b[0m\u001b[0;34m(\u001b[0m\u001b[0mZ3_mk_and\u001b[0m\u001b[0;34m(\u001b[0m\u001b[0mctx\u001b[0m\u001b[0;34m.\u001b[0m\u001b[0mref\u001b[0m\u001b[0;34m(\u001b[0m\u001b[0;34m)\u001b[0m\u001b[0;34m,\u001b[0m \u001b[0msz\u001b[0m\u001b[0;34m,\u001b[0m \u001b[0m_args\u001b[0m\u001b[0;34m)\u001b[0m\u001b[0;34m,\u001b[0m \u001b[0mctx\u001b[0m\u001b[0;34m)\u001b[0m\u001b[0;34m\u001b[0m\u001b[0;34m\u001b[0m\u001b[0m\n",
      "\u001b[0;32m/Library/Frameworks/Python.framework/Versions/3.8/lib/python3.8/site-packages/z3/z3.py\u001b[0m in \u001b[0;36m_coerce_expr_list\u001b[0;34m(alist, ctx)\u001b[0m\n\u001b[1;32m   1205\u001b[0m             \u001b[0;32mbreak\u001b[0m\u001b[0;34m\u001b[0m\u001b[0;34m\u001b[0m\u001b[0m\n\u001b[1;32m   1206\u001b[0m     \u001b[0;32mif\u001b[0m \u001b[0;32mnot\u001b[0m \u001b[0mhas_expr\u001b[0m\u001b[0;34m:\u001b[0m\u001b[0;34m\u001b[0m\u001b[0;34m\u001b[0m\u001b[0m\n\u001b[0;32m-> 1207\u001b[0;31m         \u001b[0malist\u001b[0m \u001b[0;34m=\u001b[0m \u001b[0;34m[\u001b[0m\u001b[0m_py2expr\u001b[0m\u001b[0;34m(\u001b[0m\u001b[0ma\u001b[0m\u001b[0;34m,\u001b[0m \u001b[0mctx\u001b[0m\u001b[0;34m)\u001b[0m \u001b[0;32mfor\u001b[0m \u001b[0ma\u001b[0m \u001b[0;32min\u001b[0m \u001b[0malist\u001b[0m\u001b[0;34m]\u001b[0m\u001b[0;34m\u001b[0m\u001b[0;34m\u001b[0m\u001b[0m\n\u001b[0m\u001b[1;32m   1208\u001b[0m     \u001b[0ms\u001b[0m \u001b[0;34m=\u001b[0m \u001b[0m_reduce\u001b[0m\u001b[0;34m(\u001b[0m\u001b[0m_coerce_expr_merge\u001b[0m\u001b[0;34m,\u001b[0m \u001b[0malist\u001b[0m\u001b[0;34m,\u001b[0m \u001b[0;32mNone\u001b[0m\u001b[0;34m)\u001b[0m\u001b[0;34m\u001b[0m\u001b[0;34m\u001b[0m\u001b[0m\n\u001b[1;32m   1209\u001b[0m     \u001b[0;32mreturn\u001b[0m \u001b[0;34m[\u001b[0m\u001b[0ms\u001b[0m\u001b[0;34m.\u001b[0m\u001b[0mcast\u001b[0m\u001b[0;34m(\u001b[0m\u001b[0ma\u001b[0m\u001b[0;34m)\u001b[0m \u001b[0;32mfor\u001b[0m \u001b[0ma\u001b[0m \u001b[0;32min\u001b[0m \u001b[0malist\u001b[0m\u001b[0;34m]\u001b[0m\u001b[0;34m\u001b[0m\u001b[0;34m\u001b[0m\u001b[0m\n",
      "\u001b[0;32m/Library/Frameworks/Python.framework/Versions/3.8/lib/python3.8/site-packages/z3/z3.py\u001b[0m in \u001b[0;36m<listcomp>\u001b[0;34m(.0)\u001b[0m\n\u001b[1;32m   1205\u001b[0m             \u001b[0;32mbreak\u001b[0m\u001b[0;34m\u001b[0m\u001b[0;34m\u001b[0m\u001b[0m\n\u001b[1;32m   1206\u001b[0m     \u001b[0;32mif\u001b[0m \u001b[0;32mnot\u001b[0m \u001b[0mhas_expr\u001b[0m\u001b[0;34m:\u001b[0m\u001b[0;34m\u001b[0m\u001b[0;34m\u001b[0m\u001b[0m\n\u001b[0;32m-> 1207\u001b[0;31m         \u001b[0malist\u001b[0m \u001b[0;34m=\u001b[0m \u001b[0;34m[\u001b[0m\u001b[0m_py2expr\u001b[0m\u001b[0;34m(\u001b[0m\u001b[0ma\u001b[0m\u001b[0;34m,\u001b[0m \u001b[0mctx\u001b[0m\u001b[0;34m)\u001b[0m \u001b[0;32mfor\u001b[0m \u001b[0ma\u001b[0m \u001b[0;32min\u001b[0m \u001b[0malist\u001b[0m\u001b[0;34m]\u001b[0m\u001b[0;34m\u001b[0m\u001b[0;34m\u001b[0m\u001b[0m\n\u001b[0m\u001b[1;32m   1208\u001b[0m     \u001b[0ms\u001b[0m \u001b[0;34m=\u001b[0m \u001b[0m_reduce\u001b[0m\u001b[0;34m(\u001b[0m\u001b[0m_coerce_expr_merge\u001b[0m\u001b[0;34m,\u001b[0m \u001b[0malist\u001b[0m\u001b[0;34m,\u001b[0m \u001b[0;32mNone\u001b[0m\u001b[0;34m)\u001b[0m\u001b[0;34m\u001b[0m\u001b[0;34m\u001b[0m\u001b[0m\n\u001b[1;32m   1209\u001b[0m     \u001b[0;32mreturn\u001b[0m \u001b[0;34m[\u001b[0m\u001b[0ms\u001b[0m\u001b[0;34m.\u001b[0m\u001b[0mcast\u001b[0m\u001b[0;34m(\u001b[0m\u001b[0ma\u001b[0m\u001b[0;34m)\u001b[0m \u001b[0;32mfor\u001b[0m \u001b[0ma\u001b[0m \u001b[0;32min\u001b[0m \u001b[0malist\u001b[0m\u001b[0;34m]\u001b[0m\u001b[0;34m\u001b[0m\u001b[0;34m\u001b[0m\u001b[0m\n",
      "\u001b[0;32m/Library/Frameworks/Python.framework/Versions/3.8/lib/python3.8/site-packages/z3/z3.py\u001b[0m in \u001b[0;36m_py2expr\u001b[0;34m(a, ctx)\u001b[0m\n\u001b[1;32m   3097\u001b[0m         \u001b[0;32mreturn\u001b[0m \u001b[0ma\u001b[0m\u001b[0;34m\u001b[0m\u001b[0;34m\u001b[0m\u001b[0m\n\u001b[1;32m   3098\u001b[0m     \u001b[0;32mif\u001b[0m \u001b[0mz3_debug\u001b[0m\u001b[0;34m(\u001b[0m\u001b[0;34m)\u001b[0m\u001b[0;34m:\u001b[0m\u001b[0;34m\u001b[0m\u001b[0;34m\u001b[0m\u001b[0m\n\u001b[0;32m-> 3099\u001b[0;31m         \u001b[0m_z3_assert\u001b[0m\u001b[0;34m(\u001b[0m\u001b[0;32mFalse\u001b[0m\u001b[0;34m,\u001b[0m \u001b[0;34m\"Python bool, int, long or float expected\"\u001b[0m\u001b[0;34m)\u001b[0m\u001b[0;34m\u001b[0m\u001b[0;34m\u001b[0m\u001b[0m\n\u001b[0m\u001b[1;32m   3100\u001b[0m \u001b[0;34m\u001b[0m\u001b[0m\n\u001b[1;32m   3101\u001b[0m \u001b[0;34m\u001b[0m\u001b[0m\n",
      "\u001b[0;32m/Library/Frameworks/Python.framework/Versions/3.8/lib/python3.8/site-packages/z3/z3.py\u001b[0m in \u001b[0;36m_z3_assert\u001b[0;34m(cond, msg)\u001b[0m\n\u001b[1;32m    110\u001b[0m \u001b[0;32mdef\u001b[0m \u001b[0m_z3_assert\u001b[0m\u001b[0;34m(\u001b[0m\u001b[0mcond\u001b[0m\u001b[0;34m,\u001b[0m \u001b[0mmsg\u001b[0m\u001b[0;34m)\u001b[0m\u001b[0;34m:\u001b[0m\u001b[0;34m\u001b[0m\u001b[0;34m\u001b[0m\u001b[0m\n\u001b[1;32m    111\u001b[0m     \u001b[0;32mif\u001b[0m \u001b[0;32mnot\u001b[0m \u001b[0mcond\u001b[0m\u001b[0;34m:\u001b[0m\u001b[0;34m\u001b[0m\u001b[0;34m\u001b[0m\u001b[0m\n\u001b[0;32m--> 112\u001b[0;31m         \u001b[0;32mraise\u001b[0m \u001b[0mZ3Exception\u001b[0m\u001b[0;34m(\u001b[0m\u001b[0mmsg\u001b[0m\u001b[0;34m)\u001b[0m\u001b[0;34m\u001b[0m\u001b[0;34m\u001b[0m\u001b[0m\n\u001b[0m\u001b[1;32m    113\u001b[0m \u001b[0;34m\u001b[0m\u001b[0m\n\u001b[1;32m    114\u001b[0m \u001b[0;34m\u001b[0m\u001b[0m\n",
      "\u001b[0;31mZ3Exception\u001b[0m: Python bool, int, long or float expected"
     ]
    }
   ],
   "source": [
    "%%time\n",
    "at_most_one = at_most_one_he\n",
    "at_least_one = at_least_one_he\n",
    "exactly_one = exactly_one_he\n",
    "display_nqueens(nqueens_sat(8))"
   ]
  },
  {
   "cell_type": "markdown",
   "id": "ed234e40",
   "metadata": {},
   "source": [
    "### Coloring graph"
   ]
  },
  {
   "cell_type": "code",
   "execution_count": 134,
   "id": "dd4d7e7a",
   "metadata": {},
   "outputs": [],
   "source": [
    "def coloring_graph_sat(n, d, E):\n",
    "    print(exactly_one)\n",
    "    # Create the variables, x_i_j = 1 iff vertex i is colored with color j.\n",
    "    v = [[Bool(f\"x_{i}_{j}\") for j in range(d)] for i in range(n)]\n",
    "    \n",
    "    # Solver instance\n",
    "    s = Solver()\n",
    "    \n",
    "    # Each vertex has one color \n",
    "    for i in range(n):\n",
    "        s.add(exactly_one(v[i]))\n",
    "    \n",
    "    # Each edge must have different colors in its vertices\n",
    "    for i, j in E:\n",
    "        for k in range(d):\n",
    "            s.add(Or(Not(v[i][k]), Not(v[j][k])))\n",
    "    \n",
    "    s.check()\n",
    "    m = s.model()\n",
    "    \n",
    "    return [(i, j) for i in range(n) for j in range(d) if m.evaluate(v[i][j])]    "
   ]
  },
  {
   "cell_type": "code",
   "execution_count": 135,
   "id": "72784b0c",
   "metadata": {},
   "outputs": [],
   "source": [
    "instance1 = {\n",
    "        \"n\" : 5,\n",
    "        \"d\": 3,\n",
    "        \"E\" : [\n",
    "            (0, 2),\n",
    "            (0, 4),\n",
    "            (1, 2),\n",
    "            (1, 4),\n",
    "            (2, 3), \n",
    "            (3, 4)\n",
    "        ]\n",
    "    }\n",
    "instance2 = {\n",
    "        \"n\":10,\n",
    "        \"d\":3,\n",
    "        \"E\":[\n",
    "            (0, 1),\n",
    "            (0, 4),\n",
    "            (0, 5),\n",
    "            (1, 2),\n",
    "            (1, 6),\n",
    "            (2, 7),\n",
    "            (2, 3),\n",
    "            (3, 8),\n",
    "            (3, 4),\n",
    "            (4, 9),\n",
    "            (9, 6),\n",
    "            (9, 7),\n",
    "            (6, 8),\n",
    "            (5, 7),\n",
    "            (5, 8), \n",
    "        ]\n",
    "}\n",
    "instance3 = {\n",
    "        \"n\":15,\n",
    "        \"d\":5,\n",
    "        \"E\":[\n",
    "            (0, 1),\n",
    "            (0, 4),\n",
    "            (0, 5),\n",
    "            (1, 2),\n",
    "            (1, 6),\n",
    "            (2, 7),\n",
    "            (2, 3),\n",
    "            (3, 8),\n",
    "            (3, 4),\n",
    "            (4, 9),\n",
    "            (9, 6),\n",
    "            (9, 7),\n",
    "            (6, 8),\n",
    "            (5, 7),\n",
    "            (5, 8), \n",
    "        ]\n",
    "}"
   ]
  },
  {
   "cell_type": "code",
   "execution_count": 136,
   "id": "3e1ec924",
   "metadata": {},
   "outputs": [],
   "source": [
    "instance = instance2"
   ]
  },
  {
   "cell_type": "code",
   "execution_count": 97,
   "id": "0fcdc009",
   "metadata": {},
   "outputs": [
    {
     "name": "stdout",
     "output_type": "stream",
     "text": [
      "<function exactly_one_np at 0x7feca69b60d0>\n",
      "CPU times: user 162 ms, sys: 4.75 ms, total: 167 ms\n",
      "Wall time: 183 ms\n"
     ]
    },
    {
     "data": {
      "image/png": "[encoded data removed]",
      "text/plain": [
       "<Figure size 432x288 with 1 Axes>"
      ]
     },
     "metadata": {},
     "output_type": "display_data"
    }
   ],
   "source": [
    "%%time\n",
    "at_most_one = at_most_one_np\n",
    "at_least_one = at_least_one_np \n",
    "exactly_one = exactly_one_np\n",
    "display_color_graph(sol = coloring_graph_sat(instance[\"n\"], instance[\"d\"], instance[\"E\"]), E = instance[\"E\"])"
   ]
  },
  {
   "cell_type": "code",
   "execution_count": 137,
   "id": "1120505e",
   "metadata": {},
   "outputs": [
    {
     "name": "stdout",
     "output_type": "stream",
     "text": [
      "<function exactly_one_seq at 0x7feca7f39a60>\n"
     ]
    },
    {
     "ename": "Z3Exception",
     "evalue": "model is not available",
     "output_type": "error",
     "traceback": [
      "\u001b[0;31m---------------------------------------------------------------------------\u001b[0m",
      "\u001b[0;31mZ3Exception\u001b[0m                               Traceback (most recent call last)",
      "\u001b[0;32m/Library/Frameworks/Python.framework/Versions/3.8/lib/python3.8/site-packages/z3/z3.py\u001b[0m in \u001b[0;36mmodel\u001b[0;34m(self)\u001b[0m\n\u001b[1;32m   7039\u001b[0m         \u001b[0;32mtry\u001b[0m\u001b[0;34m:\u001b[0m\u001b[0;34m\u001b[0m\u001b[0;34m\u001b[0m\u001b[0m\n\u001b[0;32m-> 7040\u001b[0;31m             \u001b[0;32mreturn\u001b[0m \u001b[0mModelRef\u001b[0m\u001b[0;34m(\u001b[0m\u001b[0mZ3_solver_get_model\u001b[0m\u001b[0;34m(\u001b[0m\u001b[0mself\u001b[0m\u001b[0;34m.\u001b[0m\u001b[0mctx\u001b[0m\u001b[0;34m.\u001b[0m\u001b[0mref\u001b[0m\u001b[0;34m(\u001b[0m\u001b[0;34m)\u001b[0m\u001b[0;34m,\u001b[0m \u001b[0mself\u001b[0m\u001b[0;34m.\u001b[0m\u001b[0msolver\u001b[0m\u001b[0;34m)\u001b[0m\u001b[0;34m,\u001b[0m \u001b[0mself\u001b[0m\u001b[0;34m.\u001b[0m\u001b[0mctx\u001b[0m\u001b[0;34m)\u001b[0m\u001b[0;34m\u001b[0m\u001b[0;34m\u001b[0m\u001b[0m\n\u001b[0m\u001b[1;32m   7041\u001b[0m         \u001b[0;32mexcept\u001b[0m \u001b[0mZ3Exception\u001b[0m\u001b[0;34m:\u001b[0m\u001b[0;34m\u001b[0m\u001b[0;34m\u001b[0m\u001b[0m\n",
      "\u001b[0;32m/Library/Frameworks/Python.framework/Versions/3.8/lib/python3.8/site-packages/z3/z3core.py\u001b[0m in \u001b[0;36mZ3_solver_get_model\u001b[0;34m(a0, a1, _elems)\u001b[0m\n\u001b[1;32m   3942\u001b[0m   \u001b[0mr\u001b[0m \u001b[0;34m=\u001b[0m \u001b[0m_elems\u001b[0m\u001b[0;34m.\u001b[0m\u001b[0mf\u001b[0m\u001b[0;34m(\u001b[0m\u001b[0ma0\u001b[0m\u001b[0;34m,\u001b[0m \u001b[0ma1\u001b[0m\u001b[0;34m)\u001b[0m\u001b[0;34m\u001b[0m\u001b[0;34m\u001b[0m\u001b[0m\n\u001b[0;32m-> 3943\u001b[0;31m   \u001b[0m_elems\u001b[0m\u001b[0;34m.\u001b[0m\u001b[0mCheck\u001b[0m\u001b[0;34m(\u001b[0m\u001b[0ma0\u001b[0m\u001b[0;34m)\u001b[0m\u001b[0;34m\u001b[0m\u001b[0;34m\u001b[0m\u001b[0m\n\u001b[0m\u001b[1;32m   3944\u001b[0m   \u001b[0;32mreturn\u001b[0m \u001b[0mr\u001b[0m\u001b[0;34m\u001b[0m\u001b[0;34m\u001b[0m\u001b[0m\n",
      "\u001b[0;32m/Library/Frameworks/Python.framework/Versions/3.8/lib/python3.8/site-packages/z3/z3core.py\u001b[0m in \u001b[0;36mCheck\u001b[0;34m(self, ctx)\u001b[0m\n\u001b[1;32m   1446\u001b[0m     \u001b[0;32mif\u001b[0m \u001b[0merr\u001b[0m \u001b[0;34m!=\u001b[0m \u001b[0mself\u001b[0m\u001b[0;34m.\u001b[0m\u001b[0mOK\u001b[0m\u001b[0;34m:\u001b[0m\u001b[0;34m\u001b[0m\u001b[0;34m\u001b[0m\u001b[0m\n\u001b[0;32m-> 1447\u001b[0;31m         \u001b[0;32mraise\u001b[0m \u001b[0mself\u001b[0m\u001b[0;34m.\u001b[0m\u001b[0mException\u001b[0m\u001b[0;34m(\u001b[0m\u001b[0mself\u001b[0m\u001b[0;34m.\u001b[0m\u001b[0mget_error_message\u001b[0m\u001b[0;34m(\u001b[0m\u001b[0mctx\u001b[0m\u001b[0;34m,\u001b[0m \u001b[0merr\u001b[0m\u001b[0;34m)\u001b[0m\u001b[0;34m)\u001b[0m\u001b[0;34m\u001b[0m\u001b[0;34m\u001b[0m\u001b[0m\n\u001b[0m\u001b[1;32m   1448\u001b[0m \u001b[0;34m\u001b[0m\u001b[0m\n",
      "\u001b[0;31mZ3Exception\u001b[0m: b'there is no current model'",
      "\nDuring handling of the above exception, another exception occurred:\n",
      "\u001b[0;31mZ3Exception\u001b[0m                               Traceback (most recent call last)",
      "\u001b[0;32m<timed exec>\u001b[0m in \u001b[0;36m<module>\u001b[0;34m\u001b[0m\n",
      "\u001b[0;32m<ipython-input-134-18f367bf140c>\u001b[0m in \u001b[0;36mcoloring_graph_sat\u001b[0;34m(n, d, E)\u001b[0m\n\u001b[1;32m     17\u001b[0m \u001b[0;34m\u001b[0m\u001b[0m\n\u001b[1;32m     18\u001b[0m     \u001b[0ms\u001b[0m\u001b[0;34m.\u001b[0m\u001b[0mcheck\u001b[0m\u001b[0;34m(\u001b[0m\u001b[0;34m)\u001b[0m\u001b[0;34m\u001b[0m\u001b[0;34m\u001b[0m\u001b[0m\n\u001b[0;32m---> 19\u001b[0;31m     \u001b[0mm\u001b[0m \u001b[0;34m=\u001b[0m \u001b[0ms\u001b[0m\u001b[0;34m.\u001b[0m\u001b[0mmodel\u001b[0m\u001b[0;34m(\u001b[0m\u001b[0;34m)\u001b[0m\u001b[0;34m\u001b[0m\u001b[0;34m\u001b[0m\u001b[0m\n\u001b[0m\u001b[1;32m     20\u001b[0m \u001b[0;34m\u001b[0m\u001b[0m\n\u001b[1;32m     21\u001b[0m     \u001b[0;32mreturn\u001b[0m \u001b[0;34m[\u001b[0m\u001b[0;34m(\u001b[0m\u001b[0mi\u001b[0m\u001b[0;34m,\u001b[0m \u001b[0mj\u001b[0m\u001b[0;34m)\u001b[0m \u001b[0;32mfor\u001b[0m \u001b[0mi\u001b[0m \u001b[0;32min\u001b[0m \u001b[0mrange\u001b[0m\u001b[0;34m(\u001b[0m\u001b[0mn\u001b[0m\u001b[0;34m)\u001b[0m \u001b[0;32mfor\u001b[0m \u001b[0mj\u001b[0m \u001b[0;32min\u001b[0m \u001b[0mrange\u001b[0m\u001b[0;34m(\u001b[0m\u001b[0md\u001b[0m\u001b[0;34m)\u001b[0m \u001b[0;32mif\u001b[0m \u001b[0mm\u001b[0m\u001b[0;34m.\u001b[0m\u001b[0mevaluate\u001b[0m\u001b[0;34m(\u001b[0m\u001b[0mv\u001b[0m\u001b[0;34m[\u001b[0m\u001b[0mi\u001b[0m\u001b[0;34m]\u001b[0m\u001b[0;34m[\u001b[0m\u001b[0mj\u001b[0m\u001b[0;34m]\u001b[0m\u001b[0;34m)\u001b[0m\u001b[0;34m]\u001b[0m\u001b[0;34m\u001b[0m\u001b[0;34m\u001b[0m\u001b[0m\n",
      "\u001b[0;32m/Library/Frameworks/Python.framework/Versions/3.8/lib/python3.8/site-packages/z3/z3.py\u001b[0m in \u001b[0;36mmodel\u001b[0;34m(self)\u001b[0m\n\u001b[1;32m   7040\u001b[0m             \u001b[0;32mreturn\u001b[0m \u001b[0mModelRef\u001b[0m\u001b[0;34m(\u001b[0m\u001b[0mZ3_solver_get_model\u001b[0m\u001b[0;34m(\u001b[0m\u001b[0mself\u001b[0m\u001b[0;34m.\u001b[0m\u001b[0mctx\u001b[0m\u001b[0;34m.\u001b[0m\u001b[0mref\u001b[0m\u001b[0;34m(\u001b[0m\u001b[0;34m)\u001b[0m\u001b[0;34m,\u001b[0m \u001b[0mself\u001b[0m\u001b[0;34m.\u001b[0m\u001b[0msolver\u001b[0m\u001b[0;34m)\u001b[0m\u001b[0;34m,\u001b[0m \u001b[0mself\u001b[0m\u001b[0;34m.\u001b[0m\u001b[0mctx\u001b[0m\u001b[0;34m)\u001b[0m\u001b[0;34m\u001b[0m\u001b[0;34m\u001b[0m\u001b[0m\n\u001b[1;32m   7041\u001b[0m         \u001b[0;32mexcept\u001b[0m \u001b[0mZ3Exception\u001b[0m\u001b[0;34m:\u001b[0m\u001b[0;34m\u001b[0m\u001b[0;34m\u001b[0m\u001b[0m\n\u001b[0;32m-> 7042\u001b[0;31m             \u001b[0;32mraise\u001b[0m \u001b[0mZ3Exception\u001b[0m\u001b[0;34m(\u001b[0m\u001b[0;34m\"model is not available\"\u001b[0m\u001b[0;34m)\u001b[0m\u001b[0;34m\u001b[0m\u001b[0;34m\u001b[0m\u001b[0m\n\u001b[0m\u001b[1;32m   7043\u001b[0m \u001b[0;34m\u001b[0m\u001b[0m\n\u001b[1;32m   7044\u001b[0m     \u001b[0;32mdef\u001b[0m \u001b[0mimport_model_converter\u001b[0m\u001b[0;34m(\u001b[0m\u001b[0mself\u001b[0m\u001b[0;34m,\u001b[0m \u001b[0mother\u001b[0m\u001b[0;34m)\u001b[0m\u001b[0;34m:\u001b[0m\u001b[0;34m\u001b[0m\u001b[0;34m\u001b[0m\u001b[0m\n",
      "\u001b[0;31mZ3Exception\u001b[0m: model is not available"
     ]
    }
   ],
   "source": [
    "%%time\n",
    "at_most_one = at_most_one_seq\n",
    "at_least_one = at_least_one_seq \n",
    "exactly_one = exactly_one_seq\n",
    "display_color_graph(sol = coloring_graph_sat(instance[\"n\"], instance[\"d\"], instance[\"E\"]), E = instance[\"E\"])"
   ]
  },
  {
   "cell_type": "code",
   "execution_count": 117,
   "id": "04b207b8",
   "metadata": {},
   "outputs": [
    {
     "name": "stdout",
     "output_type": "stream",
     "text": [
      "<function exactly_one_bw at 0x7feca81c4310>\n",
      "[x_0_0, x_0_1, x_0_2]\n",
      "[And(Or(Not(x_0_0), Not(r_0)), Or(Not(x_0_0), Not(r_0))), And(Or(Not(x_0_1), Not(r_0)), Or(Not(x_0_1), r_0)), And(Or(Not(x_0_2), r_0), Or(Not(x_0_2), Not(r_0)))]\n",
      "[x_1_0, x_1_1, x_1_2]\n",
      "[And(Or(Not(x_1_0), Not(r_0)), Or(Not(x_1_0), Not(r_0))), And(Or(Not(x_1_1), Not(r_0)), Or(Not(x_1_1), r_0)), And(Or(Not(x_1_2), r_0), Or(Not(x_1_2), Not(r_0)))]\n",
      "[x_2_0, x_2_1, x_2_2]\n",
      "[And(Or(Not(x_2_0), Not(r_0)), Or(Not(x_2_0), Not(r_0))), And(Or(Not(x_2_1), Not(r_0)), Or(Not(x_2_1), r_0)), And(Or(Not(x_2_2), r_0), Or(Not(x_2_2), Not(r_0)))]\n",
      "[x_3_0, x_3_1, x_3_2]\n",
      "[And(Or(Not(x_3_0), Not(r_0)), Or(Not(x_3_0), Not(r_0))), And(Or(Not(x_3_1), Not(r_0)), Or(Not(x_3_1), r_0)), And(Or(Not(x_3_2), r_0), Or(Not(x_3_2), Not(r_0)))]\n",
      "[x_4_0, x_4_1, x_4_2]\n",
      "[And(Or(Not(x_4_0), Not(r_0)), Or(Not(x_4_0), Not(r_0))), And(Or(Not(x_4_1), Not(r_0)), Or(Not(x_4_1), r_0)), And(Or(Not(x_4_2), r_0), Or(Not(x_4_2), Not(r_0)))]\n",
      "[x_5_0, x_5_1, x_5_2]\n",
      "[And(Or(Not(x_5_0), Not(r_0)), Or(Not(x_5_0), Not(r_0))), And(Or(Not(x_5_1), Not(r_0)), Or(Not(x_5_1), r_0)), And(Or(Not(x_5_2), r_0), Or(Not(x_5_2), Not(r_0)))]\n",
      "[x_6_0, x_6_1, x_6_2]\n",
      "[And(Or(Not(x_6_0), Not(r_0)), Or(Not(x_6_0), Not(r_0))), And(Or(Not(x_6_1), Not(r_0)), Or(Not(x_6_1), r_0)), And(Or(Not(x_6_2), r_0), Or(Not(x_6_2), Not(r_0)))]\n",
      "[x_7_0, x_7_1, x_7_2]\n",
      "[And(Or(Not(x_7_0), Not(r_0)), Or(Not(x_7_0), Not(r_0))), And(Or(Not(x_7_1), Not(r_0)), Or(Not(x_7_1), r_0)), And(Or(Not(x_7_2), r_0), Or(Not(x_7_2), Not(r_0)))]\n",
      "[x_8_0, x_8_1, x_8_2]\n",
      "[And(Or(Not(x_8_0), Not(r_0)), Or(Not(x_8_0), Not(r_0))), And(Or(Not(x_8_1), Not(r_0)), Or(Not(x_8_1), r_0)), And(Or(Not(x_8_2), r_0), Or(Not(x_8_2), Not(r_0)))]\n",
      "[x_9_0, x_9_1, x_9_2]\n",
      "[And(Or(Not(x_9_0), Not(r_0)), Or(Not(x_9_0), Not(r_0))), And(Or(Not(x_9_1), Not(r_0)), Or(Not(x_9_1), r_0)), And(Or(Not(x_9_2), r_0), Or(Not(x_9_2), Not(r_0)))]\n"
     ]
    },
    {
     "ename": "Z3Exception",
     "evalue": "model is not available",
     "output_type": "error",
     "traceback": [
      "\u001b[0;31m---------------------------------------------------------------------------\u001b[0m",
      "\u001b[0;31mZ3Exception\u001b[0m                               Traceback (most recent call last)",
      "\u001b[0;32m/Library/Frameworks/Python.framework/Versions/3.8/lib/python3.8/site-packages/z3/z3.py\u001b[0m in \u001b[0;36mmodel\u001b[0;34m(self)\u001b[0m\n\u001b[1;32m   7039\u001b[0m         \u001b[0;32mtry\u001b[0m\u001b[0;34m:\u001b[0m\u001b[0;34m\u001b[0m\u001b[0;34m\u001b[0m\u001b[0m\n\u001b[0;32m-> 7040\u001b[0;31m             \u001b[0;32mreturn\u001b[0m \u001b[0mModelRef\u001b[0m\u001b[0;34m(\u001b[0m\u001b[0mZ3_solver_get_model\u001b[0m\u001b[0;34m(\u001b[0m\u001b[0mself\u001b[0m\u001b[0;34m.\u001b[0m\u001b[0mctx\u001b[0m\u001b[0;34m.\u001b[0m\u001b[0mref\u001b[0m\u001b[0;34m(\u001b[0m\u001b[0;34m)\u001b[0m\u001b[0;34m,\u001b[0m \u001b[0mself\u001b[0m\u001b[0;34m.\u001b[0m\u001b[0msolver\u001b[0m\u001b[0;34m)\u001b[0m\u001b[0;34m,\u001b[0m \u001b[0mself\u001b[0m\u001b[0;34m.\u001b[0m\u001b[0mctx\u001b[0m\u001b[0;34m)\u001b[0m\u001b[0;34m\u001b[0m\u001b[0;34m\u001b[0m\u001b[0m\n\u001b[0m\u001b[1;32m   7041\u001b[0m         \u001b[0;32mexcept\u001b[0m \u001b[0mZ3Exception\u001b[0m\u001b[0;34m:\u001b[0m\u001b[0;34m\u001b[0m\u001b[0;34m\u001b[0m\u001b[0m\n",
      "\u001b[0;32m/Library/Frameworks/Python.framework/Versions/3.8/lib/python3.8/site-packages/z3/z3core.py\u001b[0m in \u001b[0;36mZ3_solver_get_model\u001b[0;34m(a0, a1, _elems)\u001b[0m\n\u001b[1;32m   3942\u001b[0m   \u001b[0mr\u001b[0m \u001b[0;34m=\u001b[0m \u001b[0m_elems\u001b[0m\u001b[0;34m.\u001b[0m\u001b[0mf\u001b[0m\u001b[0;34m(\u001b[0m\u001b[0ma0\u001b[0m\u001b[0;34m,\u001b[0m \u001b[0ma1\u001b[0m\u001b[0;34m)\u001b[0m\u001b[0;34m\u001b[0m\u001b[0;34m\u001b[0m\u001b[0m\n\u001b[0;32m-> 3943\u001b[0;31m   \u001b[0m_elems\u001b[0m\u001b[0;34m.\u001b[0m\u001b[0mCheck\u001b[0m\u001b[0;34m(\u001b[0m\u001b[0ma0\u001b[0m\u001b[0;34m)\u001b[0m\u001b[0;34m\u001b[0m\u001b[0;34m\u001b[0m\u001b[0m\n\u001b[0m\u001b[1;32m   3944\u001b[0m   \u001b[0;32mreturn\u001b[0m \u001b[0mr\u001b[0m\u001b[0;34m\u001b[0m\u001b[0;34m\u001b[0m\u001b[0m\n",
      "\u001b[0;32m/Library/Frameworks/Python.framework/Versions/3.8/lib/python3.8/site-packages/z3/z3core.py\u001b[0m in \u001b[0;36mCheck\u001b[0;34m(self, ctx)\u001b[0m\n\u001b[1;32m   1446\u001b[0m     \u001b[0;32mif\u001b[0m \u001b[0merr\u001b[0m \u001b[0;34m!=\u001b[0m \u001b[0mself\u001b[0m\u001b[0;34m.\u001b[0m\u001b[0mOK\u001b[0m\u001b[0;34m:\u001b[0m\u001b[0;34m\u001b[0m\u001b[0;34m\u001b[0m\u001b[0m\n\u001b[0;32m-> 1447\u001b[0;31m         \u001b[0;32mraise\u001b[0m \u001b[0mself\u001b[0m\u001b[0;34m.\u001b[0m\u001b[0mException\u001b[0m\u001b[0;34m(\u001b[0m\u001b[0mself\u001b[0m\u001b[0;34m.\u001b[0m\u001b[0mget_error_message\u001b[0m\u001b[0;34m(\u001b[0m\u001b[0mctx\u001b[0m\u001b[0;34m,\u001b[0m \u001b[0merr\u001b[0m\u001b[0;34m)\u001b[0m\u001b[0;34m)\u001b[0m\u001b[0;34m\u001b[0m\u001b[0;34m\u001b[0m\u001b[0m\n\u001b[0m\u001b[1;32m   1448\u001b[0m \u001b[0;34m\u001b[0m\u001b[0m\n",
      "\u001b[0;31mZ3Exception\u001b[0m: b'there is no current model'",
      "\nDuring handling of the above exception, another exception occurred:\n",
      "\u001b[0;31mZ3Exception\u001b[0m                               Traceback (most recent call last)",
      "\u001b[0;32m<timed exec>\u001b[0m in \u001b[0;36m<module>\u001b[0;34m\u001b[0m\n",
      "\u001b[0;32m<ipython-input-92-18f367bf140c>\u001b[0m in \u001b[0;36mcoloring_graph_sat\u001b[0;34m(n, d, E)\u001b[0m\n\u001b[1;32m     17\u001b[0m \u001b[0;34m\u001b[0m\u001b[0m\n\u001b[1;32m     18\u001b[0m     \u001b[0ms\u001b[0m\u001b[0;34m.\u001b[0m\u001b[0mcheck\u001b[0m\u001b[0;34m(\u001b[0m\u001b[0;34m)\u001b[0m\u001b[0;34m\u001b[0m\u001b[0;34m\u001b[0m\u001b[0m\n\u001b[0;32m---> 19\u001b[0;31m     \u001b[0mm\u001b[0m \u001b[0;34m=\u001b[0m \u001b[0ms\u001b[0m\u001b[0;34m.\u001b[0m\u001b[0mmodel\u001b[0m\u001b[0;34m(\u001b[0m\u001b[0;34m)\u001b[0m\u001b[0;34m\u001b[0m\u001b[0;34m\u001b[0m\u001b[0m\n\u001b[0m\u001b[1;32m     20\u001b[0m \u001b[0;34m\u001b[0m\u001b[0m\n\u001b[1;32m     21\u001b[0m     \u001b[0;32mreturn\u001b[0m \u001b[0;34m[\u001b[0m\u001b[0;34m(\u001b[0m\u001b[0mi\u001b[0m\u001b[0;34m,\u001b[0m \u001b[0mj\u001b[0m\u001b[0;34m)\u001b[0m \u001b[0;32mfor\u001b[0m \u001b[0mi\u001b[0m \u001b[0;32min\u001b[0m \u001b[0mrange\u001b[0m\u001b[0;34m(\u001b[0m\u001b[0mn\u001b[0m\u001b[0;34m)\u001b[0m \u001b[0;32mfor\u001b[0m \u001b[0mj\u001b[0m \u001b[0;32min\u001b[0m \u001b[0mrange\u001b[0m\u001b[0;34m(\u001b[0m\u001b[0md\u001b[0m\u001b[0;34m)\u001b[0m \u001b[0;32mif\u001b[0m \u001b[0mm\u001b[0m\u001b[0;34m.\u001b[0m\u001b[0mevaluate\u001b[0m\u001b[0;34m(\u001b[0m\u001b[0mv\u001b[0m\u001b[0;34m[\u001b[0m\u001b[0mi\u001b[0m\u001b[0;34m]\u001b[0m\u001b[0;34m[\u001b[0m\u001b[0mj\u001b[0m\u001b[0;34m]\u001b[0m\u001b[0;34m)\u001b[0m\u001b[0;34m]\u001b[0m\u001b[0;34m\u001b[0m\u001b[0;34m\u001b[0m\u001b[0m\n",
      "\u001b[0;32m/Library/Frameworks/Python.framework/Versions/3.8/lib/python3.8/site-packages/z3/z3.py\u001b[0m in \u001b[0;36mmodel\u001b[0;34m(self)\u001b[0m\n\u001b[1;32m   7040\u001b[0m             \u001b[0;32mreturn\u001b[0m \u001b[0mModelRef\u001b[0m\u001b[0;34m(\u001b[0m\u001b[0mZ3_solver_get_model\u001b[0m\u001b[0;34m(\u001b[0m\u001b[0mself\u001b[0m\u001b[0;34m.\u001b[0m\u001b[0mctx\u001b[0m\u001b[0;34m.\u001b[0m\u001b[0mref\u001b[0m\u001b[0;34m(\u001b[0m\u001b[0;34m)\u001b[0m\u001b[0;34m,\u001b[0m \u001b[0mself\u001b[0m\u001b[0;34m.\u001b[0m\u001b[0msolver\u001b[0m\u001b[0;34m)\u001b[0m\u001b[0;34m,\u001b[0m \u001b[0mself\u001b[0m\u001b[0;34m.\u001b[0m\u001b[0mctx\u001b[0m\u001b[0;34m)\u001b[0m\u001b[0;34m\u001b[0m\u001b[0;34m\u001b[0m\u001b[0m\n\u001b[1;32m   7041\u001b[0m         \u001b[0;32mexcept\u001b[0m \u001b[0mZ3Exception\u001b[0m\u001b[0;34m:\u001b[0m\u001b[0;34m\u001b[0m\u001b[0;34m\u001b[0m\u001b[0m\n\u001b[0;32m-> 7042\u001b[0;31m             \u001b[0;32mraise\u001b[0m \u001b[0mZ3Exception\u001b[0m\u001b[0;34m(\u001b[0m\u001b[0;34m\"model is not available\"\u001b[0m\u001b[0;34m)\u001b[0m\u001b[0;34m\u001b[0m\u001b[0;34m\u001b[0m\u001b[0m\n\u001b[0m\u001b[1;32m   7043\u001b[0m \u001b[0;34m\u001b[0m\u001b[0m\n\u001b[1;32m   7044\u001b[0m     \u001b[0;32mdef\u001b[0m \u001b[0mimport_model_converter\u001b[0m\u001b[0;34m(\u001b[0m\u001b[0mself\u001b[0m\u001b[0;34m,\u001b[0m \u001b[0mother\u001b[0m\u001b[0;34m)\u001b[0m\u001b[0;34m:\u001b[0m\u001b[0;34m\u001b[0m\u001b[0;34m\u001b[0m\u001b[0m\n",
      "\u001b[0;31mZ3Exception\u001b[0m: model is not available"
     ]
    }
   ],
   "source": [
    "%%time\n",
    "at_most_one = at_most_one_bw\n",
    "at_least_one = at_least_one_bw\n",
    "exactly_one = exactly_one_bw\n",
    "instance = instance2\n",
    "display_color_graph(sol = coloring_graph_sat(instance[\"n\"], instance[\"d\"], instance[\"E\"]), E = instance[\"E\"])"
   ]
  },
  {
   "cell_type": "code",
   "execution_count": 118,
   "id": "9f24fbda",
   "metadata": {},
   "outputs": [
    {
     "name": "stdout",
     "output_type": "stream",
     "text": [
      "<function exactly_one_he at 0x7feca7ee20d0>\n",
      "CPU times: user 91.5 ms, sys: 6.07 ms, total: 97.6 ms\n",
      "Wall time: 109 ms\n"
     ]
    },
    {
     "data": {
      "image/png": "[encoded data removed]",
      "text/plain": [
       "<Figure size 432x288 with 1 Axes>"
      ]
     },
     "metadata": {},
     "output_type": "display_data"
    }
   ],
   "source": [
    "%%time\n",
    "at_most_one = at_most_one_he\n",
    "at_least_one = at_least_one_he\n",
    "exactly_one = exactly_one_he\n",
    "display_color_graph(sol = coloring_graph_sat(instance[\"n\"], instance[\"d\"], instance[\"E\"]), E = instance[\"E\"])"
   ]
  },
  {
   "cell_type": "markdown",
   "id": "61c8305b",
   "metadata": {},
   "source": [
    "## At most k encodings"
   ]
  },
  {
   "cell_type": "markdown",
   "id": "1583e4c2",
   "metadata": {},
   "source": [
    "### Naive pairwise"
   ]
  },
  {
   "cell_type": "code",
   "execution_count": 13,
   "id": "24481f0a",
   "metadata": {},
   "outputs": [],
   "source": [
    "def at_least_k_np(bool_vars, k):\n",
    "    return at_most_k_np([Not(var) for var in bool_vars], len(bool_vars)-k)\n",
    "\n",
    "def at_most_k_np(bool_vars, k):\n",
    "    constraints = []\n",
    "    for i in range(k):\n",
    "        constraints+=[And([Not(var) if var not in pair else var for var in bool_vars]) for pair in combinations(bool_vars, i + 1)]  \n",
    "    return Or(constraints)\n",
    "\n",
    "def exactly_k_np(bool_vars, k):\n",
    "    return [at_most_k_np(bool_vars, k)] + [at_least_k_np(bool_vars, k)]"
   ]
  },
  {
   "cell_type": "markdown",
   "id": "24e1892b",
   "metadata": {},
   "source": [
    "### Sequential"
   ]
  },
  {
   "cell_type": "code",
   "execution_count": null,
   "id": "390065fc",
   "metadata": {},
   "outputs": [],
   "source": [
    "def at_least_k_seq(bool_vars, k):\n",
    "    return at_most_k_seq([Not(var) for var in bool_vars], k)\n",
    "\n",
    "def at_most_k_seq(bool_vars, k):\n",
    "    constraints = []\n",
    "    n = len(bool_vars)\n",
    "    s = [Bool(f\"s_{i}_{j}\") for i in range(n) for j in range(k)]\n",
    "    constraints.append(Or(Not(bool_vars[0]), s[0][0]))\n",
    "    constraints += [Not(s[0][j]) for j in range(1, k)]\n",
    "    for i in range(1, n-1):\n",
    "        constraints.append(Or(Not(bool_vars[i]), s[i][0]))\n",
    "        constraints.append(Or(Not(s[i-1][0]), s[i][0]))\n",
    "        constraints.append(Or(Not(bool_vars[i]), Not(s[i-1][-1])))\n",
    "        for j in range(1, k):\n",
    "            constraints.append(Or([Not(bool_vars[i])] + [(Not(s[i-1][j-1]))] + [s[i][j]]))\n",
    "            constraints.append(Or(Not(s[i-1][j]), s[i][j]))\n",
    "    constraints.append(Or(Not(bool_vars[-1]), Not(s[-1][-1])))   \n",
    "    return constraints\n",
    "\n",
    "def exactly_k_seq(bool_vars, k):\n",
    "    return at_most_k_seq(bool_vars, k) + at_least_k_seq(bool_vars, k)"
   ]
  },
  {
   "cell_type": "markdown",
   "id": "9d4bbc41",
   "metadata": {},
   "source": [
    "## Examples"
   ]
  },
  {
   "cell_type": "code",
   "execution_count": null,
   "id": "2fd0058e",
   "metadata": {},
   "outputs": [],
   "source": []
  }
 ],
 "metadata": {
  "kernelspec": {
   "display_name": "Python 3",
   "language": "python",
   "name": "python3"
  },
  "language_info": {
   "codemirror_mode": {
    "name": "ipython",
    "version": 3
   },
   "file_extension": ".py",
   "mimetype": "text/x-python",
   "name": "python",
   "nbconvert_exporter": "python",
   "pygments_lexer": "ipython3",
   "version": "3.8.8"
  }
 },
 "nbformat": 4,
 "nbformat_minor": 5
}
