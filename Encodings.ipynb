{
 "cells": [
  {
   "cell_type": "markdown",
   "id": "6b137c6d",
   "metadata": {},
   "source": [
    "# Z3 SAT Constraints Encodings"
   ]
  },
  {
   "cell_type": "markdown",
   "id": "7f96dca8",
   "metadata": {},
   "source": [
    "In this notebook we are going to show several implementation in z3 of the cardinality constraints and show how they affect the efficiency of the solver. "
   ]
  },
  {
   "cell_type": "code",
   "execution_count": 6,
   "id": "9974fb82",
   "metadata": {},
   "outputs": [],
   "source": [
    "from z3 import *\n",
    "import math"
   ]
  },
  {
   "cell_type": "markdown",
   "id": "e8866a30",
   "metadata": {},
   "source": [
    "## At most one encodings"
   ]
  },
  {
   "cell_type": "markdown",
   "id": "0630d8d5",
   "metadata": {},
   "source": [
    "### Naive pairwise"
   ]
  },
  {
   "cell_type": "code",
   "execution_count": 2,
   "id": "2b3a2800",
   "metadata": {},
   "outputs": [],
   "source": [
    "def at_least_one_np(bool_vars):\n",
    "    return Or(bool_vars)\n",
    "\n",
    "def at_most_one_np(bool_vars):\n",
    "    return [Not(And(pair[0], pair[1])) for pair in combinations(bool_vars, 2)]\n",
    "\n",
    "def exactly_one_np(bool_vars):\n",
    "    return at_most_one_np(bool_vars) + [at_least_one_np(bool_vars)]"
   ]
  },
  {
   "cell_type": "markdown",
   "id": "d58bf88a",
   "metadata": {},
   "source": [
    "### Sequential "
   ]
  },
  {
   "cell_type": "code",
   "execution_count": 3,
   "id": "fe418e2f",
   "metadata": {},
   "outputs": [],
   "source": [
    "def at_least_one_seq(bool_vars):\n",
    "    return at_most_one_seq([Not(var) for var in bool_vars])\n",
    "\n",
    "def at_most_one_seq(bool_vars):\n",
    "    constraints = []\n",
    "    n = len(bool_vars)\n",
    "    s = [Bool(f\"s_{i}\") for i in range(n)]\n",
    "    for i in range(n):\n",
    "        constraints.append(Or(Not(bool_vars[i]), s[i]))\n",
    "        constraints.append(Or(Not(bool_vars[i]), s[i-1]))\n",
    "        if i > 0 and i < n - 1:\n",
    "            constraints.append(Or(Not(s[i-1]), s[i]))\n",
    "    return constraints\n",
    "\n",
    "def exactly_one_seq(bool_vars):\n",
    "    return at_most_one_seq(bool_vars) + at_least_one_seq(bool_vars)"
   ]
  },
  {
   "cell_type": "markdown",
   "id": "d29bc5b4",
   "metadata": {},
   "source": [
    "### Bitwise"
   ]
  },
  {
   "cell_type": "code",
   "execution_count": 11,
   "id": "054f73f2",
   "metadata": {},
   "outputs": [],
   "source": [
    "def at_least_one_bw(bool_vars):\n",
    "    return at_most_one_b([Not(var) for var in bool_vars])\n",
    "\n",
    "def at_most_one_bw(bool_vars):\n",
    "    constraints = []\n",
    "    n = len(bool_vars)\n",
    "    m = int(math.log2(n - 1))\n",
    "    r = [Bool(f\"r_{i}\") for i in range(m)]\n",
    "    for i in range(n):\n",
    "        for j in range(m):\n",
    "            i_binary = bin(i)[2:]\n",
    "            for k in i_binary:\n",
    "                if k == \"1\": \n",
    "                    constraints.append(Or(Not(bool_vars[i]), r[j]))\n",
    "                else:\n",
    "                    constraints.append(Or(Not(bool_vars[i]), Not(r[j])))\n",
    "    return constraints\n",
    "\n",
    "def exactly_one_bw(bool_vars):\n",
    "    return at_most_one_bw(bool_vars) + at_least_one_bw(bool_vars)"
   ]
  },
  {
   "cell_type": "markdown",
   "id": "990e3a68",
   "metadata": {},
   "source": [
    "### Heule "
   ]
  },
  {
   "cell_type": "code",
   "execution_count": 12,
   "id": "8bdd9e38",
   "metadata": {},
   "outputs": [],
   "source": [
    "def at_least_one_he(bool_vars):\n",
    "    return at_most_one_he([Not(var) for var in bool_vars])\n",
    "\n",
    "def at_most_one_he(bool_vars):\n",
    "    y = Bool(\"y\")\n",
    "    return at_most_one_np(bool_vars[:3] + [y]) + at_most_one_np(bool_vars[3:] + [Not(y)])\n",
    "\n",
    "def exactly_one_he(bool_vars):\n",
    "    return at_most_one_he(bool_vars) + at_least_one_he(bool_vars)"
   ]
  },
  {
   "cell_type": "markdown",
   "id": "7858ec7f",
   "metadata": {},
   "source": [
    "## At most k encodings"
   ]
  },
  {
   "cell_type": "markdown",
   "id": "3df365ba",
   "metadata": {},
   "source": [
    "### Naive pairwise"
   ]
  },
  {
   "cell_type": "code",
   "execution_count": 13,
   "id": "a282ac6f",
   "metadata": {},
   "outputs": [],
   "source": [
    "def at_least_k_np(bool_vars, k):\n",
    "    return at_most_k_np([Not(var) for var in bool_vars], len(bool_vars)-k)\n",
    "\n",
    "def at_most_k_np(bool_vars, k):\n",
    "    constraints = []\n",
    "    for i in range(k):\n",
    "        constraints+=[And([Not(var) if var not in pair else var for var in bool_vars]) for pair in combinations(bool_vars, i + 1)]  \n",
    "    return Or(constraints)\n",
    "\n",
    "def exactly_k_np(bool_vars, k):\n",
    "    return [at_most_k_np(bool_vars, k)] + [at_least_k_np(bool_vars, k)]"
   ]
  },
  {
   "cell_type": "markdown",
   "id": "82d01b4d",
   "metadata": {},
   "source": [
    "### Sequential"
   ]
  },
  {
   "cell_type": "code",
   "execution_count": null,
   "id": "da139ced",
   "metadata": {},
   "outputs": [],
   "source": [
    "def at_least_k_seq(bool_vars, k):\n",
    "    return at_most_k_seq([Not(var) for var in bool_vars], k)\n",
    "\n",
    "def at_most_k_seq(bool_vars, k):\n",
    "    constraints = []\n",
    "    n = len(bool_vars)\n",
    "    s = [Bool(f\"s_{i}_{j}\") for i in range(n) for j in range(k)]\n",
    "    constraints.append(Or(Not(bool_vars[0]), s[0][0]))\n",
    "    constraints += [Not(s[0][j]) for j in range(1, k)]\n",
    "    for i in range(1, n-1):\n",
    "        constraints.append(Or(Not(bool_vars[i]), s[i][0]))\n",
    "        constraints.append(Or(Not(s[i-1][0]), s[i][0]))\n",
    "        constraints.append(Or(Not(bool_vars[i]), Not(s[i-1][-1])))\n",
    "        for j in range(1, k):\n",
    "            constraints.append(Or([Not(bool_vars[i])] + [(Not(s[i-1][j-1]))] + [s[i][j]]))\n",
    "            constraints.append(Or(Not(s[i-1][j]), s[i][j]))\n",
    "    constraints.append(Or(Not(bool_vars[-1]), Not(s[-1][-1])))   \n",
    "    return constraints\n",
    "\n",
    "def exactly_k_seq(bool_vars, k):\n",
    "    return at_most_k_seq(bool_vars, k) + at_least_k_seq(bool_vars, k)"
   ]
  }
 ],
 "metadata": {
  "kernelspec": {
   "display_name": "Python 3",
   "language": "python",
   "name": "python3"
  },
  "language_info": {
   "codemirror_mode": {
    "name": "ipython",
    "version": 3
   },
   "file_extension": ".py",
   "mimetype": "text/x-python",
   "name": "python",
   "nbconvert_exporter": "python",
   "pygments_lexer": "ipython3",
   "version": "3.8.8"
  }
 },
 "nbformat": 4,
 "nbformat_minor": 5
}
