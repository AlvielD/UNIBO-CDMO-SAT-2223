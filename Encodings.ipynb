{
 "cells": [
  {
   "cell_type": "markdown",
   "id": "81009f3e",
   "metadata": {},
   "source": [
    "# Z3 SAT Constraints Encodings"
   ]
  },
  {
   "cell_type": "markdown",
   "id": "1d3f4f58",
   "metadata": {},
   "source": [
    "In this notebook we are going to show several implementation in z3 of the cardinality constraints and show how they affect the efficiency of the solver. "
   ]
  },
  {
   "cell_type": "code",
   "execution_count": 6,
   "id": "2a7d3e2c",
   "metadata": {},
   "outputs": [],
   "source": [
    "from z3 import *\n",
    "import math"
   ]
  },
  {
   "cell_type": "markdown",
   "id": "c38676ee",
   "metadata": {},
   "source": [
    "## At most one"
   ]
  },
  {
   "cell_type": "markdown",
   "id": "e14106d6",
   "metadata": {},
   "source": [
    "### Naive pairwise"
   ]
  },
  {
   "cell_type": "code",
   "execution_count": 2,
   "id": "bc309b0b",
   "metadata": {},
   "outputs": [],
   "source": [
    "def at_least_one(bool_vars):\n",
    "    return Or(bool_vars)\n",
    "\n",
    "def at_most_one(bool_vars):\n",
    "    return [Not(And(pair[0], pair[1])) for pair in combinations(bool_vars, 2)]\n",
    "\n",
    "def exactly_one(bool_vars):\n",
    "    return at_most_one(bool_vars) + [at_least_one(bool_vars)]"
   ]
  },
  {
   "cell_type": "markdown",
   "id": "f5c6494b",
   "metadata": {},
   "source": [
    "### Sequential "
   ]
  },
  {
   "cell_type": "code",
   "execution_count": 3,
   "id": "6bb59cc2",
   "metadata": {},
   "outputs": [],
   "source": [
    "def at_least_one(bool_vars):\n",
    "    return at_most_one([Not(var) for var in bool_vars])\n",
    "\n",
    "def at_most_one(bool_vars):\n",
    "    constraints = []\n",
    "    n = len(bool_vars)\n",
    "    s = [Bool(f\"s_{i}\") for i in range(n)]\n",
    "    for i in range(n):\n",
    "        constraints.append(Or(Not(bool_vars[i]), s[i]))\n",
    "        constraints.append(Or(Not(bool_vars[i]), s[i-1]))\n",
    "        if i > 0 and i < n - 1:\n",
    "            constraints.append(Or(Not(s[i-1]), s[i]))\n",
    "    return constraints\n",
    "\n",
    "def exactly_one(bool_vars):\n",
    "    return at_most_one(bool_vars) + at_least_one(bool_vars)"
   ]
  },
  {
   "cell_type": "markdown",
   "id": "c6a37ba8",
   "metadata": {},
   "source": [
    "### Bitwise"
   ]
  },
  {
   "cell_type": "code",
   "execution_count": null,
   "id": "fb2ae96a",
   "metadata": {},
   "outputs": [],
   "source": [
    "def at_least_one(bool_vars):\n",
    "    return at_most_one([Not(var) for var in bool_vars])\n",
    "\n",
    "def at_most_one(bool_vars):\n",
    "    constraints = []\n",
    "    n = len(bool_vars)\n",
    "    m = int(math.log2(n))\n",
    "    r = [Bool(f\"r_{i}\") for i in range(m)]\n",
    "    for i in range(n):\n",
    "        constraints.append(Or(Not(bool_vars[i]), s[i]))\n",
    "        constraints.append(Or(Not(bool_vars[i]), s[i-1]))\n",
    "        if i > 0 and i < n - 1:\n",
    "            constraints.append(Or(Not(s[i-1]), s[i]))\n",
    "    return constraints\n",
    "\n",
    "def exactly_one(bool_vars):\n",
    "    return at_most_one(bool_vars) + at_least_one(bool_vars)"
   ]
  }
 ],
 "metadata": {
  "kernelspec": {
   "display_name": "Python 3",
   "language": "python",
   "name": "python3"
  },
  "language_info": {
   "codemirror_mode": {
    "name": "ipython",
    "version": 3
   },
   "file_extension": ".py",
   "mimetype": "text/x-python",
   "name": "python",
   "nbconvert_exporter": "python",
   "pygments_lexer": "ipython3",
   "version": "3.8.8"
  }
 },
 "nbformat": 4,
 "nbformat_minor": 5
}
