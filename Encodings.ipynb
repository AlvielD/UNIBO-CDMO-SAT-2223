{
 "cells": [
  {
   "cell_type": "markdown",
   "id": "841ea604",
   "metadata": {},
   "source": [
    "# Z3 SAT Constraints Encodings"
   ]
  },
  {
   "cell_type": "markdown",
   "id": "340744b9",
   "metadata": {},
   "source": [
    "In this notebook we are going to show several implementation in z3 of the cardinality constraints and show how they affect the efficiency of the solver. "
   ]
  },
  {
   "cell_type": "code",
   "execution_count": null,
   "id": "fa63df2b",
   "metadata": {},
   "outputs": [],
   "source": [
    "!pip3 install z3-solver"
   ]
  },
  {
   "cell_type": "code",
   "execution_count": null,
   "id": "7c342ee6",
   "metadata": {},
   "outputs": [],
   "source": [
    "from itertools import combinations\n",
    "from z3 import *\n",
    "from utils import *\n",
    "import math"
   ]
  },
  {
   "cell_type": "markdown",
   "id": "4887a040",
   "metadata": {},
   "source": [
    "## At most one encodings"
   ]
  },
  {
   "cell_type": "markdown",
   "id": "38d6ff2b",
   "metadata": {},
   "source": [
    "### Naive pairwise"
   ]
  },
  {
   "cell_type": "code",
   "execution_count": null,
   "id": "d4ae49b3",
   "metadata": {},
   "outputs": [],
   "source": [
    "def at_least_one_np(bool_vars):\n",
    "    return Or(bool_vars)\n",
    "\n",
    "def at_most_one_np(bool_vars, name = \"\"):\n",
    "    return [Not(And(pair[0], pair[1])) for pair in combinations(bool_vars, 2)]\n",
    "\n",
    "def exactly_one_np(bool_vars, name = \"\"):\n",
    "    return And(at_least_one_np(bool_vars), And(at_most_one_np(bool_vars, name)))"
   ]
  },
  {
   "cell_type": "markdown",
   "id": "b5789f37",
   "metadata": {},
   "source": [
    "### Sequential "
   ]
  },
  {
   "cell_type": "code",
   "execution_count": null,
   "id": "f117a5f2",
   "metadata": {},
   "outputs": [],
   "source": [
    "def at_least_one_seq(bool_vars):\n",
    "    return at_least_one_np(bool_vars)\n",
    "\n",
    "def at_most_one_seq(bool_vars, name):\n",
    "    constraints = []\n",
    "    n = len(bool_vars)\n",
    "    s = [Bool(f\"s_{name}_{i}\") for i in range(n - 1)]\n",
    "    constraints.append(Or(Not(bool_vars[0]), s[0]))\n",
    "    constraints.append(Or(Not(bool_vars[n-1]), Not(s[n-2])))\n",
    "    for i in range(1, n - 1):\n",
    "        constraints.append(Or(Not(bool_vars[i]), s[i]))\n",
    "        constraints.append(Or(Not(bool_vars[i]), Not(s[i-1])))\n",
    "        constraints.append(Or(Not(s[i-1]), s[i]))\n",
    "    return And(constraints)\n",
    "\n",
    "def exactly_one_seq(bool_vars, name):\n",
    "    return And(at_least_one_seq(bool_vars), at_most_one_seq(bool_vars, name))"
   ]
  },
  {
   "cell_type": "markdown",
   "id": "f8c13489",
   "metadata": {},
   "source": [
    "### Bitwise"
   ]
  },
  {
   "cell_type": "code",
   "execution_count": null,
   "id": "6e82c140",
   "metadata": {},
   "outputs": [],
   "source": [
    "def toBinary(num, length = None):\n",
    "    num_bin = bin(num).split(\"b\")[-1]\n",
    "    if length:\n",
    "        return \"0\"*(length - len(num_bin)) + num_bin\n",
    "    return num_bin\n",
    "    \n",
    "def at_least_one_bw(bool_vars):\n",
    "    return at_least_one_np(bool_vars)\n",
    "\n",
    "def at_most_one_bw(bool_vars, name):\n",
    "    constraints = []\n",
    "    n = len(bool_vars)\n",
    "    m = math.ceil(math.log2(n))\n",
    "    r = [Bool(f\"r_{name}_{i}\") for i in range(m)]\n",
    "    binaries = [toBinary(i, m) for i in range(n)]\n",
    "    for i in range(n):\n",
    "        for j in range(m):\n",
    "            phi = Not(r[j])\n",
    "            if binaries[i][j] == \"1\":\n",
    "                phi = r[j]\n",
    "            constraints.append(Or(Not(bool_vars[i]), phi))        \n",
    "    return And(constraints)\n",
    "\n",
    "def exactly_one_bw(bool_vars, name):\n",
    "    return And(at_least_one_bw(bool_vars), at_most_one_bw(bool_vars, name)) "
   ]
  },
  {
   "cell_type": "markdown",
   "id": "681c7980",
   "metadata": {},
   "source": [
    "### Heule "
   ]
  },
  {
   "cell_type": "code",
   "execution_count": null,
   "id": "fadfa643",
   "metadata": {},
   "outputs": [],
   "source": [
    "def at_least_one_he(bool_vars):\n",
    "    return at_least_one_np(bool_vars)\n",
    "\n",
    "def at_most_one_he(bool_vars, name):\n",
    "    if len(bool_vars) <= 4:\n",
    "        return And(at_most_one_np(bool_vars))\n",
    "    y = Bool(f\"y_{name}\")\n",
    "    return And(And(at_most_one_np(bool_vars[:3] + [y])), And(at_most_one_he(bool_vars[3:] + [Not(y)], name+\"_\")))\n",
    "\n",
    "def exactly_one_he(bool_vars, name):\n",
    "    return And(at_most_one_he(bool_vars, name), at_least_one_he(bool_vars))"
   ]
  },
  {
   "cell_type": "markdown",
   "id": "104213f2",
   "metadata": {},
   "source": [
    "## Examples"
   ]
  },
  {
   "cell_type": "markdown",
   "id": "c8fbcfd0",
   "metadata": {},
   "source": [
    "### N-queens"
   ]
  },
  {
   "cell_type": "code",
   "execution_count": 283,
   "id": "e0b0db41",
   "metadata": {},
   "outputs": [],
   "source": [
    "def nqueens_sat(n):\n",
    "    # Create all the variables\n",
    "    p = [[Bool(f\"x_{i}_{j}\") for j in range(n)] for i in range(n)]\n",
    "\n",
    "    # Create the solver instance\n",
    "    s = Solver()\n",
    "\n",
    "    # At least one on each row and column\n",
    "    for i in range(n):\n",
    "        s.add(at_least_one(p[i]))\n",
    "        s.add(at_least_one([p[j][i] for j in range(n)]))\n",
    "\n",
    "    # At most one on each row and column\n",
    "    for i in range(n):\n",
    "        col_i = []\n",
    "        for j in range(n):\n",
    "            col_i += [p[j][i]]\n",
    "        s.add(at_most_one(p[i], f\"row_{i}\"))\n",
    "        s.add(at_most_one(col_i, f\"col_{i}\"))\n",
    "\n",
    "    # Add the diagonal constraints\n",
    "    for i in range(n - 1):\n",
    "        diag_ru = []\n",
    "        diag_lu = []\n",
    "        diag_rl = []\n",
    "        diag_ll = []\n",
    "        for j in range(n - i):\n",
    "            diag_ru += [p[i + j][j]]\n",
    "            diag_lu += [p[n - 1 - (i + j)][j]]\n",
    "            diag_rl += [p[i + j][n - 1 - j]]\n",
    "            diag_ll += [p[n - 1 - (i + j)][n - 1 - j]]\n",
    "        s.add(at_most_one(diag_ru, f\"diag_ru_{i}\"))\n",
    "        s.add(at_most_one(diag_lu, f\"diag_lu_{i}\"))\n",
    "        s.add(at_most_one(diag_rl, f\"diag_rl_{i}\"))\n",
    "        s.add(at_most_one(diag_ll, f\"diag_ll_{i}\"))\n",
    "\n",
    "    s.check()\n",
    "\n",
    "    m = s.model()\n",
    "    return [(i, j) for i in range(n) for j in range(n) if m.evaluate(p[i][j])]"
   ]
  },
  {
   "cell_type": "code",
   "execution_count": 335,
   "id": "9c94af13",
   "metadata": {},
   "outputs": [
    {
     "name": "stdout",
     "output_type": "stream",
     "text": [
      ". . . . . . . . . . . . . . . . . . . ♛ . . . . . . . . . . . . \n",
      ". . . . . . . . . . . . . . . . ♛ . . . . . . . . . . . . . . . \n",
      ". . . . . . . . . . . . . ♛ . . . . . . . . . . . . . . . . . . \n",
      ". . . . . . . . . . . ♛ . . . . . . . . . . . . . . . . . . . . \n",
      ". . . . . . . . ♛ . . . . . . . . . . . . . . . . . . . . . . . \n",
      ". . . . . . . . . . . . . . . . . . . . . . . . . ♛ . . . . . . \n",
      ". . . . . . . . . . . . . . . . . . . . ♛ . . . . . . . . . . . \n",
      ". . . . . . ♛ . . . . . . . . . . . . . . . . . . . . . . . . . \n",
      ". . . . . . . . . . . . . . . . . . . . . . . . . . . . . ♛ . . \n",
      ". . . . . . . ♛ . . . . . . . . . . . . . . . . . . . . . . . . \n",
      ". . . . . . . . . . . . . . . . . . . . . . . . . . ♛ . . . . . \n",
      ". . . . . . . . . . . . . . . . . . . . . . . . ♛ . . . . . . . \n",
      ". . . . . . . . . . . . . . . . . . . . . . . . . . . . . . ♛ . \n",
      ". . . . . . . . . . . . . . . . . . ♛ . . . . . . . . . . . . . \n",
      ". . . . . . . . . . . . . . . . . . . . . . . . . . . . . . . ♛ \n",
      ". . . . . . . . . . . . . . . . . ♛ . . . . . . . . . . . . . . \n",
      ". . . . . . . . . . . . . . . . . . . . . . . ♛ . . . . . . . . \n",
      ". . . . . ♛ . . . . . . . . . . . . . . . . . . . . . . . . . . \n",
      ". . . . . . . . . . . . . . . ♛ . . . . . . . . . . . . . . . . \n",
      ". . . . . . . . . . ♛ . . . . . . . . . . . . . . . . . . . . . \n",
      ". ♛ . . . . . . . . . . . . . . . . . . . . . . . . . . . . . . \n",
      ". . . . ♛ . . . . . . . . . . . . . . . . . . . . . . . . . . . \n",
      ". . ♛ . . . . . . . . . . . . . . . . . . . . . . . . . . . . . \n",
      "♛ . . . . . . . . . . . . . . . . . . . . . . . . . . . . . . . \n",
      ". . . ♛ . . . . . . . . . . . . . . . . . . . . . . . . . . . . \n",
      ". . . . . . . . . ♛ . . . . . . . . . . . . . . . . . . . . . . \n",
      ". . . . . . . . . . . . ♛ . . . . . . . . . . . . . . . . . . . \n",
      ". . . . . . . . . . . . . . . . . . . . . ♛ . . . . . . . . . . \n",
      ". . . . . . . . . . . . . . . . . . . . . . . . . . . . ♛ . . . \n",
      ". . . . . . . . . . . . . . ♛ . . . . . . . . . . . . . . . . . \n",
      ". . . . . . . . . . . . . . . . . . . . . . ♛ . . . . . . . . . \n",
      ". . . . . . . . . . . . . . . . . . . . . . . . . . . ♛ . . . . \n",
      "CPU times: user 10.4 s, sys: 140 ms, total: 10.5 s\n",
      "Wall time: 11.6 s\n"
     ]
    }
   ],
   "source": [
    "%%time\n",
    "at_most_one = at_most_one_np\n",
    "at_least_one = at_least_one_np \n",
    "exactly_one = exactly_one_np\n",
    "display_nqueens(nqueens_sat(32))"
   ]
  },
  {
   "cell_type": "code",
   "execution_count": 336,
   "id": "526a5d17",
   "metadata": {},
   "outputs": [
    {
     "name": "stdout",
     "output_type": "stream",
     "text": [
      ". . . . . . . . . . . . . . . . . . . . . . . . . . . . . . . ♛ \n",
      ". . . . . . . . . . . . . . ♛ . . . . . . . . . . . . . . . . . \n",
      ". . . . . . . . . . . . . . . . . ♛ . . . . . . . . . . . . . . \n",
      ". . . . . . . . . . . . . . . ♛ . . . . . . . . . . . . . . . . \n",
      ". . . . . . . . . . . . . . . . . . ♛ . . . . . . . . . . . . . \n",
      ". . . . . . . . . . . . ♛ . . . . . . . . . . . . . . . . . . . \n",
      ". . . . . . . . . . . . . . . . . . . . . . . . . . . ♛ . . . . \n",
      ". . . . . . . . . . . . . ♛ . . . . . . . . . . . . . . . . . . \n",
      ". . . . . . . . . . . . . . . . . . . ♛ . . . . . . . . . . . . \n",
      ". . . . . ♛ . . . . . . . . . . . . . . . . . . . . . . . . . . \n",
      ". . . . . . . . . . . . . . . . . . . . ♛ . . . . . . . . . . . \n",
      ". ♛ . . . . . . . . . . . . . . . . . . . . . . . . . . . . . . \n",
      ". . . . . . . . . ♛ . . . . . . . . . . . . . . . . . . . . . . \n",
      ". . . . . . . . . . . ♛ . . . . . . . . . . . . . . . . . . . . \n",
      ". . . . . . . . . . . . . . . . . . . . . . . ♛ . . . . . . . . \n",
      ". . . . . . . . ♛ . . . . . . . . . . . . . . . . . . . . . . . \n",
      "♛ . . . . . . . . . . . . . . . . . . . . . . . . . . . . . . . \n",
      ". . . . . . . . . . . . . . . . . . . . . . ♛ . . . . . . . . . \n",
      ". . . . . . . . . . . . . . . . . . . . . . . . . . ♛ . . . . . \n",
      ". . . . . . . . . . ♛ . . . . . . . . . . . . . . . . . . . . . \n",
      ". . . . . . . . . . . . . . . . . . . . . ♛ . . . . . . . . . . \n",
      ". . . . ♛ . . . . . . . . . . . . . . . . . . . . . . . . . . . \n",
      ". . . . . . . . . . . . . . . . . . . . . . . . . ♛ . . . . . . \n",
      ". . . ♛ . . . . . . . . . . . . . . . . . . . . . . . . . . . . \n",
      ". . . . . . . . . . . . . . . . . . . . . . . . . . . . ♛ . . . \n",
      ". . . . . . . ♛ . . . . . . . . . . . . . . . . . . . . . . . . \n",
      ". . ♛ . . . . . . . . . . . . . . . . . . . . . . . . . . . . . \n",
      ". . . . . . . . . . . . . . . . . . . . . . . . . . . . . ♛ . . \n",
      ". . . . . . ♛ . . . . . . . . . . . . . . . . . . . . . . . . . \n",
      ". . . . . . . . . . . . . . . . . . . . . . . . ♛ . . . . . . . \n",
      ". . . . . . . . . . . . . . . . ♛ . . . . . . . . . . . . . . . \n",
      ". . . . . . . . . . . . . . . . . . . . . . . . . . . . . . ♛ . \n",
      "CPU times: user 3.01 s, sys: 374 ms, total: 3.38 s\n",
      "Wall time: 3.26 s\n"
     ]
    }
   ],
   "source": [
    "%%time\n",
    "at_most_one = at_most_one_seq\n",
    "at_least_one = at_least_one_seq\n",
    "exactly_one = exactly_one_seq\n",
    "display_nqueens(nqueens_sat(32))"
   ]
  },
  {
   "cell_type": "code",
   "execution_count": 337,
   "id": "b35d11d8",
   "metadata": {},
   "outputs": [
    {
     "name": "stdout",
     "output_type": "stream",
     "text": [
      ". . . . . . . . . . . . . . . . . . . . . . . . . . . . . . ♛ . \n",
      ". ♛ . . . . . . . . . . . . . . . . . . . . . . . . . . . . . . \n",
      ". . . . . . . . . . . . ♛ . . . . . . . . . . . . . . . . . . . \n",
      ". . . . . . . . . . . . . . . ♛ . . . . . . . . . . . . . . . . \n",
      ". . . . . . . . . . . . . . . . . . . . . . . . . . . . . . . ♛ \n",
      ". . . . . . . . . . . . . . . . . . . . . . . ♛ . . . . . . . . \n",
      ". . . . . . . . . . . . . . . . . ♛ . . . . . . . . . . . . . . \n",
      ". . . . . . . . . ♛ . . . . . . . . . . . . . . . . . . . . . . \n",
      ". . . . . . . . . . . . . . ♛ . . . . . . . . . . . . . . . . . \n",
      ". . . . . . . . . . . . . . . . . . . . . . . . . ♛ . . . . . . \n",
      ". . . . . ♛ . . . . . . . . . . . . . . . . . . . . . . . . . . \n",
      ". . . . . . . . . . . . . . . . . . . . . . . . . . ♛ . . . . . \n",
      ". . . . . . . . . . . . . . . . . . . . ♛ . . . . . . . . . . . \n",
      ". . . . . . . . . . . . . . . . . . . . . . . . . . . ♛ . . . . \n",
      ". . . . . . . . . . . . . ♛ . . . . . . . . . . . . . . . . . . \n",
      ". . ♛ . . . . . . . . . . . . . . . . . . . . . . . . . . . . . \n",
      ". . . . . . . . . . . . . . . . . . . . . . . . . . . . . ♛ . . \n",
      ". . . ♛ . . . . . . . . . . . . . . . . . . . . . . . . . . . . \n",
      ". . . . . . ♛ . . . . . . . . . . . . . . . . . . . . . . . . . \n",
      ". . . . . . . . . . . . . . . . . . . . . . . . . . . . ♛ . . . \n",
      ". . . . . . . . . . . . . . . . . . . . . . . . ♛ . . . . . . . \n",
      ". . . . . . . . . . . . . . . . . . . . . . ♛ . . . . . . . . . \n",
      ". . . . . . . ♛ . . . . . . . . . . . . . . . . . . . . . . . . \n",
      ". . . . . . . . . . . . . . . . ♛ . . . . . . . . . . . . . . . \n",
      ". . . . . . . . . . . . . . . . . . ♛ . . . . . . . . . . . . . \n",
      ". . . . . . . . . . . . . . . . . . . . . ♛ . . . . . . . . . . \n",
      "♛ . . . . . . . . . . . . . . . . . . . . . . . . . . . . . . . \n",
      ". . . . . . . . . . . ♛ . . . . . . . . . . . . . . . . . . . . \n",
      ". . . . . . . . ♛ . . . . . . . . . . . . . . . . . . . . . . . \n",
      ". . . . ♛ . . . . . . . . . . . . . . . . . . . . . . . . . . . \n",
      ". . . . . . . . . . . . . . . . . . . ♛ . . . . . . . . . . . . \n",
      ". . . . . . . . . . ♛ . . . . . . . . . . . . . . . . . . . . . \n",
      "CPU times: user 5.75 s, sys: 408 ms, total: 6.16 s\n",
      "Wall time: 6.41 s\n"
     ]
    }
   ],
   "source": [
    "%%time\n",
    "at_most_one = at_most_one_bw\n",
    "at_least_one = at_least_one_bw\n",
    "exactly_one = exactly_one_bw\n",
    "display_nqueens(nqueens_sat(32))"
   ]
  },
  {
   "cell_type": "code",
   "execution_count": 348,
   "id": "f6578bb6",
   "metadata": {},
   "outputs": [
    {
     "name": "stdout",
     "output_type": "stream",
     "text": [
      ". . . . . . . . . . . . . . . . . . . . . . . . . . . ♛ . . . . \n",
      ". . . . . . . . . . . . . . . . . . . . . ♛ . . . . . . . . . . \n",
      ". . . . . . . . . ♛ . . . . . . . . . . . . . . . . . . . . . . \n",
      ". . . . . . . ♛ . . . . . . . . . . . . . . . . . . . . . . . . \n",
      ". . . . ♛ . . . . . . . . . . . . . . . . . . . . . . . . . . . \n",
      ". . . . . . . . . . . . . . . . . . . . . . . . . . . . . . . ♛ \n",
      ". . . . . . . . . . . . . . . . . . . . . . . . . ♛ . . . . . . \n",
      ". . . . . . . . . . . . . . . . . . . . . . ♛ . . . . . . . . . \n",
      ". ♛ . . . . . . . . . . . . . . . . . . . . . . . . . . . . . . \n",
      ". . . . . . . . . . ♛ . . . . . . . . . . . . . . . . . . . . . \n",
      ". . . . . . . . . . . . . ♛ . . . . . . . . . . . . . . . . . . \n",
      ". . . . . . . . . . . . . . . . . . . . . . . . . . . . . ♛ . . \n",
      ". . . . . . . . . . . . . . ♛ . . . . . . . . . . . . . . . . . \n",
      ". . . . . . . . . . . . . . . . . . . ♛ . . . . . . . . . . . . \n",
      ". . . . . . ♛ . . . . . . . . . . . . . . . . . . . . . . . . . \n",
      ". . . . . . . . . . . . . . . . . . . . ♛ . . . . . . . . . . . \n",
      ". . . . . ♛ . . . . . . . . . . . . . . . . . . . . . . . . . . \n",
      ". . . . . . . . . . . . . . . . ♛ . . . . . . . . . . . . . . . \n",
      ". . . . . . . . . . . . ♛ . . . . . . . . . . . . . . . . . . . \n",
      ". . . . . . . . . . . . . . . . . . . . . . . . . . . . ♛ . . . \n",
      ". . . . . . . . . . . . . . . . . ♛ . . . . . . . . . . . . . . \n",
      ". . . ♛ . . . . . . . . . . . . . . . . . . . . . . . . . . . . \n",
      ". . . . . . . . . . . . . . . . . . . . . . . . . . . . . . ♛ . \n",
      ". . . . . . . . . . . ♛ . . . . . . . . . . . . . . . . . . . . \n",
      ". . . . . . . . . . . . . . . ♛ . . . . . . . . . . . . . . . . \n",
      "♛ . . . . . . . . . . . . . . . . . . . . . . . . . . . . . . . \n",
      ". . ♛ . . . . . . . . . . . . . . . . . . . . . . . . . . . . . \n",
      ". . . . . . . . . . . . . . . . . . . . . . . ♛ . . . . . . . . \n",
      ". . . . . . . . . . . . . . . . . . . . . . . . . . ♛ . . . . . \n",
      ". . . . . . . . . . . . . . . . . . . . . . . . ♛ . . . . . . . \n",
      ". . . . . . . . ♛ . . . . . . . . . . . . . . . . . . . . . . . \n",
      ". . . . . . . . . . . . . . . . . . ♛ . . . . . . . . . . . . . \n",
      "CPU times: user 3.24 s, sys: 66.5 ms, total: 3.3 s\n",
      "Wall time: 3.58 s\n"
     ]
    }
   ],
   "source": [
    "%%time\n",
    "at_most_one = at_most_one_he\n",
    "at_least_one = at_least_one_he\n",
    "exactly_one = exactly_one_he\n",
    "display_nqueens(nqueens_sat(32))"
   ]
  },
  {
   "cell_type": "markdown",
   "id": "84146c86",
   "metadata": {},
   "source": [
    "### sudoku"
   ]
  },
  {
   "cell_type": "code",
   "execution_count": 367,
   "id": "742a29bd",
   "metadata": {},
   "outputs": [],
   "source": [
    "# Sudoku instances, '0's correspond to empty cells\n",
    "\n",
    "instance1 = ((0, 0, 0, 0, 9, 4, 0, 3, 0),\n",
    "             (0, 0, 0, 5, 1, 0, 0, 0, 7),\n",
    "             (0, 8, 9, 0, 0, 0, 0, 4, 0),\n",
    "             (0, 0, 0, 0, 0, 0, 2, 0, 8),\n",
    "             (0, 6, 0, 2, 0, 1, 0, 5, 0),\n",
    "             (1, 0, 2, 0, 0, 0, 0, 0, 0),\n",
    "             (0, 7, 0, 0, 0, 0, 5, 2, 0),\n",
    "             (9, 0, 0, 0, 6, 5, 0, 0, 0),\n",
    "             (0, 4, 0, 9, 7, 0, 0, 0, 0))\n",
    "\n",
    "instance2 = ((0, 0, 0, 0, 9, 0, 1, 0, 0),\n",
    "             (2, 8, 0, 0, 0, 5, 0, 0, 0),\n",
    "             (7, 0, 0, 0, 0, 6, 4, 0, 0),\n",
    "             (8, 0, 5, 0, 0, 3, 0, 0, 6),\n",
    "             (0, 0, 1, 0, 0, 4, 0, 0, 0),\n",
    "             (0, 7, 0, 2, 0, 0, 0, 0, 0),\n",
    "             (3, 0, 0, 0, 0, 1, 0, 8, 0),\n",
    "             (0, 0, 0, 0, 0, 0, 0, 5, 0),\n",
    "             (0, 9, 0, 0, 0, 0, 0, 7, 0))\n",
    "\n",
    "instance3 = ((0, 7, 0, 0, 0, 0, 0, 4, 9),\n",
    "             (0, 0, 0, 4, 0, 0, 0, 0, 0),\n",
    "             (4, 0, 3, 5, 0, 7, 0, 0, 8),\n",
    "             (0, 0, 7, 2, 5, 0, 4, 0, 0),\n",
    "             (0, 0, 0, 0, 0, 0, 8, 0, 0),\n",
    "             (0, 0, 4, 0, 3, 0, 5, 9, 2),\n",
    "             (6, 1, 8, 0, 0, 0, 0, 0, 5),\n",
    "             (0, 9, 0, 1, 0, 0, 0, 3, 0),\n",
    "             (0, 0, 5, 0, 0, 0, 0, 0, 7))\n",
    "\n",
    "instance4 = ((0, 0, 0, 0, 0, 6, 0, 0, 0),\n",
    "             (0, 5, 9, 0, 0, 0, 0, 0, 8),\n",
    "             (2, 0, 0, 0, 0, 8, 0, 0, 0),\n",
    "             (0, 4, 5, 0, 0, 0, 0, 0, 0),\n",
    "             (0, 0, 3, 0, 0, 0, 0, 0, 0),\n",
    "             (0, 0, 6, 0, 0, 3, 0, 5, 4),\n",
    "             (0, 0, 0, 3, 2, 5, 0, 0, 6),\n",
    "             (0, 0, 0, 0, 0, 0, 0, 0, 0),\n",
    "             (0, 0, 0, 0, 0, 0, 0, 0, 0))"
   ]
  },
  {
   "cell_type": "code",
   "execution_count": 368,
   "id": "3fd0acb0",
   "metadata": {},
   "outputs": [],
   "source": [
    "def sudoku_sat(instance):\n",
    "    # All the variables we need: for each cell, nine variables that determine which digit must be assigned.\n",
    "    v = [[[Bool(f\"v_{i}_{j}_{k}\") for k in range(9)] for j in range(9)] for i in range(9)]\n",
    "\n",
    "    s = Solver()\n",
    "\n",
    "    # A cell has only one value\n",
    "    for i in range(9):\n",
    "        for j in range(9):\n",
    "            s.add(exactly_one(v[i][j], f\"valid_cell_{i}_{j}\"))\n",
    "\n",
    "    # Each value is used only once in a row\n",
    "    for j in range(9):\n",
    "        for k in range(9):\n",
    "            s.add(exactly_one([v[i][j][k] for i in range(9)], f\"valid_row_{j}_{k}\"))\n",
    "\n",
    "    # Each value used exactly once in each column\n",
    "    for i in range(9):\n",
    "        for k in range(9):\n",
    "            s.add(exactly_one([v[i][j][k] for j in range(9)], f\"valid_column_{i}_{k}\"))\n",
    "\n",
    "    # Each value used exactly once in each 3x3 grid.\n",
    "    for ii in range(3):\n",
    "        for jj in range(3):\n",
    "            for k in range(9):\n",
    "                grid_cells = [v[3 * ii + a][3 * jj + b][k] for a in range(3) for b in range(3)]\n",
    "                s.add(exactly_one(grid_cells, f\"valid_grid_{ii}_{jj}_{k}\"))\n",
    "\n",
    "    # Some numbers are already available\n",
    "    for i in range(9):\n",
    "        for j in range(9):\n",
    "            if instance[i][j] > 0:\n",
    "                s.add(v[i][j][instance[i][j] - 1])\n",
    "\n",
    "    if s.check() == sat:\n",
    "        m = s.model()\n",
    "        sol = []\n",
    "        for i in range(9):\n",
    "            sol.append([])\n",
    "            for j in range(9):\n",
    "                for k in range(9):\n",
    "                    if m.evaluate(v[i][j][k]):\n",
    "                        sol[i].append(k+1)\n",
    "        return sol\n",
    "    else:\n",
    "        print(\"Failed to solve\")"
   ]
  },
  {
   "cell_type": "code",
   "execution_count": 369,
   "id": "486e7361",
   "metadata": {},
   "outputs": [
    {
     "data": {
      "image/png": "[encoded data removed]",
      "text/plain": [
       "<Figure size 288x288 with 1 Axes>"
      ]
     },
     "metadata": {
      "needs_background": "light"
     },
     "output_type": "display_data"
    }
   ],
   "source": [
    "# Select the instance you want to solve\n",
    "instance = instance4\n",
    "display_sudoku(instance)"
   ]
  },
  {
   "cell_type": "code",
   "execution_count": 370,
   "id": "f8930f73",
   "metadata": {},
   "outputs": [
    {
     "data": {
      "image/png": "[encoded data removed]",
      "text/plain": [
       "<Figure size 288x288 with 1 Axes>"
      ]
     },
     "metadata": {
      "needs_background": "light"
     },
     "output_type": "display_data"
    },
    {
     "name": "stdout",
     "output_type": "stream",
     "text": [
      "CPU times: user 3.01 s, sys: 54.1 ms, total: 3.07 s\n",
      "Wall time: 3.21 s\n"
     ]
    }
   ],
   "source": [
    "%%time\n",
    "at_most_one = at_most_one_np\n",
    "at_least_one = at_least_one_np \n",
    "exactly_one = exactly_one_np\n",
    "display_sudoku(sudoku_sat(instance))"
   ]
  },
  {
   "cell_type": "code",
   "execution_count": 371,
   "id": "6e5a62d4",
   "metadata": {},
   "outputs": [
    {
     "data": {
      "image/png": "[encoded data removed]",
      "text/plain": [
       "<Figure size 288x288 with 1 Axes>"
      ]
     },
     "metadata": {
      "needs_background": "light"
     },
     "output_type": "display_data"
    },
    {
     "name": "stdout",
     "output_type": "stream",
     "text": [
      "CPU times: user 2.52 s, sys: 66.8 ms, total: 2.59 s\n",
      "Wall time: 2.74 s\n"
     ]
    }
   ],
   "source": [
    "%%time\n",
    "at_most_one = at_most_one_seq\n",
    "at_least_one = at_least_one_seq \n",
    "exactly_one = exactly_one_seq\n",
    "display_sudoku(sudoku_sat(instance))"
   ]
  },
  {
   "cell_type": "code",
   "execution_count": 372,
   "id": "b5242e82",
   "metadata": {},
   "outputs": [
    {
     "data": {
      "image/png": "[encoded data removed]",
      "text/plain": [
       "<Figure size 288x288 with 1 Axes>"
      ]
     },
     "metadata": {
      "needs_background": "light"
     },
     "output_type": "display_data"
    },
    {
     "name": "stdout",
     "output_type": "stream",
     "text": [
      "CPU times: user 3.93 s, sys: 99.5 ms, total: 4.03 s\n",
      "Wall time: 4.35 s\n"
     ]
    }
   ],
   "source": [
    "%%time\n",
    "at_most_one = at_most_one_bw\n",
    "at_least_one = at_least_one_bw\n",
    "exactly_one = exactly_one_bw\n",
    "display_sudoku(sudoku_sat(instance))"
   ]
  },
  {
   "cell_type": "code",
   "execution_count": 373,
   "id": "ef9b13c2",
   "metadata": {},
   "outputs": [
    {
     "data": {
      "image/png": "[encoded data removed]",
      "text/plain": [
       "<Figure size 288x288 with 1 Axes>"
      ]
     },
     "metadata": {
      "needs_background": "light"
     },
     "output_type": "display_data"
    },
    {
     "name": "stdout",
     "output_type": "stream",
     "text": [
      "CPU times: user 2.39 s, sys: 62.6 ms, total: 2.46 s\n",
      "Wall time: 2.47 s\n"
     ]
    }
   ],
   "source": [
    "%%time\n",
    "at_most_one = at_most_one_he\n",
    "at_least_one = at_least_one_he\n",
    "exactly_one = exactly_one_he\n",
    "display_sudoku(sudoku_sat(instance))"
   ]
  },
  {
   "cell_type": "markdown",
   "id": "0d6ef0a8",
   "metadata": {},
   "source": [
    "## At most k encodings"
   ]
  },
  {
   "cell_type": "markdown",
   "id": "cafd35e8",
   "metadata": {},
   "source": [
    "### Naive pairwise"
   ]
  },
  {
   "cell_type": "code",
   "execution_count": null,
   "id": "25ada565",
   "metadata": {},
   "outputs": [],
   "source": [
    "def at_least_k_np(bool_vars, k, name = \"\"):\n",
    "    return at_most_k_np([Not(var) for var in bool_vars], len(bool_vars)-k, name)\n",
    "\n",
    "def at_most_k_np(bool_vars, k, name = \"\"):\n",
    "    return And([Or([Not(x) for x in X]) for X in combinations(bool_vars, k + 1)])\n",
    "\n",
    "def exactly_k_np(bool_vars, k, name = \"\"):\n",
    "    return And(at_most_k_np(bool_vars, k, name), at_least_k_np(bool_vars, k, name))"
   ]
  },
  {
   "cell_type": "markdown",
   "id": "57c1b557",
   "metadata": {},
   "source": [
    "### Sequential"
   ]
  },
  {
   "cell_type": "code",
   "execution_count": null,
   "id": "36b41368",
   "metadata": {},
   "outputs": [],
   "source": [
    "def at_least_k_seq(bool_vars, k, name):\n",
    "    return at_most_k_seq([Not(var) for var in bool_vars], len(bool_vars)-k, name)\n",
    "\n",
    "def at_most_k_seq(bool_vars, k, name):\n",
    "    constraints = []\n",
    "    n = len(bool_vars)\n",
    "    s = [[Bool(f\"s_{name}_{i}_{j}\") for j in range(k)] for i in range(n - 1)]\n",
    "    constraints.append(Or(Not(bool_vars[0]), s[0][0]))\n",
    "    constraints += [Not(s[0][j]) for j in range(1, k)]\n",
    "    for i in range(1, n-1):\n",
    "        constraints.append(Or(Not(bool_vars[i]), s[i][0]))\n",
    "        constraints.append(Or(Not(s[i-1][0]), s[i][0]))\n",
    "        constraints.append(Or(Not(bool_vars[i]), Not(s[i-1][k-1])))\n",
    "        for j in range(1, k):\n",
    "            constraints.append(Or(Not(bool_vars[i]), Not(s[i-1][j-1]), s[i][j]))\n",
    "            constraints.append(Or(Not(s[i-1][j]), s[i][j]))\n",
    "    constraints.append(Or(Not(bool_vars[n-1]), Not(s[n-2][k-1])))   \n",
    "    return And(constraints)\n",
    "\n",
    "def exactly_k_seq(bool_vars, k, name):\n",
    "    return And(at_most_k_seq(bool_vars, k, name), at_least_k_seq(bool_vars, k, name))"
   ]
  },
  {
   "cell_type": "markdown",
   "id": "10c9d363",
   "metadata": {},
   "source": [
    "## Examples"
   ]
  },
  {
   "cell_type": "markdown",
   "id": "458677a8",
   "metadata": {},
   "source": [
    "### Nurse scheduling problem"
   ]
  },
  {
   "cell_type": "code",
   "execution_count": null,
   "id": "2f21db8a",
   "metadata": {},
   "outputs": [],
   "source": [
    "instance1 = {\n",
    "    \"num_nurses\" : 4,\n",
    "    \"num_shifts\" : 3,\n",
    "    \"num_days\" : 3\n",
    "}\n",
    "\n",
    "instance2 = {\n",
    "    \"num_nurses\" : 4,\n",
    "    \"num_shifts\" : 3,\n",
    "    \"num_days\" : 4\n",
    "}\n",
    "\n",
    "instance3 = {\n",
    "    \"num_nurses\" : 10,\n",
    "    \"num_shifts\" : 3,\n",
    "    \"num_days\" : 30\n",
    "}"
   ]
  },
  {
   "cell_type": "code",
   "execution_count": null,
   "id": "b8251de1",
   "metadata": {},
   "outputs": [],
   "source": [
    "def nurse_scheduling_sat(num_nurses, num_shifts, num_days):\n",
    "    # Create all the variables, shifts[i, j, k] is True if shift k is assigned to nurse i on day j.\n",
    "    shifts = [[[Bool(f\"x_{i}_{j}_{k}\") for k in range(num_shifts)] for j in range(num_days)] for i in range(num_nurses)]\n",
    "\n",
    "    s = Solver()\n",
    "    \n",
    "    # In each shift can work just one nurse \n",
    "    for j in range(num_days):\n",
    "        for k in range(num_shifts):\n",
    "            s.add(exactly_one([shifts[i][j][k] for i in range(num_nurses)],  f\"one_nurse_{j}_{k}\"))\n",
    "    \n",
    "    # Each nurse can work one shift per day\n",
    "    for i in range(num_nurses):\n",
    "        for j in range(num_days):\n",
    "            s.add(at_most_one(shifts[i][j], f\"one_shift_{i}_{j}\"))\n",
    "            \n",
    "    # Fair assignment of shifts\n",
    "    min_shifts_per_nurse = (num_shifts * num_days) // num_nurses\n",
    "    if num_shifts * num_days % num_nurses == 0:\n",
    "        max_shifts_per_nurse = min_shifts_per_nurse\n",
    "    else:\n",
    "        max_shifts_per_nurse = min_shifts_per_nurse + 1\n",
    "    for i in range(num_nurses):\n",
    "        shifts_worked = []\n",
    "        for j in range(num_days):\n",
    "            for k in range(num_shifts):\n",
    "                shifts_worked.append(shifts[i][j][k])\n",
    "        s.add(at_least_k(shifts_worked, min_shifts_per_nurse, f\"shifts_worked_min_{i}\"))\n",
    "        s.add(at_most_k(shifts_worked, max_shifts_per_nurse, f\"shifts_worked_max_{i}\"))\n",
    "    \n",
    "    s.check()\n",
    "    \n",
    "    if s.check() == sat:\n",
    "        m = s.model()\n",
    "        return [(i, j, k) for i in range(num_nurses) for j in range(num_days) for k in range(num_shifts) if m.evaluate(shifts[i][j][k])]\n",
    "    else:\n",
    "        return \"Unsat\"     "
   ]
  },
  {
   "cell_type": "code",
   "execution_count": null,
   "id": "67dd8b76",
   "metadata": {},
   "outputs": [],
   "source": [
    "instance = instance2\n",
    "exactly_one = exactly_one_seq\n",
    "at_most_one = at_most_one_seq"
   ]
  },
  {
   "cell_type": "code",
   "execution_count": null,
   "id": "ca104948",
   "metadata": {},
   "outputs": [],
   "source": [
    "%%time\n",
    "at_most_k = at_most_k_np\n",
    "at_least_k = at_least_k_np\n",
    "exactly_k = exactly_k_np\n",
    "display_nurses_shifts(nurse_scheduling_sat(instance[\"num_nurses\"], instance[\"num_shifts\"], instance[\"num_days\"]), instance[\"num_nurses\"], instance[\"num_shifts\"], instance[\"num_days\"])"
   ]
  },
  {
   "cell_type": "code",
   "execution_count": 475,
   "id": "d804e823",
   "metadata": {},
   "outputs": [
    {
     "name": "stdout",
     "output_type": "stream",
     "text": [
      "sat\n",
      "Day 0\n",
      "  Nurse 0 does not work\n",
      "  Nurse 1 does not work\n",
      "  Nurse 2 works shift 0\n",
      "  Nurse 3 does not work\n",
      "  Nurse 4 works shift 2\n",
      "  Nurse 5 does not work\n",
      "  Nurse 6 works shift 1\n",
      "  Nurse 7 does not work\n",
      "  Nurse 8 does not work\n",
      "  Nurse 9 does not work\n",
      "Day 1\n",
      "  Nurse 0 works shift 2\n",
      "  Nurse 1 works shift 0\n",
      "  Nurse 2 does not work\n",
      "  Nurse 3 does not work\n",
      "  Nurse 4 works shift 1\n",
      "  Nurse 5 does not work\n",
      "  Nurse 6 does not work\n",
      "  Nurse 7 does not work\n",
      "  Nurse 8 does not work\n",
      "  Nurse 9 does not work\n",
      "Day 2\n",
      "  Nurse 0 does not work\n",
      "  Nurse 1 works shift 1\n",
      "  Nurse 2 does not work\n",
      "  Nurse 3 does not work\n",
      "  Nurse 4 does not work\n",
      "  Nurse 5 works shift 2\n",
      "  Nurse 6 does not work\n",
      "  Nurse 7 works shift 0\n",
      "  Nurse 8 does not work\n",
      "  Nurse 9 does not work\n",
      "Day 3\n",
      "  Nurse 0 works shift 1\n",
      "  Nurse 1 works shift 0\n",
      "  Nurse 2 does not work\n",
      "  Nurse 3 does not work\n",
      "  Nurse 4 does not work\n",
      "  Nurse 5 does not work\n",
      "  Nurse 6 works shift 2\n",
      "  Nurse 7 does not work\n",
      "  Nurse 8 does not work\n",
      "  Nurse 9 does not work\n",
      "Day 4\n",
      "  Nurse 0 works shift 2\n",
      "  Nurse 1 does not work\n",
      "  Nurse 2 does not work\n",
      "  Nurse 3 does not work\n",
      "  Nurse 4 works shift 1\n",
      "  Nurse 5 does not work\n",
      "  Nurse 6 works shift 0\n",
      "  Nurse 7 does not work\n",
      "  Nurse 8 does not work\n",
      "  Nurse 9 does not work\n",
      "Day 5\n",
      "  Nurse 0 does not work\n",
      "  Nurse 1 does not work\n",
      "  Nurse 2 works shift 1\n",
      "  Nurse 3 does not work\n",
      "  Nurse 4 works shift 0\n",
      "  Nurse 5 does not work\n",
      "  Nurse 6 works shift 2\n",
      "  Nurse 7 does not work\n",
      "  Nurse 8 does not work\n",
      "  Nurse 9 does not work\n",
      "Day 6\n",
      "  Nurse 0 works shift 0\n",
      "  Nurse 1 does not work\n",
      "  Nurse 2 works shift 2\n",
      "  Nurse 3 does not work\n",
      "  Nurse 4 does not work\n",
      "  Nurse 5 does not work\n",
      "  Nurse 6 works shift 1\n",
      "  Nurse 7 does not work\n",
      "  Nurse 8 does not work\n",
      "  Nurse 9 does not work\n",
      "Day 7\n",
      "  Nurse 0 works shift 2\n",
      "  Nurse 1 does not work\n",
      "  Nurse 2 works shift 1\n",
      "  Nurse 3 does not work\n",
      "  Nurse 4 does not work\n",
      "  Nurse 5 does not work\n",
      "  Nurse 6 does not work\n",
      "  Nurse 7 does not work\n",
      "  Nurse 8 does not work\n",
      "  Nurse 9 works shift 0\n",
      "Day 8\n",
      "  Nurse 0 does not work\n",
      "  Nurse 1 does not work\n",
      "  Nurse 2 works shift 2\n",
      "  Nurse 3 does not work\n",
      "  Nurse 4 works shift 0\n",
      "  Nurse 5 does not work\n",
      "  Nurse 6 works shift 1\n",
      "  Nurse 7 does not work\n",
      "  Nurse 8 does not work\n",
      "  Nurse 9 does not work\n",
      "Day 9\n",
      "  Nurse 0 does not work\n",
      "  Nurse 1 does not work\n",
      "  Nurse 2 works shift 1\n",
      "  Nurse 3 does not work\n",
      "  Nurse 4 works shift 0\n",
      "  Nurse 5 does not work\n",
      "  Nurse 6 works shift 2\n",
      "  Nurse 7 does not work\n",
      "  Nurse 8 does not work\n",
      "  Nurse 9 does not work\n",
      "Day 10\n",
      "  Nurse 0 works shift 2\n",
      "  Nurse 1 does not work\n",
      "  Nurse 2 works shift 0\n",
      "  Nurse 3 does not work\n",
      "  Nurse 4 works shift 1\n",
      "  Nurse 5 does not work\n",
      "  Nurse 6 does not work\n",
      "  Nurse 7 does not work\n",
      "  Nurse 8 does not work\n",
      "  Nurse 9 does not work\n",
      "Day 11\n",
      "  Nurse 0 works shift 0\n",
      "  Nurse 1 works shift 1\n",
      "  Nurse 2 does not work\n",
      "  Nurse 3 does not work\n",
      "  Nurse 4 does not work\n",
      "  Nurse 5 works shift 2\n",
      "  Nurse 6 does not work\n",
      "  Nurse 7 does not work\n",
      "  Nurse 8 does not work\n",
      "  Nurse 9 does not work\n",
      "Day 12\n",
      "  Nurse 0 does not work\n",
      "  Nurse 1 does not work\n",
      "  Nurse 2 works shift 0\n",
      "  Nurse 3 does not work\n",
      "  Nurse 4 does not work\n",
      "  Nurse 5 works shift 1\n",
      "  Nurse 6 works shift 2\n",
      "  Nurse 7 does not work\n",
      "  Nurse 8 does not work\n",
      "  Nurse 9 does not work\n",
      "Day 13\n",
      "  Nurse 0 works shift 1\n",
      "  Nurse 1 does not work\n",
      "  Nurse 2 does not work\n",
      "  Nurse 3 works shift 2\n",
      "  Nurse 4 does not work\n",
      "  Nurse 5 does not work\n",
      "  Nurse 6 does not work\n",
      "  Nurse 7 does not work\n",
      "  Nurse 8 does not work\n",
      "  Nurse 9 works shift 0\n",
      "Day 14\n",
      "  Nurse 0 does not work\n",
      "  Nurse 1 does not work\n",
      "  Nurse 2 works shift 1\n",
      "  Nurse 3 does not work\n",
      "  Nurse 4 works shift 0\n",
      "  Nurse 5 does not work\n",
      "  Nurse 6 does not work\n",
      "  Nurse 7 does not work\n",
      "  Nurse 8 does not work\n",
      "  Nurse 9 works shift 2\n",
      "Day 15\n",
      "  Nurse 0 does not work\n",
      "  Nurse 1 works shift 1\n",
      "  Nurse 2 does not work\n",
      "  Nurse 3 does not work\n",
      "  Nurse 4 does not work\n",
      "  Nurse 5 does not work\n",
      "  Nurse 6 does not work\n",
      "  Nurse 7 does not work\n",
      "  Nurse 8 works shift 0\n",
      "  Nurse 9 works shift 2\n",
      "Day 16\n",
      "  Nurse 0 does not work\n",
      "  Nurse 1 does not work\n",
      "  Nurse 2 does not work\n",
      "  Nurse 3 does not work\n",
      "  Nurse 4 does not work\n",
      "  Nurse 5 works shift 1\n",
      "  Nurse 6 does not work\n",
      "  Nurse 7 works shift 2\n",
      "  Nurse 8 does not work\n",
      "  Nurse 9 works shift 0\n",
      "Day 17\n",
      "  Nurse 0 does not work\n",
      "  Nurse 1 does not work\n",
      "  Nurse 2 does not work\n",
      "  Nurse 3 works shift 2\n",
      "  Nurse 4 does not work\n",
      "  Nurse 5 works shift 1\n",
      "  Nurse 6 does not work\n",
      "  Nurse 7 does not work\n",
      "  Nurse 8 works shift 0\n",
      "  Nurse 9 does not work\n",
      "Day 18\n",
      "  Nurse 0 does not work\n",
      "  Nurse 1 works shift 1\n",
      "  Nurse 2 does not work\n",
      "  Nurse 3 does not work\n",
      "  Nurse 4 does not work\n",
      "  Nurse 5 works shift 2\n",
      "  Nurse 6 does not work\n",
      "  Nurse 7 does not work\n",
      "  Nurse 8 works shift 0\n",
      "  Nurse 9 does not work\n",
      "Day 19\n",
      "  Nurse 0 works shift 0\n",
      "  Nurse 1 works shift 1\n",
      "  Nurse 2 does not work\n",
      "  Nurse 3 does not work\n",
      "  Nurse 4 does not work\n",
      "  Nurse 5 does not work\n",
      "  Nurse 6 does not work\n",
      "  Nurse 7 does not work\n",
      "  Nurse 8 works shift 2\n",
      "  Nurse 9 does not work\n",
      "Day 20\n",
      "  Nurse 0 does not work\n",
      "  Nurse 1 does not work\n",
      "  Nurse 2 does not work\n",
      "  Nurse 3 works shift 0\n",
      "  Nurse 4 does not work\n",
      "  Nurse 5 works shift 2\n",
      "  Nurse 6 does not work\n",
      "  Nurse 7 works shift 1\n",
      "  Nurse 8 does not work\n",
      "  Nurse 9 does not work\n",
      "Day 21\n",
      "  Nurse 0 does not work\n",
      "  Nurse 1 works shift 0\n",
      "  Nurse 2 does not work\n",
      "  Nurse 3 works shift 2\n",
      "  Nurse 4 does not work\n",
      "  Nurse 5 does not work\n",
      "  Nurse 6 does not work\n",
      "  Nurse 7 works shift 1\n",
      "  Nurse 8 does not work\n",
      "  Nurse 9 does not work\n",
      "Day 22\n",
      "  Nurse 0 does not work\n",
      "  Nurse 1 does not work\n",
      "  Nurse 2 does not work\n",
      "  Nurse 3 does not work\n",
      "  Nurse 4 does not work\n",
      "  Nurse 5 does not work\n",
      "  Nurse 6 works shift 1\n",
      "  Nurse 7 works shift 0\n",
      "  Nurse 8 works shift 2\n",
      "  Nurse 9 does not work\n",
      "Day 23\n",
      "  Nurse 0 does not work\n",
      "  Nurse 1 works shift 1\n",
      "  Nurse 2 does not work\n",
      "  Nurse 3 does not work\n",
      "  Nurse 4 does not work\n",
      "  Nurse 5 does not work\n",
      "  Nurse 6 does not work\n",
      "  Nurse 7 works shift 0\n",
      "  Nurse 8 works shift 2\n",
      "  Nurse 9 does not work\n",
      "Day 24\n",
      "  Nurse 0 does not work\n",
      "  Nurse 1 does not work\n",
      "  Nurse 2 does not work\n",
      "  Nurse 3 works shift 0\n",
      "  Nurse 4 works shift 2\n",
      "  Nurse 5 does not work\n",
      "  Nurse 6 does not work\n",
      "  Nurse 7 does not work\n",
      "  Nurse 8 does not work\n",
      "  Nurse 9 works shift 1\n",
      "Day 25\n",
      "  Nurse 0 does not work\n",
      "  Nurse 1 does not work\n",
      "  Nurse 2 does not work\n",
      "  Nurse 3 works shift 1\n",
      "  Nurse 4 does not work\n",
      "  Nurse 5 works shift 0\n",
      "  Nurse 6 does not work\n",
      "  Nurse 7 does not work\n",
      "  Nurse 8 does not work\n",
      "  Nurse 9 works shift 2\n",
      "Day 26\n",
      "  Nurse 0 does not work\n",
      "  Nurse 1 does not work\n",
      "  Nurse 2 does not work\n",
      "  Nurse 3 works shift 0\n",
      "  Nurse 4 does not work\n",
      "  Nurse 5 does not work\n",
      "  Nurse 6 does not work\n",
      "  Nurse 7 works shift 2\n",
      "  Nurse 8 does not work\n",
      "  Nurse 9 works shift 1\n",
      "Day 27\n",
      "  Nurse 0 does not work\n",
      "  Nurse 1 does not work\n",
      "  Nurse 2 does not work\n",
      "  Nurse 3 works shift 2\n",
      "  Nurse 4 does not work\n",
      "  Nurse 5 does not work\n",
      "  Nurse 6 does not work\n",
      "  Nurse 7 does not work\n",
      "  Nurse 8 works shift 1\n",
      "  Nurse 9 works shift 0\n",
      "Day 28\n",
      "  Nurse 0 does not work\n",
      "  Nurse 1 does not work\n",
      "  Nurse 2 does not work\n",
      "  Nurse 3 works shift 2\n",
      "  Nurse 4 does not work\n",
      "  Nurse 5 does not work\n",
      "  Nurse 6 does not work\n",
      "  Nurse 7 works shift 1\n",
      "  Nurse 8 works shift 0\n",
      "  Nurse 9 does not work\n",
      "Day 29\n",
      "  Nurse 0 does not work\n",
      "  Nurse 1 does not work\n",
      "  Nurse 2 does not work\n",
      "  Nurse 3 does not work\n",
      "  Nurse 4 does not work\n",
      "  Nurse 5 works shift 1\n",
      "  Nurse 6 does not work\n",
      "  Nurse 7 works shift 2\n",
      "  Nurse 8 works shift 0\n",
      "  Nurse 9 does not work\n",
      "CPU times: user 40.7 s, sys: 284 ms, total: 41 s\n",
      "Wall time: 41 s\n"
     ]
    }
   ],
   "source": [
    "%%time\n",
    "at_most_k = at_most_k_seq\n",
    "at_least_k = at_least_k_seq\n",
    "exactly_k = exactly_k_seq\n",
    "display_nurses_shifts(nurse_scheduling_sat(instance[\"num_nurses\"], instance[\"num_shifts\"], instance[\"num_days\"]), instance[\"num_nurses\"], instance[\"num_shifts\"], instance[\"num_days\"])"
   ]
  }
 ],
 "metadata": {
  "kernelspec": {
   "display_name": "Python 3",
   "language": "python",
   "name": "python3"
  },
  "language_info": {
   "codemirror_mode": {
    "name": "ipython",
    "version": 3
   },
   "file_extension": ".py",
   "mimetype": "text/x-python",
   "name": "python",
   "nbconvert_exporter": "python",
   "pygments_lexer": "ipython3",
   "version": "3.8.8"
  }
 },
 "nbformat": 4,
 "nbformat_minor": 5
}
