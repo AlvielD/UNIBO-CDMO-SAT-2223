{
 "cells": [
  {
   "cell_type": "markdown",
   "id": "accessory-couple",
   "metadata": {},
   "source": [
    "# Z3 SAT Exercises\n",
    "\n",
    "> Before trying to solve the exercises contained in this notebook, the reader is suggested to have gained experience with the tool through the `Tutorial.ipynb` notebook."
   ]
  },
  {
   "cell_type": "code",
   "execution_count": 16,
   "id": "fuzzy-intersection",
   "metadata": {
    "pycharm": {
     "name": "#%%\n"
    }
   },
   "outputs": [],
   "source": [
    "from itertools import combinations\n",
    "from z3 import *\n",
    "from utils import *"
   ]
  },
  {
   "cell_type": "markdown",
   "id": "f25d8a5b",
   "metadata": {},
   "source": [
    "## Useful contraints"
   ]
  },
  {
   "cell_type": "code",
   "execution_count": 36,
   "id": "f81eab93",
   "metadata": {
    "pycharm": {
     "name": "#%%\n"
    }
   },
   "outputs": [],
   "source": [
    "def at_least_one(bool_vars):\n",
    "    return Or(bool_vars)\n",
    "\n",
    "def at_most_one(bool_vars):\n",
    "    return [Not(And(a,b)) for a, b in combinations(bool_vars, 2)]\n",
    "\n",
    "def exactly_one(bool_vars):\n",
    "    out_constraints = at_most_one(bool_vars)\n",
    "    out_constraints.append(at_least_one(bool_vars))\n",
    "    return out_constraints"
   ]
  },
  {
   "cell_type": "markdown",
   "id": "8191d230",
   "metadata": {},
   "source": [
    "## Knights and Knaves"
   ]
  },
  {
   "cell_type": "code",
   "execution_count": 18,
   "id": "422111cc",
   "metadata": {},
   "outputs": [
    {
     "name": "stdout",
     "output_type": "stream",
     "text": [
      "[A = True, B = True]\n"
     ]
    }
   ],
   "source": [
    "# Which are the variables?\n",
    "\n",
    "# A holds if A is a knight, otherwise, A is a knave.\n",
    "A = Bool('A')\n",
    "B = Bool('B')\n",
    "\n",
    "# Instantiation of the solver\n",
    "s = Solver()\n",
    "\n",
    "# Encode A's statement\n",
    "statement = Or(Not(A), B)\n",
    "\n",
    "# Now we start adding constraints\n",
    "\n",
    "# If A is a knight, then A's statement is true\n",
    "s.add(Implies(A, statement))\n",
    "\n",
    "# If A is a knave, then A's statement is a lie\n",
    "s.add(Implies(Not(A), Not(statement)))\n",
    "\n",
    "# Unicity check\n",
    "# s.add(Not(And(AisKnight, BisKnight)))\n",
    "\n",
    "# Check model is sat\n",
    "if s.check() == sat:\n",
    "    print(s.model())\n",
    "else:\n",
    "    print(\"Not sat\")"
   ]
  },
  {
   "cell_type": "markdown",
   "id": "048d1ab0",
   "metadata": {},
   "source": [
    "## Coloring graph"
   ]
  },
  {
   "cell_type": "markdown",
   "id": "db9932e4",
   "metadata": {},
   "source": [
    "Another famous problem is the [coloring graph](https://www.google.com/url?sa=t&rct=j&q=&esrc=s&source=web&cd=&cad=rja&uact=8&ved=2ahUKEwjAlpGV4az2AhUP2aQKHY_5BQwQFnoECAQQAQ&url=https%3A%2F%2Fen.wikipedia.org%2Fwiki%2FGraph_coloring&usg=AOvVaw0F_XS2AN3uz4G-IJx5Q8j0). \n",
    "\n",
    "Given a graph $({v_1,...,v_n},E)$ and $d$ colors, we need to assign a color to each vertex, s.t. if $(v_i,v_j) ∈ E$ then color of $v_i$ is different from color of $v_j$. "
   ]
  },
  {
   "cell_type": "code",
   "execution_count": 25,
   "id": "8c485f56",
   "metadata": {},
   "outputs": [],
   "source": [
    "def coloring_graph_sat(n, d, E):\n",
    "    \n",
    "    s = Solver()    # Solver instance\n",
    "\n",
    "    # Get an array of variables where v_i_j holds if the vertex v_i has color j\n",
    "    v = [[Bool(f\"x_{i}_{j}\") for j in range(d)] for i in range(n)]\n",
    "    \n",
    "    # Each vertex has at least one color \n",
    "    for i in range(n):\n",
    "        s.add(at_least_one(v[i]))\n",
    "    \n",
    "    # Each edge must have different colors in its vertices\n",
    "    for i, j in E:\n",
    "        for k in range(d):\n",
    "            s.add(Not(And(v[i][k], v[j][k])))\n",
    "    \n",
    "    # Check model\n",
    "    if s.check() == sat:\n",
    "        m = s.model()\n",
    "        return [(i,j) for j in range(d) for i in range(n) if m.evaluate(v[i][j])]\n",
    "    else:\n",
    "        print(\"Not sat\")\n",
    "        return "
   ]
  },
  {
   "cell_type": "code",
   "execution_count": 26,
   "id": "efdbca29",
   "metadata": {},
   "outputs": [],
   "source": [
    "instance1 = {\n",
    "        \"n\" : 5,\n",
    "        \"d\": 3,\n",
    "        \"E\" : [\n",
    "            (0, 2),\n",
    "            (0, 4),\n",
    "            (1, 2),\n",
    "            (1, 4),\n",
    "            (2, 3), \n",
    "            (3, 4)\n",
    "        ]\n",
    "    }\n",
    "instance2 = {\n",
    "        \"n\":10,\n",
    "        \"d\":3,\n",
    "        \"E\":[\n",
    "            (0, 1),\n",
    "            (0, 4),\n",
    "            (0, 5),\n",
    "            (1, 2),\n",
    "            (1, 6),\n",
    "            (2, 7),\n",
    "            (2, 3),\n",
    "            (3, 8),\n",
    "            (3, 4),\n",
    "            (4, 9),\n",
    "            (9, 6),\n",
    "            (9, 7),\n",
    "            (6, 8),\n",
    "            (5, 7),\n",
    "            (5, 8), \n",
    "        ]\n",
    "}"
   ]
  },
  {
   "cell_type": "code",
   "execution_count": 30,
   "id": "acdb4f25",
   "metadata": {},
   "outputs": [],
   "source": [
    "instance = instance2"
   ]
  },
  {
   "cell_type": "code",
   "execution_count": 28,
   "id": "bfc66aac",
   "metadata": {},
   "outputs": [
    {
     "data": {
      "image/png": "[encoded data removed]",
      "text/plain": [
       "<Figure size 432x288 with 1 Axes>"
      ]
     },
     "metadata": {},
     "output_type": "display_data"
    }
   ],
   "source": [
    "display_color_graph(E = instance[\"E\"])"
   ]
  },
  {
   "cell_type": "code",
   "execution_count": 35,
   "id": "acf333f6",
   "metadata": {},
   "outputs": [
    {
     "name": "stdout",
     "output_type": "stream",
     "text": [
      "Wall time: 39 ms\n"
     ]
    },
    {
     "data": {
      "image/png": "[encoded data removed]",
      "text/plain": [
       "<Figure size 432x288 with 1 Axes>"
      ]
     },
     "metadata": {},
     "output_type": "display_data"
    }
   ],
   "source": [
    "%%time\n",
    "display_color_graph(sol = coloring_graph_sat(instance[\"n\"], instance[\"d\"], instance[\"E\"]), E = instance[\"E\"])"
   ]
  },
  {
   "cell_type": "markdown",
   "id": "50a7ea52",
   "metadata": {},
   "source": [
    "## N-Queens"
   ]
  },
  {
   "cell_type": "markdown",
   "id": "d18ea08c",
   "metadata": {},
   "source": [
    "The [n-queens problem](https://en.wikipedia.org/wiki/Eight_queens_puzzle) is the problem of placing n chess queens in a $nxn$ chessboard so that no two queens threaten each other. In light of this, the solution requires that no two queens share the same row, column, or diagonal."
   ]
  },
  {
   "cell_type": "code",
   "execution_count": 51,
   "id": "7f070a1e",
   "metadata": {
    "pycharm": {
     "name": "#%%\n"
    }
   },
   "outputs": [],
   "source": [
    "def nqueens_sat(n):\n",
    "    # Create all the variables\n",
    "    c = [[Bool(f\"c_{i}_{j}\") for j in range(n)] for i in range(n)]\n",
    "\n",
    "    # Create the solver instance\n",
    "    s = Solver()\n",
    "\n",
    "    # At least one on each row and column\n",
    "    for i in range(n):\n",
    "        s.add(at_least_one(c[i]))\n",
    "        s.add(at_least_one([c[i][j] for j in range(n)]))\n",
    "\n",
    "    # At most one on each row and column\n",
    "    for i in range(n):\n",
    "        s.add(at_most_one(c[i]))\n",
    "        s.add(at_most_one([c[j][i] for j in range(n)]))\n",
    "\n",
    "    # Add the diagonal constraints\n",
    "    # I feel the names are a bit confusing, but all the diagonals are covered\n",
    "    for i in range(n-1):\n",
    "\n",
    "        # Define the arrays for each diagonal\n",
    "        diag_ru = []\n",
    "        diag_rl = []\n",
    "        diag_lu = []\n",
    "        diag_ll = []\n",
    "\n",
    "        for j in range(n-i):\n",
    "            diag_ru.append(c[n - 1 - (i + j)][n - 1 - j])\n",
    "            diag_rl.append(c[n - 1 - (i + j)][j])\n",
    "            diag_lu.append(c[i + j][j])\n",
    "            diag_ll.append(c[i + j][n - 1 - j])\n",
    "        \n",
    "        s.add(at_most_one(diag_ru))\n",
    "        s.add(at_most_one(diag_rl))\n",
    "        s.add(at_most_one(diag_lu))\n",
    "        s.add(at_most_one(diag_ll))\n",
    "    \n",
    "    # Check model \n",
    "    if s.check() == sat:\n",
    "        m = s.model()\n",
    "        return [(i,j) for j in range(n) for i in range(n) if m.evaluate(c[i][j])]\n",
    "    else:\n",
    "        print(\"Not sat\")"
   ]
  },
  {
   "cell_type": "code",
   "execution_count": 52,
   "id": "264645a0",
   "metadata": {
    "pycharm": {
     "name": "#%%\n"
    }
   },
   "outputs": [
    {
     "name": "stdout",
     "output_type": "stream",
     "text": [
      ". . . . . ♛ . . . \n",
      ". . . ♛ . . . . . \n",
      ". . . . . . . . ♛ \n",
      ". . . . ♛ . . . . \n",
      ". . . . . . . ♛ . \n",
      ". ♛ . . . . . . . \n",
      ". . . . . . ♛ . . \n",
      ". . ♛ . . . . . . \n",
      "♛ . . . . . . . . \n",
      "Wall time: 122 ms\n"
     ]
    }
   ],
   "source": [
    "%%time\n",
    "display_nqueens(nqueens_sat(9))"
   ]
  },
  {
   "cell_type": "markdown",
   "id": "strange-condition",
   "metadata": {},
   "source": [
    "## Sudoku\n",
    "\n",
    "[Sudoku](https://en.wikipedia.org/wiki/Sudoku) is a logic-based, combinatorial number-placement puzzle. In classic sudoku, the objective is to fill a 9 × 9 grid with digits so that each column, each row, and each of the nine 3 × 3 subgrids that compose the grid contain all of the digits from 1 to 9. "
   ]
  },
  {
   "cell_type": "code",
   "execution_count": null,
   "id": "charitable-branch",
   "metadata": {
    "pycharm": {
     "name": "#%%\n"
    }
   },
   "outputs": [],
   "source": [
    "# Sudoku instances, '0's correspond to empty cells\n",
    "\n",
    "instance1 = ((0, 0, 0, 0, 9, 4, 0, 3, 0),\n",
    "             (0, 0, 0, 5, 1, 0, 0, 0, 7),\n",
    "             (0, 8, 9, 0, 0, 0, 0, 4, 0),\n",
    "             (0, 0, 0, 0, 0, 0, 2, 0, 8),\n",
    "             (0, 6, 0, 2, 0, 1, 0, 5, 0),\n",
    "             (1, 0, 2, 0, 0, 0, 0, 0, 0),\n",
    "             (0, 7, 0, 0, 0, 0, 5, 2, 0),\n",
    "             (9, 0, 0, 0, 6, 5, 0, 0, 0),\n",
    "             (0, 4, 0, 9, 7, 0, 0, 0, 0))\n",
    "\n",
    "instance2 = ((0, 0, 0, 0, 9, 0, 1, 0, 0),\n",
    "             (2, 8, 0, 0, 0, 5, 0, 0, 0),\n",
    "             (7, 0, 0, 0, 0, 6, 4, 0, 0),\n",
    "             (8, 0, 5, 0, 0, 3, 0, 0, 6),\n",
    "             (0, 0, 1, 0, 0, 4, 0, 0, 0),\n",
    "             (0, 7, 0, 2, 0, 0, 0, 0, 0),\n",
    "             (3, 0, 0, 0, 0, 1, 0, 8, 0),\n",
    "             (0, 0, 0, 0, 0, 0, 0, 5, 0),\n",
    "             (0, 9, 0, 0, 0, 0, 0, 7, 0))\n",
    "\n",
    "instance3 = ((0, 7, 0, 0, 0, 0, 0, 4, 9),\n",
    "             (0, 0, 0, 4, 0, 0, 0, 0, 0),\n",
    "             (4, 0, 3, 5, 0, 7, 0, 0, 8),\n",
    "             (0, 0, 7, 2, 5, 0, 4, 0, 0),\n",
    "             (0, 0, 0, 0, 0, 0, 8, 0, 0),\n",
    "             (0, 0, 4, 0, 3, 0, 5, 9, 2),\n",
    "             (6, 1, 8, 0, 0, 0, 0, 0, 5),\n",
    "             (0, 9, 0, 1, 0, 0, 0, 3, 0),\n",
    "             (0, 0, 5, 0, 0, 0, 0, 0, 7))\n",
    "\n",
    "instance4 = ((0, 0, 0, 0, 0, 6, 0, 0, 0),\n",
    "             (0, 5, 9, 0, 0, 0, 0, 0, 8),\n",
    "             (2, 0, 0, 0, 0, 8, 0, 0, 0),\n",
    "             (0, 4, 5, 0, 0, 0, 0, 0, 0),\n",
    "             (0, 0, 3, 0, 0, 0, 0, 0, 0),\n",
    "             (0, 0, 6, 0, 0, 3, 0, 5, 4),\n",
    "             (0, 0, 0, 3, 2, 5, 0, 0, 6),\n",
    "             (0, 0, 0, 0, 0, 0, 0, 0, 0),\n",
    "             (0, 0, 0, 0, 0, 0, 0, 0, 0))"
   ]
  },
  {
   "cell_type": "code",
   "execution_count": null,
   "id": "complete-single",
   "metadata": {
    "pycharm": {
     "name": "#%%\n"
    }
   },
   "outputs": [],
   "source": [
    "def sudoku_sat(instance):\n",
    "    # All the variables we need: for each cell, nine variables that determine which digit must be assigned.\n",
    "\n",
    "    # A cell has only one value\n",
    "    \n",
    "    # Each value is used only once in a row\n",
    "    \n",
    "    # Each value used exactly once in each column\n",
    "\n",
    "    # Each value used exactly once in each 3x3 grid.\n",
    "\n",
    "    # Some numbers are already available\n",
    "    \n",
    "    pass"
   ]
  },
  {
   "cell_type": "code",
   "execution_count": null,
   "id": "42ba914c",
   "metadata": {
    "pycharm": {
     "name": "#%%\n"
    }
   },
   "outputs": [],
   "source": [
    "# Select the instance you want to solve\n",
    "instance = instance4\n",
    "display_sudoku(instance)"
   ]
  },
  {
   "cell_type": "code",
   "execution_count": null,
   "id": "6d7082ce",
   "metadata": {
    "pycharm": {
     "name": "#%%\n"
    }
   },
   "outputs": [],
   "source": [
    "%%time\n",
    "display_sudoku(sudoku_sat(instance))"
   ]
  },
  {
   "cell_type": "markdown",
   "id": "f0f3cc1f",
   "metadata": {},
   "source": [
    "## Nurse scheduling problem"
   ]
  },
  {
   "cell_type": "markdown",
   "id": "8cae047c",
   "metadata": {},
   "source": [
    "In the next example, called [nurse scheduling problem](https://en.wikipedia.org/wiki/Nurse_scheduling_problem), a hospital supervisor needs to create a schedule for $n$ nurses over a fixed day period, subject to the following conditions:\n",
    "\n",
    "- Each day is divided into three 8-hour shifts.\n",
    "- Every day, each shift is assigned to a single nurse, and no nurse works more than one shift.\n",
    "- Each nurse is assigned to a minimum amount of shifts during the given days period.\n"
   ]
  },
  {
   "cell_type": "code",
   "execution_count": null,
   "id": "268ff20e",
   "metadata": {},
   "outputs": [],
   "source": [
    "instance1 = {\n",
    "    \"num_nurses\" : 4,\n",
    "    \"num_shifts\" : 3,\n",
    "    \"num_days\" : 3\n",
    "}\n",
    "\n",
    "instance2 = {\n",
    "    \"num_nurses\" : 4,\n",
    "    \"num_shifts\" : 3,\n",
    "    \"num_days\" : 4\n",
    "}"
   ]
  },
  {
   "cell_type": "markdown",
   "id": "f03dee6d",
   "metadata": {},
   "source": [
    "### Advanced useful contraints"
   ]
  },
  {
   "cell_type": "code",
   "execution_count": null,
   "id": "f08178b7",
   "metadata": {},
   "outputs": [],
   "source": [
    "def at_least_k_np(bool_vars, k):\n",
    "    pass\n",
    "\n",
    "def at_most_k_np(bool_vars, k):\n",
    "    pass\n",
    "\n",
    "def exactly_k_np(bool_vars, k):\n",
    "    pass"
   ]
  },
  {
   "cell_type": "markdown",
   "id": "d6314be1",
   "metadata": {},
   "source": [
    "## Try it yourself!\n",
    "\n",
    "Try to model the variables and constraints to solve the nurse scheduling problem, starting from the examples listed above. \n",
    "\n",
    "If possible, shifts should be distributed evenly and fairly, so that each nurse works the minimum amount of them. If this is not possible, because the total number of shifts is not divisible by the number of nurses, some nurses will be assigned one more shift, without crossing the maximum number of shifts which can be worked by each nurse"
   ]
  },
  {
   "cell_type": "code",
   "execution_count": null,
   "id": "832e85c5",
   "metadata": {},
   "outputs": [],
   "source": [
    "def nurse_scheduling_sat(num_nurses, num_shifts, num_days):\n",
    "    # Create all the variables, shifts[i, j, k] is True if shift k is assigned to nurse i on day j.\n",
    "    \n",
    "    # In each shift can work just one nurse\n",
    "    \n",
    "    # Each nurse can work just one shift per day \n",
    "    \n",
    "    # Fair assignment of shifts\n",
    "    pass\n",
    "    "
   ]
  },
  {
   "cell_type": "code",
   "execution_count": null,
   "id": "9389f891",
   "metadata": {},
   "outputs": [],
   "source": [
    "instance = instance1"
   ]
  },
  {
   "cell_type": "code",
   "execution_count": null,
   "id": "e024d283",
   "metadata": {},
   "outputs": [],
   "source": [
    "%%time\n",
    "display_nurses_shifts(nurse_scheduling_sat(instance[\"num_nurses\"], instance[\"num_shifts\"], instance[\"num_days\"]), instance[\"num_nurses\"], instance[\"num_shifts\"], instance[\"num_days\"])"
   ]
  },
  {
   "cell_type": "code",
   "execution_count": null,
   "id": "34cd8381",
   "metadata": {},
   "outputs": [],
   "source": [
    "instance = instance2"
   ]
  },
  {
   "cell_type": "code",
   "execution_count": null,
   "id": "cf585eb8",
   "metadata": {},
   "outputs": [],
   "source": [
    "%%time\n",
    "display_nurses_shifts(nurse_scheduling_sat(instance[\"num_nurses\"], instance[\"num_shifts\"], instance[\"num_days\"]), instance[\"num_nurses\"], instance[\"num_shifts\"], instance[\"num_days\"])"
   ]
  }
 ],
 "metadata": {
  "kernelspec": {
   "display_name": "Python 3",
   "language": "python",
   "name": "python3"
  },
  "language_info": {
   "codemirror_mode": {
    "name": "ipython",
    "version": 3
   },
   "file_extension": ".py",
   "mimetype": "text/x-python",
   "name": "python",
   "nbconvert_exporter": "python",
   "pygments_lexer": "ipython3",
   "version": "3.9.7"
  }
 },
 "nbformat": 4,
 "nbformat_minor": 5
}
