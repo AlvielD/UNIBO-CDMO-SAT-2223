{
 "cells": [
  {
   "cell_type": "markdown",
   "id": "accessory-couple",
   "metadata": {},
   "source": [
    "# Z3 SAT Exercises\n",
    "\n",
    "> Before trying to solve the exercises contained in this notebook, the reader is suggested to have gained experience with the tool through the `Tutorial.ipynb` notebook."
   ]
  },
  {
   "cell_type": "code",
   "execution_count": 1,
   "id": "17060a22",
   "metadata": {},
   "outputs": [
    {
     "name": "stdout",
     "output_type": "stream",
     "text": [
      "Requirement already satisfied: z3-solver in /Library/Frameworks/Python.framework/Versions/3.8/lib/python3.8/site-packages (4.8.14.0)\n",
      "\u001b[33mWARNING: You are using pip version 21.1.2; however, version 22.0.4 is available.\n",
      "You should consider upgrading via the '/Library/Frameworks/Python.framework/Versions/3.8/bin/python3.8 -m pip install --upgrade pip' command.\u001b[0m\n"
     ]
    }
   ],
   "source": [
    "!pip3 install z3-solver"
   ]
  },
  {
   "cell_type": "code",
   "execution_count": 1,
   "id": "fuzzy-intersection",
   "metadata": {
    "pycharm": {
     "name": "#%%\n"
    }
   },
   "outputs": [],
   "source": [
    "from itertools import combinations\n",
    "from z3 import *\n",
    "from utils import *"
   ]
  },
  {
   "cell_type": "markdown",
   "id": "f25d8a5b",
   "metadata": {},
   "source": [
    "## Useful contraints"
   ]
  },
  {
   "cell_type": "code",
   "execution_count": 2,
   "id": "f81eab93",
   "metadata": {
    "pycharm": {
     "name": "#%%\n"
    }
   },
   "outputs": [],
   "source": [
    "def at_least_one(bool_vars):\n",
    "    return Or(bool_vars)\n",
    "\n",
    "def at_most_one(bool_vars):\n",
    "    return [Not(And(pair[0], pair[1])) for pair in combinations(bool_vars, 2)]\n",
    "\n",
    "def exactly_one(bool_vars):\n",
    "    return at_most_one(bool_vars) + [at_least_one(bool_vars)]"
   ]
  },
  {
   "cell_type": "markdown",
   "id": "8191d230",
   "metadata": {},
   "source": [
    "## Knights and Knaves"
   ]
  },
  {
   "cell_type": "code",
   "execution_count": 9,
   "id": "422111cc",
   "metadata": {},
   "outputs": [
    {
     "name": "stdout",
     "output_type": "stream",
     "text": [
      "[AisKnight = True, BisKnight = True]\n"
     ]
    }
   ],
   "source": [
    "# Which are the variables?\n",
    "AisKnight = Bool(\"AisKnight\")\n",
    "BisKnight = Bool(\"BisKnight\")\n",
    "\n",
    "s = Solver()\n",
    "\n",
    "# Encode A's statement\n",
    "AStatement = Or(Not(AisKnight), BisKnight)\n",
    "\n",
    "# If A is a knight, then A's statement is true\n",
    "s.add(Implies(AisKnight, AStatement))\n",
    "# If A is a knave, then A's statement is a lie\n",
    "s.add(Implies(Not(AisKnight), Not(AStatement)))\n",
    "\n",
    "# Unicity check\n",
    "# s.add(Not(And(AisKnight, BisKnight)))\n",
    "\n",
    "if s.check() == sat:\n",
    "    print(s.model())\n",
    "else:\n",
    "    print(\"Failed to solve\")"
   ]
  },
  {
   "cell_type": "markdown",
   "id": "048d1ab0",
   "metadata": {},
   "source": [
    "## Coloring graph"
   ]
  },
  {
   "cell_type": "markdown",
   "id": "db9932e4",
   "metadata": {},
   "source": [
    "Another famous problem is the [coloring graph](https://www.google.com/url?sa=t&rct=j&q=&esrc=s&source=web&cd=&cad=rja&uact=8&ved=2ahUKEwjAlpGV4az2AhUP2aQKHY_5BQwQFnoECAQQAQ&url=https%3A%2F%2Fen.wikipedia.org%2Fwiki%2FGraph_coloring&usg=AOvVaw0F_XS2AN3uz4G-IJx5Q8j0). \n",
    "\n",
    "Given a graph $({v_1,...,v_n},E)$ and $d$ colors, we need to assign a color to each vertex, s.t. if $(v_i,v_j) ∈ E$ then color of $v_i$ is different from color of $v_j$. "
   ]
  },
  {
   "cell_type": "code",
   "execution_count": 34,
   "id": "8c485f56",
   "metadata": {},
   "outputs": [],
   "source": [
    "def coloring_graph_sat(n, d, E):\n",
    "    # Create the variables, x_i_j = 1 iff vertex i is colored with color j.\n",
    "    v = [[Bool(f\"x_{i}_{j}\") for j in range(d)] for i in range(n)]\n",
    "    \n",
    "    # Solver instance\n",
    "    s = Solver()\n",
    "    \n",
    "    # Each vertex has at least one color \n",
    "    for i in range(n):\n",
    "        s.add(at_least_one(v[i]))\n",
    "    \n",
    "    # Each edge must have different colors in its vertices\n",
    "    for i, j in E:\n",
    "        for k in range(d):\n",
    "            s.add(Or(Not(v[i][k]), Not(v[j][k])))\n",
    "    \n",
    "    s.check()\n",
    "    m = s.model()\n",
    "    \n",
    "    return [(i, j) for i in range(n) for j in range(d) if m.evaluate(v[i][j])]    "
   ]
  },
  {
   "cell_type": "code",
   "execution_count": 29,
   "id": "efdbca29",
   "metadata": {},
   "outputs": [],
   "source": [
    "instance1 = {\n",
    "        \"n\" : 5,\n",
    "        \"d\": 3,\n",
    "        \"E\" : [\n",
    "            (0, 2),\n",
    "            (0, 4),\n",
    "            (1, 2),\n",
    "            (1, 4),\n",
    "            (2, 3), \n",
    "            (3, 4)\n",
    "        ]\n",
    "    }\n",
    "instance2 = {\n",
    "        \"n\":10,\n",
    "        \"d\":3,\n",
    "        \"E\":[\n",
    "            (0, 1),\n",
    "            (0, 4),\n",
    "            (0, 5),\n",
    "            (1, 2),\n",
    "            (1, 6),\n",
    "            (2, 7),\n",
    "            (2, 3),\n",
    "            (3, 8),\n",
    "            (3, 4),\n",
    "            (4, 9),\n",
    "            (9, 6),\n",
    "            (9, 7),\n",
    "            (6, 8),\n",
    "            (5, 7),\n",
    "            (5, 8), \n",
    "        ]\n",
    "}"
   ]
  },
  {
   "cell_type": "code",
   "execution_count": 35,
   "id": "acdb4f25",
   "metadata": {},
   "outputs": [],
   "source": [
    "instance = instance2"
   ]
  },
  {
   "cell_type": "code",
   "execution_count": 36,
   "id": "bfc66aac",
   "metadata": {},
   "outputs": [
    {
     "data": {
      "image/png": "[encoded data removed]",
      "text/plain": [
       "<Figure size 432x288 with 1 Axes>"
      ]
     },
     "metadata": {},
     "output_type": "display_data"
    }
   ],
   "source": [
    "display_color_graph(E = instance[\"E\"])"
   ]
  },
  {
   "cell_type": "code",
   "execution_count": 37,
   "id": "acf333f6",
   "metadata": {},
   "outputs": [
    {
     "name": "stdout",
     "output_type": "stream",
     "text": [
      "CPU times: user 83.9 ms, sys: 5.02 ms, total: 89 ms\n",
      "Wall time: 97 ms\n"
     ]
    },
    {
     "data": {
      "image/png": "[encoded data removed]",
      "text/plain": [
       "<Figure size 432x288 with 1 Axes>"
      ]
     },
     "metadata": {},
     "output_type": "display_data"
    }
   ],
   "source": [
    "%%time\n",
    "display_color_graph(sol = coloring_graph_sat(instance[\"n\"], instance[\"d\"], instance[\"E\"]), E = instance[\"E\"])"
   ]
  },
  {
   "cell_type": "markdown",
   "id": "50a7ea52",
   "metadata": {},
   "source": [
    "## N-Queens"
   ]
  },
  {
   "cell_type": "markdown",
   "id": "d18ea08c",
   "metadata": {},
   "source": [
    "The [n-queens problem](https://en.wikipedia.org/wiki/Eight_queens_puzzle) is the problem of placing n chess queens in a $nxn$ chessboard so that no two queens threaten each other. In light of this, the solution requires that no two queens share the same row, column, or diagonal."
   ]
  },
  {
   "cell_type": "code",
   "execution_count": 15,
   "id": "7f070a1e",
   "metadata": {
    "pycharm": {
     "name": "#%%\n"
    }
   },
   "outputs": [],
   "source": [
    "def nqueens_sat(n):\n",
    "    # Create all the variables\n",
    "    p = [[Bool(f\"x_{i}_{j}\") for j in range(n)] for i in range(n)]\n",
    "\n",
    "    # Create the solver instance\n",
    "    s = Solver()\n",
    "\n",
    "    # At least one on each row and column\n",
    "    for i in range(n):\n",
    "        s.add(at_least_one(p[i]))\n",
    "        s.add(at_least_one([p[j][i] for j in range(n)]))\n",
    "\n",
    "    # At most one on each row and column\n",
    "    for i in range(n):\n",
    "        col_i = []\n",
    "        for j in range(n):\n",
    "            col_i += [p[j][i]]\n",
    "        s.add(at_most_one(p[i]))\n",
    "        s.add(at_most_one(col_i))\n",
    "\n",
    "    # Add the diagonal constraints\n",
    "    for i in range(n - 1):\n",
    "        diag_ru = []\n",
    "        diag_lu = []\n",
    "        diag_rl = []\n",
    "        diag_ll = []\n",
    "        for j in range(n - i):\n",
    "            diag_ru += [p[i + j][j]]\n",
    "            diag_lu += [p[n - 1 - (i + j)][j]]\n",
    "            diag_rl += [p[i + j][n - 1 - j]]\n",
    "            diag_ll += [p[n - 1 - (i + j)][n - 1 - j]]\n",
    "        s.add(at_most_one(diag_ru))\n",
    "        s.add(at_most_one(diag_lu))\n",
    "        s.add(at_most_one(diag_rl))\n",
    "        s.add(at_most_one(diag_ll))\n",
    "\n",
    "    s.check()\n",
    "\n",
    "    m = s.model()\n",
    "    return [(i, j) for i in range(n) for j in range(n) if m.evaluate(p[i][j])]"
   ]
  },
  {
   "cell_type": "code",
   "execution_count": 16,
   "id": "264645a0",
   "metadata": {
    "pycharm": {
     "name": "#%%\n"
    }
   },
   "outputs": [
    {
     "name": "stdout",
     "output_type": "stream",
     "text": [
      ". . . . . . . . . . . . . ♛ . . . . . . \n",
      ". . . . . . . . . . . ♛ . . . . . . . . \n",
      ". . . . . . . . . . . . . . ♛ . . . . . \n",
      ". . . . . . . . . . . . ♛ . . . . . . . \n",
      ". . . . . . . . . . ♛ . . . . . . . . . \n",
      ". ♛ . . . . . . . . . . . . . . . . . . \n",
      ". . . ♛ . . . . . . . . . . . . . . . . \n",
      ". . . . . . . . . . . . . . . ♛ . . . . \n",
      "♛ . . . . . . . . . . . . . . . . . . . \n",
      ". . ♛ . . . . . . . . . . . . . . . . . \n",
      ". . . . . . . . . ♛ . . . . . . . . . . \n",
      ". . . . . . ♛ . . . . . . . . . . . . . \n",
      ". . . . . . . . . . . . . . . . . . . ♛ \n",
      ". . . . . . . . . . . . . . . . ♛ . . . \n",
      ". . . . ♛ . . . . . . . . . . . . . . . \n",
      ". . . . . . . . . . . . . . . . . ♛ . . \n",
      ". . . . . ♛ . . . . . . . . . . . . . . \n",
      ". . . . . . . . ♛ . . . . . . . . . . . \n",
      ". . . . . . . . . . . . . . . . . . ♛ . \n",
      ". . . . . . . ♛ . . . . . . . . . . . . \n",
      "CPU times: user 2.4 s, sys: 20.9 ms, total: 2.42 s\n",
      "Wall time: 2.47 s\n"
     ]
    }
   ],
   "source": [
    "%%time\n",
    "display_nqueens(nqueens_sat(20))"
   ]
  },
  {
   "cell_type": "markdown",
   "id": "strange-condition",
   "metadata": {},
   "source": [
    "## Sudoku\n",
    "\n",
    "[Sudoku](https://en.wikipedia.org/wiki/Sudoku) is a logic-based, combinatorial number-placement puzzle. In classic sudoku, the objective is to fill a 9 × 9 grid with digits so that each column, each row, and each of the nine 3 × 3 subgrids that compose the grid contain all of the digits from 1 to 9. "
   ]
  },
  {
   "cell_type": "code",
   "execution_count": 39,
   "id": "charitable-branch",
   "metadata": {
    "pycharm": {
     "name": "#%%\n"
    }
   },
   "outputs": [],
   "source": [
    "# Sudoku instances, '0's correspond to empty cells\n",
    "\n",
    "instance1 = ((0, 0, 0, 0, 9, 4, 0, 3, 0),\n",
    "             (0, 0, 0, 5, 1, 0, 0, 0, 7),\n",
    "             (0, 8, 9, 0, 0, 0, 0, 4, 0),\n",
    "             (0, 0, 0, 0, 0, 0, 2, 0, 8),\n",
    "             (0, 6, 0, 2, 0, 1, 0, 5, 0),\n",
    "             (1, 0, 2, 0, 0, 0, 0, 0, 0),\n",
    "             (0, 7, 0, 0, 0, 0, 5, 2, 0),\n",
    "             (9, 0, 0, 0, 6, 5, 0, 0, 0),\n",
    "             (0, 4, 0, 9, 7, 0, 0, 0, 0))\n",
    "\n",
    "instance2 = ((0, 0, 0, 0, 9, 0, 1, 0, 0),\n",
    "             (2, 8, 0, 0, 0, 5, 0, 0, 0),\n",
    "             (7, 0, 0, 0, 0, 6, 4, 0, 0),\n",
    "             (8, 0, 5, 0, 0, 3, 0, 0, 6),\n",
    "             (0, 0, 1, 0, 0, 4, 0, 0, 0),\n",
    "             (0, 7, 0, 2, 0, 0, 0, 0, 0),\n",
    "             (3, 0, 0, 0, 0, 1, 0, 8, 0),\n",
    "             (0, 0, 0, 0, 0, 0, 0, 5, 0),\n",
    "             (0, 9, 0, 0, 0, 0, 0, 7, 0))\n",
    "\n",
    "instance3 = ((0, 7, 0, 0, 0, 0, 0, 4, 9),\n",
    "             (0, 0, 0, 4, 0, 0, 0, 0, 0),\n",
    "             (4, 0, 3, 5, 0, 7, 0, 0, 8),\n",
    "             (0, 0, 7, 2, 5, 0, 4, 0, 0),\n",
    "             (0, 0, 0, 0, 0, 0, 8, 0, 0),\n",
    "             (0, 0, 4, 0, 3, 0, 5, 9, 2),\n",
    "             (6, 1, 8, 0, 0, 0, 0, 0, 5),\n",
    "             (0, 9, 0, 1, 0, 0, 0, 3, 0),\n",
    "             (0, 0, 5, 0, 0, 0, 0, 0, 7))\n",
    "\n",
    "instance4 = ((0, 0, 0, 0, 0, 6, 0, 0, 0),\n",
    "             (0, 5, 9, 0, 0, 0, 0, 0, 8),\n",
    "             (2, 0, 0, 0, 0, 8, 0, 0, 0),\n",
    "             (0, 4, 5, 0, 0, 0, 0, 0, 0),\n",
    "             (0, 0, 3, 0, 0, 0, 0, 0, 0),\n",
    "             (0, 0, 6, 0, 0, 3, 0, 5, 4),\n",
    "             (0, 0, 0, 3, 2, 5, 0, 0, 6),\n",
    "             (0, 0, 0, 0, 0, 0, 0, 0, 0),\n",
    "             (0, 0, 0, 0, 0, 0, 0, 0, 0))"
   ]
  },
  {
   "cell_type": "code",
   "execution_count": 40,
   "id": "complete-single",
   "metadata": {
    "pycharm": {
     "name": "#%%\n"
    }
   },
   "outputs": [],
   "source": [
    "def sudoku_sat(instance):\n",
    "    # All the variables we need: for each cell, nine variables that determine which digit must be assigned.\n",
    "    v = [[[Bool(f\"v_{i}_{j}_{k}\") for k in range(9)] for j in range(9)] for i in range(9)]\n",
    "\n",
    "    s = Solver()\n",
    "\n",
    "    # A cell has only one value\n",
    "    for i in range(9):\n",
    "        for j in range(9):\n",
    "            s.add(exactly_one(v[i][j]))\n",
    "\n",
    "    # Each value is used only once in a row\n",
    "    for j in range(9):\n",
    "        for k in range(9):\n",
    "            s.add(exactly_one([v[i][j][k] for i in range(9)]))\n",
    "\n",
    "    # Each value used exactly once in each column\n",
    "    for i in range(9):\n",
    "        for k in range(9):\n",
    "            s.add(exactly_one([v[i][j][k] for j in range(9)]))\n",
    "\n",
    "    # Each value used exactly once in each 3x3 grid.\n",
    "    for ii in range(3):\n",
    "        for jj in range(3):\n",
    "            for k in range(9):\n",
    "                grid_cells = [v[3 * ii + a][3 * jj + b][k] for a in range(3) for b in range(3)]\n",
    "                s.add(exactly_one(grid_cells))\n",
    "\n",
    "    # Some numbers are already available\n",
    "    for i in range(9):\n",
    "        for j in range(9):\n",
    "            if instance[i][j] > 0:\n",
    "                s.add(v[i][j][instance[i][j] - 1])\n",
    "\n",
    "    if s.check() == sat:\n",
    "        m = s.model()\n",
    "        sol = []\n",
    "        for i in range(9):\n",
    "            sol.append([])\n",
    "            for j in range(9):\n",
    "                for k in range(9):\n",
    "                    if m.evaluate(v[i][j][k]):\n",
    "                        sol[i].append(k+1)\n",
    "        return sol\n",
    "    else:\n",
    "        print(\"Failed to solve\")"
   ]
  },
  {
   "cell_type": "code",
   "execution_count": 41,
   "id": "42ba914c",
   "metadata": {
    "pycharm": {
     "name": "#%%\n"
    }
   },
   "outputs": [
    {
     "data": {
      "image/png": "[encoded data removed]",
      "text/plain": [
       "<Figure size 288x288 with 1 Axes>"
      ]
     },
     "metadata": {
      "needs_background": "light"
     },
     "output_type": "display_data"
    }
   ],
   "source": [
    "# Select the instance you want to solve\n",
    "instance = instance4\n",
    "display_sudoku(instance)"
   ]
  },
  {
   "cell_type": "code",
   "execution_count": 42,
   "id": "6d7082ce",
   "metadata": {
    "pycharm": {
     "name": "#%%\n"
    }
   },
   "outputs": [
    {
     "data": {
      "image/png": "[encoded data removed]",
      "text/plain": [
       "<Figure size 288x288 with 1 Axes>"
      ]
     },
     "metadata": {
      "needs_background": "light"
     },
     "output_type": "display_data"
    },
    {
     "name": "stdout",
     "output_type": "stream",
     "text": [
      "CPU times: user 2.78 s, sys: 90.1 ms, total: 2.87 s\n",
      "Wall time: 2.87 s\n"
     ]
    }
   ],
   "source": [
    "%%time\n",
    "display_sudoku(sudoku_sat(instance))"
   ]
  },
  {
   "cell_type": "markdown",
   "id": "f0f3cc1f",
   "metadata": {},
   "source": [
    "## Nurse scheduling problem"
   ]
  },
  {
   "cell_type": "markdown",
   "id": "8cae047c",
   "metadata": {},
   "source": [
    "In the next example, called [nurse scheduling problem](https://en.wikipedia.org/wiki/Nurse_scheduling_problem), a hospital supervisor needs to create a schedule for $n$ nurses over a fixed day period, subject to the following conditions:\n",
    "\n",
    "- Each day is divided into three 8-hour shifts.\n",
    "- Every day, each shift is assigned to a single nurse, and no nurse works more than one shift.\n",
    "- Each nurse is assigned to a minimum amount of shifts during the given days period.\n"
   ]
  },
  {
   "cell_type": "code",
   "execution_count": 3,
   "id": "268ff20e",
   "metadata": {},
   "outputs": [],
   "source": [
    "instance1 = {\n",
    "    \"num_nurses\" : 4,\n",
    "    \"num_shifts\" : 3,\n",
    "    \"num_days\" : 3\n",
    "}\n",
    "\n",
    "instance2 = {\n",
    "    \"num_nurses\" : 4,\n",
    "    \"num_shifts\" : 3,\n",
    "    \"num_days\" : 4\n",
    "}"
   ]
  },
  {
   "cell_type": "markdown",
   "id": "f03dee6d",
   "metadata": {},
   "source": [
    "### Advanced useful contraints"
   ]
  },
  {
   "cell_type": "code",
   "execution_count": 4,
   "id": "f08178b7",
   "metadata": {},
   "outputs": [],
   "source": [
    "def at_least_k_np(bool_vars, k):\n",
    "    return at_most_k_np([Not(var) for var in bool_vars], len(bool_vars)-k)\n",
    "\n",
    "def at_most_k_np(bool_vars, k):\n",
    "    return And([Or([Not(x) for x in X]) for X in combinations(bool_vars, k + 1)])\n",
    "\n",
    "def exactly_k_np(bool_vars, k):\n",
    "    return And(at_most_k_np(bool_vars, k), at_least_k_np(bool_vars, k))"
   ]
  },
  {
   "cell_type": "markdown",
   "id": "d6314be1",
   "metadata": {},
   "source": [
    "## Try it yourself!\n",
    "\n",
    "Try to model the variables and constraints to solve the nurse scheduling problem, starting from the examples listed above. \n",
    "\n",
    "If possible, shifts should be distributed evenly and fairly, so that each nurse works the minimum amount of them. If this is not possible, because the total number of shifts is not divisible by the number of nurses, some nurses will be assigned one more shift, without crossing the maximum number of shifts which can be worked by each nurse"
   ]
  },
  {
   "cell_type": "code",
   "execution_count": 11,
   "id": "832e85c5",
   "metadata": {},
   "outputs": [],
   "source": [
    "def nurse_scheduling_sat(num_nurses, num_shifts, num_days):\n",
    "    # Create all the variables, shifts[i, j, k] is True if shift k is assigned to nurse i on day j.\n",
    "    shifts = [[[Bool(f\"x_{i}_{j}_{k}\") for k in range(num_shifts)] for j in range(num_days)] for i in range(num_nurses)]\n",
    "\n",
    "    s = Solver()\n",
    "    \n",
    "    # In each shift can work just one nurse\n",
    "    for j in range(num_days):\n",
    "        for k in range(num_shifts):\n",
    "            s.add(exactly_one([shifts[i][j][k] for i in range(num_nurses)]))\n",
    "    \n",
    "    # Each nurse can work just one shift per day \n",
    "    for i in range(num_nurses):\n",
    "        for j in range(num_days):\n",
    "            s.add(at_most_one(shifts[i][j]))\n",
    "    \n",
    "    # Fair assignment of shifts\n",
    "    min_n_shifts_per_nurse = (num_days * num_shifts) // num_nurses\n",
    "    \n",
    "    if (num_days * num_shifts) % num_nurses == 0:\n",
    "        max_n_shifts_per_nurse = min_n_shifts_per_nurse\n",
    "    else:\n",
    "        max_n_shifts_per_nurse = min_n_shifts_per_nurse + 1\n",
    "    \n",
    "    for i in range(num_nurses):\n",
    "        shifts_worked = []\n",
    "        for j in range(num_days):\n",
    "            for k in range(num_shifts):\n",
    "                shifts_worked.append(shifts[i][j][k])\n",
    "        s.add(at_least_k_np(shifts_worked, min_n_shifts_per_nurse))\n",
    "        s.add(at_most_k_np(shifts_worked, max_n_shifts_per_nurse))\n",
    "    \n",
    "    \n",
    "    if s.check() == sat:\n",
    "        m = s.model()\n",
    "        return [(i, j, k) for i in range(num_nurses) for j in range(num_days) for k in range(num_shifts) if m.evaluate(shifts[i][j][k])]\n",
    "    else:\n",
    "        print(\"unsat\")\n",
    "    "
   ]
  },
  {
   "cell_type": "code",
   "execution_count": 12,
   "id": "9389f891",
   "metadata": {},
   "outputs": [],
   "source": [
    "instance = instance1"
   ]
  },
  {
   "cell_type": "code",
   "execution_count": 13,
   "id": "e024d283",
   "metadata": {},
   "outputs": [
    {
     "name": "stdout",
     "output_type": "stream",
     "text": [
      "Day 0\n",
      "  Nurse 0 works shift 0\n",
      "  Nurse 1 does not work\n",
      "  Nurse 2 works shift 2\n",
      "  Nurse 3 works shift 1\n",
      "Day 1\n",
      "  Nurse 0 works shift 2\n",
      "  Nurse 1 works shift 1\n",
      "  Nurse 2 does not work\n",
      "  Nurse 3 works shift 0\n",
      "Day 2\n",
      "  Nurse 0 works shift 2\n",
      "  Nurse 1 works shift 1\n",
      "  Nurse 2 works shift 0\n",
      "  Nurse 3 does not work\n",
      "CPU times: user 337 ms, sys: 10.5 ms, total: 348 ms\n",
      "Wall time: 390 ms\n"
     ]
    }
   ],
   "source": [
    "%%time\n",
    "display_nurses_shifts(nurse_scheduling_sat(instance[\"num_nurses\"], instance[\"num_shifts\"], instance[\"num_days\"]), instance[\"num_nurses\"], instance[\"num_shifts\"], instance[\"num_days\"])"
   ]
  },
  {
   "cell_type": "code",
   "execution_count": 63,
   "id": "34cd8381",
   "metadata": {},
   "outputs": [],
   "source": [
    "instance = instance2"
   ]
  },
  {
   "cell_type": "code",
   "execution_count": 64,
   "id": "cf585eb8",
   "metadata": {},
   "outputs": [
    {
     "name": "stdout",
     "output_type": "stream",
     "text": [
      "Day 0\n",
      "  Nurse 0 works shift 2\n",
      "  Nurse 1 works shift 1\n",
      "  Nurse 2 works shift 0\n",
      "  Nurse 3 does not work\n",
      "Day 1\n",
      "  Nurse 0 does not work\n",
      "  Nurse 1 works shift 2\n",
      "  Nurse 2 works shift 1\n",
      "  Nurse 3 works shift 0\n",
      "Day 2\n",
      "  Nurse 0 works shift 1\n",
      "  Nurse 1 does not work\n",
      "  Nurse 2 works shift 0\n",
      "  Nurse 3 works shift 2\n",
      "Day 3\n",
      "  Nurse 0 works shift 2\n",
      "  Nurse 1 works shift 1\n",
      "  Nurse 2 does not work\n",
      "  Nurse 3 works shift 0\n",
      "CPU times: user 3min 11s, sys: 1.68 s, total: 3min 13s\n",
      "Wall time: 3min 19s\n"
     ]
    }
   ],
   "source": [
    "%%time\n",
    "display_nurses_shifts(nurse_scheduling_sat(instance[\"num_nurses\"], instance[\"num_shifts\"], instance[\"num_days\"]), instance[\"num_nurses\"], instance[\"num_shifts\"], instance[\"num_days\"])"
   ]
  }
 ],
 "metadata": {
  "kernelspec": {
   "display_name": "Python 3",
   "language": "python",
   "name": "python3"
  },
  "language_info": {
   "codemirror_mode": {
    "name": "ipython",
    "version": 3
   },
   "file_extension": ".py",
   "mimetype": "text/x-python",
   "name": "python",
   "nbconvert_exporter": "python",
   "pygments_lexer": "ipython3",
   "version": "3.8.8"
  }
 },
 "nbformat": 4,
 "nbformat_minor": 5
}
