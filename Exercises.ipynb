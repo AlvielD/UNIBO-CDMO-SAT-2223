{
 "cells": [
  {
   "cell_type": "markdown",
   "id": "accessory-couple",
   "metadata": {},
   "source": [
    "# Z3 SAT Exercises\n",
    "\n",
    "> Before trying to solve the exercises contained in this notebook, the reader is suggested to have gained experience with the tool through the `Tutorial.ipynb` notebook."
   ]
  },
  {
   "cell_type": "code",
   "execution_count": 201,
   "id": "fuzzy-intersection",
   "metadata": {
    "pycharm": {
     "name": "#%%\n"
    }
   },
   "outputs": [],
   "source": [
    "from itertools import combinations\n",
    "from z3 import *\n",
    "from utils import *"
   ]
  },
  {
   "cell_type": "markdown",
   "id": "f25d8a5b",
   "metadata": {},
   "source": [
    "## Useful contraints"
   ]
  },
  {
   "cell_type": "code",
   "execution_count": 141,
   "id": "f81eab93",
   "metadata": {
    "pycharm": {
     "name": "#%%\n"
    }
   },
   "outputs": [],
   "source": [
    "def at_least_one(bool_vars):\n",
    "    return Or(bool_vars)\n",
    "\n",
    "def at_most_one(bool_vars):\n",
    "    return [Not(And(pair[0], pair[1])) for pair in combinations(bool_vars, 2)]\n",
    "\n",
    "def exactly_one(solver, bool_vars):\n",
    "    solver.add(at_most_one(bool_vars))\n",
    "    solver.add(at_least_one(bool_vars))"
   ]
  },
  {
   "cell_type": "markdown",
   "id": "282badcb",
   "metadata": {
    "pycharm": {
     "name": "#%% md\n"
    }
   },
   "source": [
    "## Pigeonhole principle\n",
    "\n",
    "In mathematics, the pigeonhole principle states that if $n$ items are put into $m$ containers, with $n > m$, then at least one container must contain more than one item."
   ]
  },
  {
   "cell_type": "code",
   "execution_count": 129,
   "id": "a41f62f1",
   "metadata": {
    "pycharm": {
     "name": "#%%\n"
    }
   },
   "outputs": [],
   "source": [
    "def pigeon_hole_sat(n, m, enforce_condition = True):\n",
    "    if enforce_condition:\n",
    "        assert n>m, print(\"Input is not compatible with the problem, n must be bigger than m.\")\n",
    "    #Create the variables, x_i_j = 1 iff pigeon i is in hole j.\n",
    "    p = [[Bool(f\"x_{i}_{j}\") for j in range(m)] for i in range(n)]\n",
    "    \n",
    "    #Solver instance\n",
    "    s = Solver()\n",
    "    \n",
    "    #Each pigeon must be in at least one container\n",
    "    for i in range(n):\n",
    "        s.add(at_least_one(p[i]))\n",
    "    \n",
    "    #Each container must contain at most one pigeon\n",
    "    for k in range(m):\n",
    "        s.add(at_most_one([p[i][k] for i in range(n)]))\n",
    "        \n",
    "    if s.check() == sat:\n",
    "        model = s.model()\n",
    "        return [j for i in range(n) for j in range(m) if model.evaluate(p[i][j])]\n",
    "    else:\n",
    "        return \"Unsat\" "
   ]
  },
  {
   "cell_type": "code",
   "execution_count": null,
   "id": "00994e3a",
   "metadata": {},
   "outputs": [],
   "source": [
    "instance1 = {\"m\":5, \"n\":6}\n",
    "instance2 = {\"m\":10, \"n\":9} "
   ]
  },
  {
   "cell_type": "markdown",
   "id": "fb27b363",
   "metadata": {},
   "source": [
    "if we place $m=n + 1$ pigeons in $n$ holes then there is a hole with at least 2 pigeons The theorem holds true for any $n$, but we can prove it for a fixed $n$.\n",
    "\n",
    "We are going to use <b>z3 + SAT</b> to prove this theorem by absurd."
   ]
  },
  {
   "cell_type": "code",
   "execution_count": 130,
   "id": "fc486185",
   "metadata": {},
   "outputs": [
    {
     "name": "stdout",
     "output_type": "stream",
     "text": [
      "Unsat\n"
     ]
    }
   ],
   "source": [
    "print(pigeon_hole_sat(instance1[\"n\"], instance1[\"m\"]))"
   ]
  },
  {
   "cell_type": "markdown",
   "id": "5b784f1a",
   "metadata": {},
   "source": [
    "Of course, if $n<m$, the problem is Satisfiable and we can obtain a result."
   ]
  },
  {
   "cell_type": "code",
   "execution_count": 134,
   "id": "8c3a415a",
   "metadata": {},
   "outputs": [
    {
     "name": "stdout",
     "output_type": "stream",
     "text": [
      "[🕊] [🕊] [🕊] [🕊] [🕊] [🕊] [🕊] [🕊] [🕊] [.] \n",
      "CPU times: user 109 ms, sys: 4.05 ms, total: 113 ms\n",
      "Wall time: 116 ms\n"
     ]
    }
   ],
   "source": [
    "%%time\n",
    "display_pigeons(pigeon_hole_sat(instance2[\"n\"], instance2[\"m\"], enforce_condition = False), instance2[\"m\"])"
   ]
  },
  {
   "cell_type": "markdown",
   "id": "048d1ab0",
   "metadata": {},
   "source": [
    "## Coloring graph"
   ]
  },
  {
   "cell_type": "markdown",
   "id": "db9932e4",
   "metadata": {},
   "source": [
    "Another famous problem is the coloring graph. \n",
    "\n",
    "Given a graph $({v_1,...,v_n},E)$ and $d$ colors, we need to assign a color to each vertex, s.t. if $(v_i,v_j) ∈ E$ then color of $v_i$ is different from color of $v_j$. "
   ]
  },
  {
   "cell_type": "code",
   "execution_count": 205,
   "id": "8c485f56",
   "metadata": {},
   "outputs": [],
   "source": [
    "def coloring_graph_sat(n, d, E, use_at_most = True):\n",
    "    #Create the variables, x_i_j = 1 iff vertex i is colored with color j.\n",
    "    p = [[Bool(f\"x_{i}_{j}\") for j in range(d)] for i in range(n)]\n",
    "    \n",
    "    #Solver instance\n",
    "    s = Solver()\n",
    "    \n",
    "    #Each vertex has at least one color \n",
    "    for i in range(n):\n",
    "        s.add(at_least_one(p[i]))\n",
    "    \n",
    "    #Each edge must have different colors in its vertices\n",
    "    for i, j in E:\n",
    "        for k in range(d):\n",
    "            s.add(Or(Not(p[i][k]), Not(p[j][k])))\n",
    "    \n",
    "    if use_at_most:\n",
    "    #Each vertex has at most one color\n",
    "        for i in range(n):\n",
    "            s.add(at_most_one(p[i]))\n",
    "    \n",
    "    s.check()\n",
    "    m = s.model()\n",
    "    \n",
    "    return [(i, j) for i in range(n) for j in range(d) if m.evaluate(p[i][j])]    "
   ]
  },
  {
   "cell_type": "code",
   "execution_count": 206,
   "id": "efdbca29",
   "metadata": {},
   "outputs": [],
   "source": [
    "instance1 = {\n",
    "        \"n\" : 5,\n",
    "        \"d\": 3,\n",
    "        \"E\" : [\n",
    "            (0, 2),\n",
    "            (0, 4),\n",
    "            (1, 2),\n",
    "            (1, 4),\n",
    "            (2, 3), \n",
    "            (3, 4)\n",
    "        ]\n",
    "    }\n",
    "instance2 = {\n",
    "        \"n\":10,\n",
    "        \"d\":3,\n",
    "        \"E\":[\n",
    "            (0, 1),\n",
    "            (0, 4),\n",
    "            (0, 5),\n",
    "            (1, 2),\n",
    "            (1, 6),\n",
    "            (2, 7),\n",
    "            (2, 3),\n",
    "            (3, 8),\n",
    "            (3, 4),\n",
    "            (4, 9),\n",
    "            (9, 6),\n",
    "            (9, 7),\n",
    "            (6, 8),\n",
    "            (5, 7),\n",
    "            (5, 8), \n",
    "        ]\n",
    "}"
   ]
  },
  {
   "cell_type": "code",
   "execution_count": 207,
   "id": "acdb4f25",
   "metadata": {},
   "outputs": [],
   "source": [
    "instance = instance1"
   ]
  },
  {
   "cell_type": "code",
   "execution_count": 208,
   "id": "bfc66aac",
   "metadata": {},
   "outputs": [
    {
     "name": "stdout",
     "output_type": "stream",
     "text": [
      "None\n",
      "[0, 0, 0, 0, 0, 0, 0, 0, 0, 0]\n"
     ]
    },
    {
     "data": {
      "image/png": "[encoded data removed]",
      "text/plain": [
       "<Figure size 432x288 with 1 Axes>"
      ]
     },
     "metadata": {},
     "output_type": "display_data"
    }
   ],
   "source": [
    "display_color_graph(E = instance[\"E\"])"
   ]
  },
  {
   "cell_type": "code",
   "execution_count": 209,
   "id": "acf333f6",
   "metadata": {},
   "outputs": [
    {
     "name": "stdout",
     "output_type": "stream",
     "text": [
      "[(0, 0), (1, 2), (2, 0), (3, 2), (4, 1), (5, 2), (6, 1), (7, 1), (8, 0), (9, 0)]\n",
      "[0.9804570627279737, 0.692117291762397, 0.945240054800774, 0.692117291762397, 0.9804570627279737, 0.945240054800774, 0.945240054800774, 0.692117291762397, 0.9804570627279737, 0.9804570627279737]\n",
      "CPU times: user 98.6 ms, sys: 8.19 ms, total: 107 ms\n",
      "Wall time: 119 ms\n"
     ]
    },
    {
     "data": {
      "image/png": "[encoded data removed]",
      "text/plain": [
       "<Figure size 432x288 with 1 Axes>"
      ]
     },
     "metadata": {},
     "output_type": "display_data"
    }
   ],
   "source": [
    "%%time\n",
    "display_color_graph(sol = coloring_graph_sat(instance[\"n\"], instance[\"d\"], instance[\"E\"]), E = instance[\"E\"])"
   ]
  },
  {
   "cell_type": "markdown",
   "id": "50a7ea52",
   "metadata": {},
   "source": [
    "## N-Queens"
   ]
  },
  {
   "cell_type": "code",
   "execution_count": 135,
   "id": "7f070a1e",
   "metadata": {
    "pycharm": {
     "name": "#%%\n"
    }
   },
   "outputs": [],
   "source": [
    "def nqueens_sat(n):\n",
    "    # Create all the variables\n",
    "    p = [[Bool(f\"x_{i}_{j}\") for j in range(n)] for i in range(n)]\n",
    "\n",
    "    # Create the solver instance\n",
    "    s = Solver()\n",
    "\n",
    "    # At least one on each row and column\n",
    "    for i in range(n):\n",
    "        s.add(at_least_one(p[i]))\n",
    "        s.add(at_least_one([p[j][i] for j in range(n)]))\n",
    "\n",
    "    # At most one on each row and column\n",
    "    for i in range(n):\n",
    "        col_i = []\n",
    "        for j in range(n):\n",
    "            col_i += [p[j][i]]\n",
    "        s.add(at_most_one(p[i]))\n",
    "        s.add(at_most_one(col_i))\n",
    "\n",
    "    # Add the diagonal constraints\n",
    "    for i in range(n - 1):\n",
    "        diag_ru = []\n",
    "        diag_lu = []\n",
    "        diag_rl = []\n",
    "        diag_ll = []\n",
    "        for j in range(n - i):\n",
    "            diag_ru += [p[i + j][j]]\n",
    "            diag_lu += [p[n - 1 - (i + j)][j]]\n",
    "            diag_rl += [p[i + j][n - 1 - j]]\n",
    "            diag_ll += [p[n - 1 - (i + j)][n - 1 - j]]\n",
    "        s.add(at_most_one(diag_ru))\n",
    "        s.add(at_most_one(diag_lu))\n",
    "        s.add(at_most_one(diag_rl))\n",
    "        s.add(at_most_one(diag_ll))\n",
    "\n",
    "    s.check()\n",
    "\n",
    "    m = s.model()\n",
    "    return [(i, j) for i in range(n) for j in range(n) if m.evaluate(p[i][j])]"
   ]
  },
  {
   "cell_type": "code",
   "execution_count": 136,
   "id": "264645a0",
   "metadata": {
    "pycharm": {
     "name": "#%%\n"
    }
   },
   "outputs": [
    {
     "name": "stdout",
     "output_type": "stream",
     "text": [
      ". . . . . . . . . . ♛ . . . . . . . . . \n",
      ". . . . . . . . . . . . . . . . ♛ . . . \n",
      ". . . . . . . . . . . . . . ♛ . . . . . \n",
      ". . . . . . . . . . . . ♛ . . . . . . . \n",
      ". . . . . . . . . . . . . . . ♛ . . . . \n",
      ". . . . . . . . . . . . . ♛ . . . . . . \n",
      ". . . . . . . . ♛ . . . . . . . . . . . \n",
      ". . . . . . ♛ . . . . . . . . . . . . . \n",
      "♛ . . . . . . . . . . . . . . . . . . . \n",
      ". . . ♛ . . . . . . . . . . . . . . . . \n",
      ". ♛ . . . . . . . . . . . . . . . . . . \n",
      ". . . . . . . . . . . . . . . . . ♛ . . \n",
      ". . . . . . . . . . . . . . . . . . . ♛ \n",
      ". . . . . . . . . ♛ . . . . . . . . . . \n",
      ". . . . . . . . . . . ♛ . . . . . . . . \n",
      ". . . . . . . . . . . . . . . . . . ♛ . \n",
      ". . . . . ♛ . . . . . . . . . . . . . . \n",
      ". . . . . . . ♛ . . . . . . . . . . . . \n",
      ". . ♛ . . . . . . . . . . . . . . . . . \n",
      ". . . . ♛ . . . . . . . . . . . . . . . \n",
      "CPU times: user 2.45 s, sys: 26.3 ms, total: 2.47 s\n",
      "Wall time: 2.53 s\n"
     ]
    }
   ],
   "source": [
    "%%time\n",
    "display_nqueens(nqueens_sat(20))"
   ]
  },
  {
   "cell_type": "markdown",
   "id": "strange-condition",
   "metadata": {},
   "source": [
    "## Sudoku"
   ]
  },
  {
   "cell_type": "code",
   "execution_count": 137,
   "id": "charitable-branch",
   "metadata": {
    "pycharm": {
     "name": "#%%\n"
    }
   },
   "outputs": [],
   "source": [
    "# Sudoku instances, '0's correspond to empty cells\n",
    "\n",
    "instance1 = ((0, 0, 0, 0, 9, 4, 0, 3, 0),\n",
    "             (0, 0, 0, 5, 1, 0, 0, 0, 7),\n",
    "             (0, 8, 9, 0, 0, 0, 0, 4, 0),\n",
    "             (0, 0, 0, 0, 0, 0, 2, 0, 8),\n",
    "             (0, 6, 0, 2, 0, 1, 0, 5, 0),\n",
    "             (1, 0, 2, 0, 0, 0, 0, 0, 0),\n",
    "             (0, 7, 0, 0, 0, 0, 5, 2, 0),\n",
    "             (9, 0, 0, 0, 6, 5, 0, 0, 0),\n",
    "             (0, 4, 0, 9, 7, 0, 0, 0, 0))\n",
    "\n",
    "instance2 = ((0, 0, 0, 0, 9, 0, 1, 0, 0),\n",
    "             (2, 8, 0, 0, 0, 5, 0, 0, 0),\n",
    "             (7, 0, 0, 0, 0, 6, 4, 0, 0),\n",
    "             (8, 0, 5, 0, 0, 3, 0, 0, 6),\n",
    "             (0, 0, 1, 0, 0, 4, 0, 0, 0),\n",
    "             (0, 7, 0, 2, 0, 0, 0, 0, 0),\n",
    "             (3, 0, 0, 0, 0, 1, 0, 8, 0),\n",
    "             (0, 0, 0, 0, 0, 0, 0, 5, 0),\n",
    "             (0, 9, 0, 0, 0, 0, 0, 7, 0))\n",
    "\n",
    "instance3 = ((0, 7, 0, 0, 0, 0, 0, 4, 9),\n",
    "             (0, 0, 0, 4, 0, 0, 0, 0, 0),\n",
    "             (4, 0, 3, 5, 0, 7, 0, 0, 8),\n",
    "             (0, 0, 7, 2, 5, 0, 4, 0, 0),\n",
    "             (0, 0, 0, 0, 0, 0, 8, 0, 0),\n",
    "             (0, 0, 4, 0, 3, 0, 5, 9, 2),\n",
    "             (6, 1, 8, 0, 0, 0, 0, 0, 5),\n",
    "             (0, 9, 0, 1, 0, 0, 0, 3, 0),\n",
    "             (0, 0, 5, 0, 0, 0, 0, 0, 7))\n",
    "\n",
    "instance4 = ((0, 0, 0, 0, 0, 6, 0, 0, 0),\n",
    "             (0, 5, 9, 0, 0, 0, 0, 0, 8),\n",
    "             (2, 0, 0, 0, 0, 8, 0, 0, 0),\n",
    "             (0, 4, 5, 0, 0, 0, 0, 0, 0),\n",
    "             (0, 0, 3, 0, 0, 0, 0, 0, 0),\n",
    "             (0, 0, 6, 0, 0, 3, 0, 5, 4),\n",
    "             (0, 0, 0, 3, 2, 5, 0, 0, 6),\n",
    "             (0, 0, 0, 0, 0, 0, 0, 0, 0),\n",
    "             (0, 0, 0, 0, 0, 0, 0, 0, 0))"
   ]
  },
  {
   "cell_type": "code",
   "execution_count": 138,
   "id": "complete-single",
   "metadata": {
    "pycharm": {
     "name": "#%%\n"
    }
   },
   "outputs": [],
   "source": [
    "def sudoku_sat(instance):\n",
    "    # All the variables we need: for each cell, nine variables that determine which digit must be assigned.\n",
    "    v = [[[Bool(f\"v_{i}_{j}_{k}\") for k in range(9)] for j in range(9)] for i in range(9)]\n",
    "\n",
    "    s = Solver()\n",
    "\n",
    "    # A cell has only one value\n",
    "    for i in range(9):\n",
    "        for j in range(9):\n",
    "            exactly_one(s, v[i][j])\n",
    "\n",
    "    # Each value is used only once in a row\n",
    "    for j in range(9):\n",
    "        for k in range(9):\n",
    "            exactly_one(s, [v[i][j][k] for i in range(9)])\n",
    "\n",
    "    # Each value used exactly once in each column\n",
    "    for i in range(9):\n",
    "        for k in range(9):\n",
    "            exactly_one(s, [v[i][j][k] for j in range(9)])\n",
    "\n",
    "    # Each value used exactly once in each 3x3 grid.\n",
    "    for ii in range(3):\n",
    "        for jj in range(3):\n",
    "            for k in range(9):\n",
    "                grid_cells = [v[3 * ii + a][3 * jj + b][k] for a in range(3) for b in range(3)]\n",
    "                exactly_one(s, grid_cells)\n",
    "\n",
    "    # Some numbers are already available\n",
    "    for i in range(9):\n",
    "        for j in range(9):\n",
    "            if instance[i][j] > 0:\n",
    "                s.add(v[i][j][instance[i][j] - 1])\n",
    "\n",
    "    if s.check() == sat:\n",
    "        m = s.model()\n",
    "        sol = []\n",
    "        for i in range(9):\n",
    "            sol.append([])\n",
    "            for j in range(9):\n",
    "                for k in range(9):\n",
    "                    if m.evaluate(v[i][j][k]):\n",
    "                        sol[i].append(k+1)\n",
    "        return sol\n",
    "    else:\n",
    "        print(\"Failed to solve\")"
   ]
  },
  {
   "cell_type": "code",
   "execution_count": 139,
   "id": "42ba914c",
   "metadata": {
    "pycharm": {
     "name": "#%%\n"
    }
   },
   "outputs": [
    {
     "data": {
      "image/png": "[encoded data removed]",
      "text/plain": [
       "<Figure size 288x288 with 1 Axes>"
      ]
     },
     "metadata": {
      "needs_background": "light"
     },
     "output_type": "display_data"
    }
   ],
   "source": [
    "# Select the instance you want to solve\n",
    "instance = instance4\n",
    "display_sudoku(instance)"
   ]
  },
  {
   "cell_type": "code",
   "execution_count": 142,
   "id": "6d7082ce",
   "metadata": {
    "pycharm": {
     "name": "#%%\n"
    }
   },
   "outputs": [
    {
     "data": {
      "image/png": "[encoded data removed]",
      "text/plain": [
       "<Figure size 288x288 with 1 Axes>"
      ]
     },
     "metadata": {
      "needs_background": "light"
     },
     "output_type": "display_data"
    },
    {
     "name": "stdout",
     "output_type": "stream",
     "text": [
      "CPU times: user 2.77 s, sys: 60.9 ms, total: 2.83 s\n",
      "Wall time: 2.93 s\n"
     ]
    }
   ],
   "source": [
    "%%time\n",
    "display_sudoku(sudoku_sat(instance))"
   ]
  },
  {
   "cell_type": "markdown",
   "id": "f0f3cc1f",
   "metadata": {},
   "source": [
    "## Nurse scheduling problem"
   ]
  },
  {
   "cell_type": "markdown",
   "id": "8cae047c",
   "metadata": {},
   "source": [
    "In the next example, a hospital supervisor needs to create a schedule for four nurses over a three-day period, subject to the following conditions:\n",
    "\n",
    "- Each day is divided into three 8-hour shifts.\n",
    "- Every day, each shift is assigned to a single nurse, and no nurse works more than one shift.\n",
    "- Each nurse is assigned to at least two shifts during the three-day period.\n"
   ]
  },
  {
   "cell_type": "code",
   "execution_count": 214,
   "id": "268ff20e",
   "metadata": {},
   "outputs": [],
   "source": [
    "instance = {\n",
    "    \"num_nurses\" : 4,\n",
    "    \"num_shifts\" : 3,\n",
    "    \"num_days\" : 3\n",
    "}"
   ]
  },
  {
   "cell_type": "code",
   "execution_count": 257,
   "id": "f08178b7",
   "metadata": {},
   "outputs": [],
   "source": [
    "def at_least_k(bool_vars, k):\n",
    "    constraints = []\n",
    "    for i in range(k, len(bool_vars) + 1):\n",
    "        constraints+=[And([Not(var) if var not in pair else var for var in bool_vars]) for pair in combinations(bool_vars, i)]  \n",
    "    return Or(constraints)\n",
    "\n",
    "def at_most_k(bool_vars, k):\n",
    "    constraints = []\n",
    "    for i in range(k):\n",
    "        constraints+=[And([Not(var) if var not in pair else var for var in bool_vars]) for pair in combinations(bool_vars, i + 1)]  \n",
    "    return Or(constraints)\n",
    "\n",
    "def exactly_k(bool_vars, k):\n",
    "    return Or([And([Not(var) if var not in pair else var for var in bool_vars]) for pair in combinations(bool_vars, k)])"
   ]
  },
  {
   "cell_type": "markdown",
   "id": "d6314be1",
   "metadata": {},
   "source": [
    "## Try it yourself!"
   ]
  },
  {
   "cell_type": "code",
   "execution_count": 259,
   "id": "832e85c5",
   "metadata": {},
   "outputs": [],
   "source": [
    "def nurse_scheduling_sat(num_nurses, num_shifts, num_days):\n",
    "    # Create all the variables, shifts[i, j, k] is True if shift k is assigned to nurse i on day j.\n",
    "    shifts = [[[Bool(f\"x_{i}_{j}_{k}\") for k in range(num_shifts)] for j in range(num_days)] for i in range(num_nurses)]\n",
    "\n",
    "    s = Solver()\n",
    "    \n",
    "    # In each shift can work just one nurse \n",
    "    for j in range(num_days):\n",
    "        for k in range(num_shifts):\n",
    "            exactly_one(s, [shifts[i][j][k] for i in range(num_nurses)])\n",
    "    \n",
    "    \n",
    "    # Each nurse can work one shift per day\n",
    "    for i in range(num_nurses):\n",
    "        for j in range(num_days):\n",
    "            s.add(at_most_one(shifts[i][j]))\n",
    "            \n",
    "    # Try to distribute the shifts evenly, so that each nurse works\n",
    "    # min_shifts_per_nurse shifts. If this is not possible, because the total\n",
    "    # number of shifts is not divisible by the number of nurses, some nurses will\n",
    "    # be assigned one more shift.\n",
    "    min_shifts_per_nurse = (num_shifts * num_days) // num_nurses\n",
    "    if num_shifts * num_days % num_nurses == 0:\n",
    "        max_shifts_per_nurse = min_shifts_per_nurse\n",
    "    else:\n",
    "        max_shifts_per_nurse = min_shifts_per_nurse + 1\n",
    "    for i in range(num_nurses):\n",
    "        shifts_worked = []\n",
    "        for j in range(num_days):\n",
    "            for k in range(num_shifts):\n",
    "                shifts_worked.append(shifts[i][j][k])\n",
    "        s.add(at_least_k(shifts_worked, min_shifts_per_nurse))\n",
    "        s.add(at_most_k(shifts_worked, max_shifts_per_nurse))\n",
    "    \n",
    "    s.check()\n",
    "    \n",
    "    if s.check() == sat:\n",
    "        m = s.model()\n",
    "        #print(m.evaluate([shifts[i][j][k] ]))\n",
    "        return [(i, j, k) for i in range(num_nurses) for j in range(num_days) for k in range(num_shifts) if m.evaluate(shifts[i][j][k])]\n",
    "    else:\n",
    "        return \"Unsat\"     "
   ]
  },
  {
   "cell_type": "code",
   "execution_count": 262,
   "id": "e024d283",
   "metadata": {},
   "outputs": [
    {
     "name": "stdout",
     "output_type": "stream",
     "text": [
      "Day 0\n",
      "  Nurse 0 works shift 1\n",
      "  Nurse 1 works shift 2\n",
      "  Nurse 2 works shift 0\n",
      "  Nurse 3 does not work\n",
      "Day 1\n",
      "  Nurse 0 works shift 0\n",
      "  Nurse 1 works shift 2\n",
      "  Nurse 2 does not work\n",
      "  Nurse 3 works shift 1\n",
      "Day 2\n",
      "  Nurse 0 works shift 2\n",
      "  Nurse 1 does not work\n",
      "  Nurse 2 works shift 1\n",
      "  Nurse 3 works shift 0\n",
      "CPU times: user 15.9 s, sys: 152 ms, total: 16.1 s\n",
      "Wall time: 17.4 s\n"
     ]
    }
   ],
   "source": [
    "%%time\n",
    "display_nurses_shifts(nurse_scheduling_sat(instance[\"num_nurses\"], instance[\"num_shifts\"], instance[\"num_days\"]), instance[\"num_nurses\"], instance[\"num_shifts\"], instance[\"num_days\"])"
   ]
  }
 ],
 "metadata": {
  "kernelspec": {
   "display_name": "Python 3",
   "language": "python",
   "name": "python3"
  },
  "language_info": {
   "codemirror_mode": {
    "name": "ipython",
    "version": 3
   },
   "file_extension": ".py",
   "mimetype": "text/x-python",
   "name": "python",
   "nbconvert_exporter": "python",
   "pygments_lexer": "ipython3",
   "version": "3.8.8"
  }
 },
 "nbformat": 4,
 "nbformat_minor": 5
}
