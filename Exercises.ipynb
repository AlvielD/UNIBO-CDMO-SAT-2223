{
 "cells": [
  {
   "cell_type": "markdown",
   "id": "accessory-couple",
   "metadata": {},
   "source": [
    "# Z3 SAT Exercises\n",
    "\n",
    "> Before trying to solve the exercises contained in this notebook, the reader is suggested to have gained experience with the tool through the `Tutorial.ipynb` notebook."
   ]
  },
  {
   "cell_type": "code",
   "execution_count": null,
   "id": "33e2cee8",
   "metadata": {},
   "outputs": [],
   "source": [
    "!pip3 install z3-solver"
   ]
  },
  {
   "cell_type": "code",
   "execution_count": 2,
   "id": "fuzzy-intersection",
   "metadata": {
    "pycharm": {
     "name": "#%%\n"
    }
   },
   "outputs": [],
   "source": [
    "from itertools import combinations\n",
    "from z3 import *\n",
    "from utils import *"
   ]
  },
  {
   "cell_type": "markdown",
   "id": "f25d8a5b",
   "metadata": {},
   "source": [
    "## Useful contraints"
   ]
  },
  {
   "cell_type": "code",
   "execution_count": 3,
   "id": "f81eab93",
   "metadata": {
    "pycharm": {
     "name": "#%%\n"
    }
   },
   "outputs": [],
   "source": [
    "def at_least_one(bool_vars):\n",
    "    return Or(bool_vars)\n",
    "\n",
    "def at_most_one(bool_vars):\n",
    "    return [Not(And(pair[0], pair[1])) for pair in combinations(bool_vars, 2)]\n",
    "\n",
    "def exactly_one(solver, bool_vars):\n",
    "    solver.add(at_most_one(bool_vars))\n",
    "    solver.add(at_least_one(bool_vars))"
   ]
  },
  {
   "cell_type": "markdown",
   "id": "7e0773a8",
   "metadata": {},
   "source": [
    "## Knights and Knaves"
   ]
  },
  {
   "cell_type": "code",
   "execution_count": 5,
   "id": "f63f92c1",
   "metadata": {},
   "outputs": [
    {
     "name": "stdout",
     "output_type": "stream",
     "text": [
      "[AisKnight = True, BisKnight = True]\n"
     ]
    }
   ],
   "source": [
    "# Which are the variables?\n",
    "AisKnight = Bool(\"AisKnight\")\n",
    "BisKnight = Bool(\"BisKnight\")\n",
    "\n",
    "s = Solver()\n",
    "\n",
    "# Encode A's statement\n",
    "AStatement = Or(Not(AisKnight), BisKnight)\n",
    "\n",
    "# If A is a knight, then A's statement is true\n",
    "s.add(Implies(AisKnight, AStatement))\n",
    "# If A is a knave, then A's statement is a lie\n",
    "s.add(Implies(Not(AisKnight), Not(AStatement)))\n",
    "\n",
    "# Unicity check\n",
    "# s.add(Not(And(AisKnight, BisKnight)))\n",
    "\n",
    "if s.check() == sat:\n",
    "    print(s.model())\n",
    "else:\n",
    "    print(\"Failed to solve\")"
   ]
  },
  {
   "cell_type": "markdown",
   "id": "048d1ab0",
   "metadata": {},
   "source": [
    "## Coloring graph"
   ]
  },
  {
   "cell_type": "markdown",
   "id": "db9932e4",
   "metadata": {},
   "source": [
    "Another famous problem is the [coloring graph](https://www.google.com/url?sa=t&rct=j&q=&esrc=s&source=web&cd=&cad=rja&uact=8&ved=2ahUKEwjAlpGV4az2AhUP2aQKHY_5BQwQFnoECAQQAQ&url=https%3A%2F%2Fen.wikipedia.org%2Fwiki%2FGraph_coloring&usg=AOvVaw0F_XS2AN3uz4G-IJx5Q8j0). \n",
    "\n",
    "Given a graph $({v_1,...,v_n},E)$ and $d$ colors, we need to assign a color to each vertex, s.t. if $(v_i,v_j) ∈ E$ then color of $v_i$ is different from color of $v_j$. "
   ]
  },
  {
   "cell_type": "code",
   "execution_count": 14,
   "id": "8c485f56",
   "metadata": {},
   "outputs": [],
   "source": [
    "def coloring_graph_sat(n, d, E, use_at_most = True):\n",
    "   \n",
    "    # Solver instance\n",
    "    s = Solver()    \n",
    "    \n",
    "    # Model the problem"
   ]
  },
  {
   "cell_type": "code",
   "execution_count": 15,
   "id": "efdbca29",
   "metadata": {},
   "outputs": [],
   "source": [
    "instance1 = {\n",
    "        \"n\" : 5,\n",
    "        \"d\": 3,\n",
    "        \"E\" : [\n",
    "            (0, 2),\n",
    "            (0, 4),\n",
    "            (1, 2),\n",
    "            (1, 4),\n",
    "            (2, 3), \n",
    "            (3, 4)\n",
    "        ]\n",
    "    }\n",
    "instance2 = {\n",
    "        \"n\":10,\n",
    "        \"d\":3,\n",
    "        \"E\":[\n",
    "            (0, 1),\n",
    "            (0, 4),\n",
    "            (0, 5),\n",
    "            (1, 2),\n",
    "            (1, 6),\n",
    "            (2, 7),\n",
    "            (2, 3),\n",
    "            (3, 8),\n",
    "            (3, 4),\n",
    "            (4, 9),\n",
    "            (9, 6),\n",
    "            (9, 7),\n",
    "            (6, 8),\n",
    "            (5, 7),\n",
    "            (5, 8), \n",
    "        ]\n",
    "}"
   ]
  },
  {
   "cell_type": "markdown",
   "id": "b0e27f87",
   "metadata": {},
   "source": [
    "<b>Consideration:</b> is it necessary the at_most_one contraints on the color of vertices?"
   ]
  },
  {
   "cell_type": "markdown",
   "id": "50a7ea52",
   "metadata": {},
   "source": [
    "## N-Queens"
   ]
  },
  {
   "cell_type": "markdown",
   "id": "d18ea08c",
   "metadata": {},
   "source": [
    "The [n-queens problem](https://en.wikipedia.org/wiki/Eight_queens_puzzle) is the problem of placing n chess queens in a $nxn$ chessboard so that no two queens threaten each other. In light of this, the solution requires that no two queens share the same row, column, or diagonal."
   ]
  },
  {
   "cell_type": "code",
   "execution_count": 20,
   "id": "7f070a1e",
   "metadata": {
    "pycharm": {
     "name": "#%%\n"
    }
   },
   "outputs": [],
   "source": [
    "def nqueens_sat(n):\n",
    "    \n",
    "    s = Solver()\n",
    "\n",
    "    # Model the problem"
   ]
  },
  {
   "cell_type": "markdown",
   "id": "strange-condition",
   "metadata": {},
   "source": [
    "## Sudoku\n",
    "\n",
    "[Sudoku](https://en.wikipedia.org/wiki/Sudoku) is a logic-based, combinatorial number-placement puzzle. In classic sudoku, the objective is to fill a 9 × 9 grid with digits so that each column, each row, and each of the nine 3 × 3 subgrids that compose the grid contain all of the digits from 1 to 9. "
   ]
  },
  {
   "cell_type": "code",
   "execution_count": 22,
   "id": "charitable-branch",
   "metadata": {
    "pycharm": {
     "name": "#%%\n"
    }
   },
   "outputs": [],
   "source": [
    "# Sudoku instances, '0's correspond to empty cells\n",
    "\n",
    "instance1 = ((0, 0, 0, 0, 9, 4, 0, 3, 0),\n",
    "             (0, 0, 0, 5, 1, 0, 0, 0, 7),\n",
    "             (0, 8, 9, 0, 0, 0, 0, 4, 0),\n",
    "             (0, 0, 0, 0, 0, 0, 2, 0, 8),\n",
    "             (0, 6, 0, 2, 0, 1, 0, 5, 0),\n",
    "             (1, 0, 2, 0, 0, 0, 0, 0, 0),\n",
    "             (0, 7, 0, 0, 0, 0, 5, 2, 0),\n",
    "             (9, 0, 0, 0, 6, 5, 0, 0, 0),\n",
    "             (0, 4, 0, 9, 7, 0, 0, 0, 0))\n",
    "\n",
    "instance2 = ((0, 0, 0, 0, 9, 0, 1, 0, 0),\n",
    "             (2, 8, 0, 0, 0, 5, 0, 0, 0),\n",
    "             (7, 0, 0, 0, 0, 6, 4, 0, 0),\n",
    "             (8, 0, 5, 0, 0, 3, 0, 0, 6),\n",
    "             (0, 0, 1, 0, 0, 4, 0, 0, 0),\n",
    "             (0, 7, 0, 2, 0, 0, 0, 0, 0),\n",
    "             (3, 0, 0, 0, 0, 1, 0, 8, 0),\n",
    "             (0, 0, 0, 0, 0, 0, 0, 5, 0),\n",
    "             (0, 9, 0, 0, 0, 0, 0, 7, 0))\n",
    "\n",
    "instance3 = ((0, 7, 0, 0, 0, 0, 0, 4, 9),\n",
    "             (0, 0, 0, 4, 0, 0, 0, 0, 0),\n",
    "             (4, 0, 3, 5, 0, 7, 0, 0, 8),\n",
    "             (0, 0, 7, 2, 5, 0, 4, 0, 0),\n",
    "             (0, 0, 0, 0, 0, 0, 8, 0, 0),\n",
    "             (0, 0, 4, 0, 3, 0, 5, 9, 2),\n",
    "             (6, 1, 8, 0, 0, 0, 0, 0, 5),\n",
    "             (0, 9, 0, 1, 0, 0, 0, 3, 0),\n",
    "             (0, 0, 5, 0, 0, 0, 0, 0, 7))\n",
    "\n",
    "instance4 = ((0, 0, 0, 0, 0, 6, 0, 0, 0),\n",
    "             (0, 5, 9, 0, 0, 0, 0, 0, 8),\n",
    "             (2, 0, 0, 0, 0, 8, 0, 0, 0),\n",
    "             (0, 4, 5, 0, 0, 0, 0, 0, 0),\n",
    "             (0, 0, 3, 0, 0, 0, 0, 0, 0),\n",
    "             (0, 0, 6, 0, 0, 3, 0, 5, 4),\n",
    "             (0, 0, 0, 3, 2, 5, 0, 0, 6),\n",
    "             (0, 0, 0, 0, 0, 0, 0, 0, 0),\n",
    "             (0, 0, 0, 0, 0, 0, 0, 0, 0))"
   ]
  },
  {
   "cell_type": "code",
   "execution_count": 23,
   "id": "complete-single",
   "metadata": {
    "pycharm": {
     "name": "#%%\n"
    }
   },
   "outputs": [],
   "source": [
    "def sudoku_sat(instance):\n",
    "    \n",
    "    s = Solver()\n",
    "\n",
    "    # Model the problem"
   ]
  },
  {
   "cell_type": "markdown",
   "id": "f0f3cc1f",
   "metadata": {},
   "source": [
    "## Nurse scheduling problem"
   ]
  },
  {
   "cell_type": "markdown",
   "id": "8cae047c",
   "metadata": {},
   "source": [
    "In the next example, called [nurse scheduling problem](https://en.wikipedia.org/wiki/Nurse_scheduling_problem), a hospital supervisor needs to create a schedule for four nurses over a three-day period, subject to the following conditions:\n",
    "\n",
    "- Each day is divided into three 8-hour shifts.\n",
    "- Every day, each shift is assigned to a single nurse, and no nurse works more than one shift.\n",
    "- Each nurse is assigned to at least two shifts during the three-day period.\n"
   ]
  },
  {
   "cell_type": "code",
   "execution_count": 26,
   "id": "268ff20e",
   "metadata": {},
   "outputs": [],
   "source": [
    "instance = {\n",
    "    \"num_nurses\" : 4,\n",
    "    \"num_shifts\" : 3,\n",
    "    \"num_days\" : 3\n",
    "}"
   ]
  },
  {
   "cell_type": "markdown",
   "id": "f03dee6d",
   "metadata": {},
   "source": [
    "### Advanced useful contraints"
   ]
  },
  {
   "cell_type": "code",
   "execution_count": 27,
   "id": "f08178b7",
   "metadata": {},
   "outputs": [],
   "source": [
    "def at_least_k(bool_vars, k):\n",
    "    constraints = []\n",
    "    for i in range(k, len(bool_vars) + 1):\n",
    "        constraints+=[And([Not(var) if var not in pair else var for var in bool_vars]) for pair in combinations(bool_vars, i)]  \n",
    "    return Or(constraints)\n",
    "\n",
    "def at_most_k(bool_vars, k):\n",
    "    constraints = []\n",
    "    for i in range(k):\n",
    "        constraints+=[And([Not(var) if var not in pair else var for var in bool_vars]) for pair in combinations(bool_vars, i + 1)]  \n",
    "    return Or(constraints)\n",
    "\n",
    "def exactly_k(bool_vars, k):\n",
    "    return Or([And([Not(var) if var not in pair else var for var in bool_vars]) for pair in combinations(bool_vars, k)])"
   ]
  },
  {
   "cell_type": "markdown",
   "id": "d6314be1",
   "metadata": {},
   "source": [
    "## Try it yourself!\n",
    "\n",
    "Try to model the variables and constraints to solve the nurse scheduling problem, starting from the examples listed above. \n",
    "\n",
    "If possible, shifts should be distributed evenly and fairly, so that each nurse works the minimum amount of them. If this is not possible, because the total number of shifts is not divisible by the number of nurses, some nurses will be assigned one more shift, without crossing the maximum number of shifts which can be worked by each nurse"
   ]
  },
  {
   "cell_type": "code",
   "execution_count": 28,
   "id": "832e85c5",
   "metadata": {},
   "outputs": [],
   "source": [
    "def nurse_scheduling_sat(num_nurses, num_shifts, num_days):\n",
    "    \n",
    "    s = Solver()\n",
    "    \n",
    "    #Model the problem"
   ]
  }
 ],
 "metadata": {
  "kernelspec": {
   "display_name": "Python 3",
   "language": "python",
   "name": "python3"
  },
  "language_info": {
   "codemirror_mode": {
    "name": "ipython",
    "version": 3
   },
   "file_extension": ".py",
   "mimetype": "text/x-python",
   "name": "python",
   "nbconvert_exporter": "python",
   "pygments_lexer": "ipython3",
   "version": "3.8.8"
  }
 },
 "nbformat": 4,
 "nbformat_minor": 5
}
